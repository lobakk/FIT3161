{
 "cells": [
  {
   "cell_type": "markdown",
   "metadata": {},
   "source": [
    "BERTopic"
   ]
  },
  {
   "cell_type": "code",
   "execution_count": 1,
   "metadata": {},
   "outputs": [],
   "source": [
    "from bertopic import BERTopic\n",
    "import re\n",
    "import pandas as pd"
   ]
  },
  {
   "cell_type": "code",
   "execution_count": 2,
   "metadata": {},
   "outputs": [
    {
     "data": {
      "text/html": [
       "<div>\n",
       "<style scoped>\n",
       "    .dataframe tbody tr th:only-of-type {\n",
       "        vertical-align: middle;\n",
       "    }\n",
       "\n",
       "    .dataframe tbody tr th {\n",
       "        vertical-align: top;\n",
       "    }\n",
       "\n",
       "    .dataframe thead th {\n",
       "        text-align: right;\n",
       "    }\n",
       "</style>\n",
       "<table border=\"1\" class=\"dataframe\">\n",
       "  <thead>\n",
       "    <tr style=\"text-align: right;\">\n",
       "      <th></th>\n",
       "      <th>username</th>\n",
       "      <th>acctdesc</th>\n",
       "      <th>location</th>\n",
       "      <th>following</th>\n",
       "      <th>followers</th>\n",
       "      <th>totaltweets</th>\n",
       "      <th>usercreatedts</th>\n",
       "      <th>tweetcreatedts</th>\n",
       "      <th>retweetcount</th>\n",
       "      <th>text</th>\n",
       "      <th>hashtags</th>\n",
       "    </tr>\n",
       "  </thead>\n",
       "  <tbody>\n",
       "    <tr>\n",
       "      <th>0</th>\n",
       "      <td>PovarezhkaRu</td>\n",
       "      <td>Приветствую всех, на кулинарном портале https:...</td>\n",
       "      <td>NaN</td>\n",
       "      <td>0</td>\n",
       "      <td>0</td>\n",
       "      <td>3</td>\n",
       "      <td>2021-10-25 17:53:01+00:00</td>\n",
       "      <td>2022-01-23 18:55:42+00:00</td>\n",
       "      <td>22</td>\n",
       "      <td>🌎⚠️🔒 Check your VerusID Vault anywhere in the ...</td>\n",
       "      <td>[{'text': 'cryptocurrency', 'indices': [95, 11...</td>\n",
       "    </tr>\n",
       "    <tr>\n",
       "      <th>1</th>\n",
       "      <td>Z3roDoG3</td>\n",
       "      <td>NaN</td>\n",
       "      <td>NaN</td>\n",
       "      <td>687</td>\n",
       "      <td>61</td>\n",
       "      <td>1474</td>\n",
       "      <td>2018-09-25 05:18:25+00:00</td>\n",
       "      <td>2022-01-23 18:55:41+00:00</td>\n",
       "      <td>160</td>\n",
       "      <td>One reason I love crypto so much is because ev...</td>\n",
       "      <td>[]</td>\n",
       "    </tr>\n",
       "    <tr>\n",
       "      <th>2</th>\n",
       "      <td>jamorantq</td>\n",
       "      <td>NaN</td>\n",
       "      <td>NaN</td>\n",
       "      <td>195</td>\n",
       "      <td>1</td>\n",
       "      <td>47</td>\n",
       "      <td>2020-10-24 17:29:35+00:00</td>\n",
       "      <td>2022-01-23 18:55:40+00:00</td>\n",
       "      <td>24270</td>\n",
       "      <td>🎆🎆Happy New Year in advance!\\nWe will draw 10 ...</td>\n",
       "      <td>[]</td>\n",
       "    </tr>\n",
       "    <tr>\n",
       "      <th>3</th>\n",
       "      <td>_Burak_Dogu</td>\n",
       "      <td>$BICO $SXP $HMT $ATLAS $RACA $KIN</td>\n",
       "      <td>Sarıyer</td>\n",
       "      <td>638</td>\n",
       "      <td>52</td>\n",
       "      <td>1435</td>\n",
       "      <td>2013-02-02 19:46:05+00:00</td>\n",
       "      <td>2022-01-23 18:55:37+00:00</td>\n",
       "      <td>25718</td>\n",
       "      <td>🚀 Airdrop continue:Airdrop：https://t.co/NePHh1...</td>\n",
       "      <td>[]</td>\n",
       "    </tr>\n",
       "    <tr>\n",
       "      <th>4</th>\n",
       "      <td>EnginSenli1</td>\n",
       "      <td>NaN</td>\n",
       "      <td>Kocaeli</td>\n",
       "      <td>231</td>\n",
       "      <td>52</td>\n",
       "      <td>224</td>\n",
       "      <td>2016-08-04 16:06:39+00:00</td>\n",
       "      <td>2022-01-23 18:55:36+00:00</td>\n",
       "      <td>1</td>\n",
       "      <td>#etalbit\\n#vabeey\\n#denaar\\n#scammer\\n#cryptoc...</td>\n",
       "      <td>[{'text': 'etalbit', 'indices': [16, 24]}, {'t...</td>\n",
       "    </tr>\n",
       "  </tbody>\n",
       "</table>\n",
       "</div>"
      ],
      "text/plain": [
       "       username                                           acctdesc location  \\\n",
       "0  PovarezhkaRu  Приветствую всех, на кулинарном портале https:...      NaN   \n",
       "1      Z3roDoG3                                                NaN      NaN   \n",
       "2     jamorantq                                                NaN      NaN   \n",
       "3   _Burak_Dogu                  $BICO $SXP $HMT $ATLAS $RACA $KIN  Sarıyer   \n",
       "4   EnginSenli1                                                NaN  Kocaeli   \n",
       "\n",
       "   following  followers  totaltweets              usercreatedts  \\\n",
       "0          0          0            3  2021-10-25 17:53:01+00:00   \n",
       "1        687         61         1474  2018-09-25 05:18:25+00:00   \n",
       "2        195          1           47  2020-10-24 17:29:35+00:00   \n",
       "3        638         52         1435  2013-02-02 19:46:05+00:00   \n",
       "4        231         52          224  2016-08-04 16:06:39+00:00   \n",
       "\n",
       "              tweetcreatedts  retweetcount  \\\n",
       "0  2022-01-23 18:55:42+00:00            22   \n",
       "1  2022-01-23 18:55:41+00:00           160   \n",
       "2  2022-01-23 18:55:40+00:00         24270   \n",
       "3  2022-01-23 18:55:37+00:00         25718   \n",
       "4  2022-01-23 18:55:36+00:00             1   \n",
       "\n",
       "                                                text  \\\n",
       "0  🌎⚠️🔒 Check your VerusID Vault anywhere in the ...   \n",
       "1  One reason I love crypto so much is because ev...   \n",
       "2  🎆🎆Happy New Year in advance!\\nWe will draw 10 ...   \n",
       "3  🚀 Airdrop continue:Airdrop：https://t.co/NePHh1...   \n",
       "4  #etalbit\\n#vabeey\\n#denaar\\n#scammer\\n#cryptoc...   \n",
       "\n",
       "                                            hashtags  \n",
       "0  [{'text': 'cryptocurrency', 'indices': [95, 11...  \n",
       "1                                                 []  \n",
       "2                                                 []  \n",
       "3                                                 []  \n",
       "4  [{'text': 'etalbit', 'indices': [16, 24]}, {'t...  "
      ]
     },
     "execution_count": 2,
     "metadata": {},
     "output_type": "execute_result"
    }
   ],
   "source": [
    "tweets = pd.read_csv(r\"C:\\Users\\User\\Documents\\C2001\\FIT3161_3162\\FIT3161\\20220124_081532_crypto_tweets.csv\") \n",
    "tweets.head()"
   ]
  },
  {
   "cell_type": "code",
   "execution_count": 3,
   "metadata": {},
   "outputs": [],
   "source": [
    "tweets.text = tweets.apply(lambda row: re.sub(r\"http\\S+\", \"\", row.text).lower(), 1)\n",
    "tweets.text = tweets.apply(lambda row: \" \".join(filter(lambda x:x[0]!=\"@\", row.text.split())), 1)\n",
    "tweets.text = tweets.apply(lambda row: \" \".join(re.sub(\"[^a-zA-Z]+\", \" \", row.text).split()), 1)\n",
    "tweets = tweets.loc[(tweets.text != \"\"), :]\n",
    "timestamps = tweets.tweetcreatedts.to_list()\n",
    "tweets = tweets.text.to_list()"
   ]
  },
  {
   "cell_type": "code",
   "execution_count": 4,
   "metadata": {},
   "outputs": [
    {
     "name": "stderr",
     "output_type": "stream",
     "text": [
      "Batches: 100%|██████████| 563/563 [00:11<00:00, 47.08it/s]\n",
      "2022-01-25 05:59:35,478 - BERTopic - Transformed documents to Embeddings\n",
      "2022-01-25 06:00:03,943 - BERTopic - Reduced dimensionality with UMAP\n",
      "2022-01-25 06:00:06,241 - BERTopic - Clustered UMAP embeddings with HDBSCAN\n"
     ]
    }
   ],
   "source": [
    "topic_model = BERTopic(verbose=True)\n",
    "topics, probs = topic_model.fit_transform(tweets)"
   ]
  },
  {
   "cell_type": "code",
   "execution_count": 5,
   "metadata": {},
   "outputs": [
    {
     "name": "stderr",
     "output_type": "stream",
     "text": [
      "20it [00:05,  3.88it/s]\n"
     ]
    }
   ],
   "source": [
    "topics_over_time = topic_model.topics_over_time(tweets, topics, timestamps, nr_bins=20)\n"
   ]
  },
  {
   "cell_type": "code",
   "execution_count": 6,
   "metadata": {},
   "outputs": [
    {
     "data": {
      "application/vnd.plotly.v1+json": {
       "config": {
        "plotlyServerURL": "https://plot.ly"
       },
       "data": [
        {
         "hoverinfo": "text",
         "hovertext": [
          "<b>Topic 1</b><br>Words: ido, bngt, bunny, girl, announce",
          "<b>Topic 1</b><br>Words: ido, bngt, bunny, girl, announce",
          "<b>Topic 1</b><br>Words: ido, bngt, bunny, girl, announce",
          "<b>Topic 1</b><br>Words: ido, bngt, bunny, girl, announce",
          "<b>Topic 1</b><br>Words: ido, bngt, bunny, girl, announce",
          "<b>Topic 1</b><br>Words: ido, bngt, bunny, girl, announce",
          "<b>Topic 1</b><br>Words: ido, bngt, bunny, girl, announce",
          "<b>Topic 1</b><br>Words: ido, bngt, bunny, girl, announce",
          "<b>Topic 1</b><br>Words: ido, bngt, bunny, girl, announce",
          "<b>Topic 1</b><br>Words: ido, bngt, bunny, girl, announce",
          "<b>Topic 1</b><br>Words: ido, bngt, bunny, girl, announce",
          "<b>Topic 1</b><br>Words: ido, bngt, bunny, girl, announce",
          "<b>Topic 1</b><br>Words: ido, bngt, bunny, girl, announce",
          "<b>Topic 1</b><br>Words: ido, bunny, bngt, girl, announce",
          "<b>Topic 1</b><br>Words: ido, bngt, bunny, girl, announce",
          "<b>Topic 1</b><br>Words: ido, bngt, bunny, girl, announce",
          "<b>Topic 1</b><br>Words: ido, bngt, bunny, girl, announce",
          "<b>Topic 1</b><br>Words: ido, bngt, bunny, girl, announce",
          "<b>Topic 1</b><br>Words: ido, bngt, bunny, girl, announce",
          "<b>Topic 1</b><br>Words: ido, bngt, bunny, girl, announce"
         ],
         "marker": {
          "color": "#E69F00"
         },
         "mode": "lines",
         "name": "1_ido_bunny_bngt_girl",
         "type": "scatter",
         "x": [
          "2022-01-23T18:41:17.929999+00:00",
          "2022-01-23T18:57:30.500000+00:00",
          "2022-01-23T19:13:24+00:00",
          "2022-01-23T19:29:17.500000+00:00",
          "2022-01-23T19:45:11+00:00",
          "2022-01-23T20:01:04.500000+00:00",
          "2022-01-23T20:16:58+00:00",
          "2022-01-23T20:32:51.500000+00:00",
          "2022-01-23T20:48:45+00:00",
          "2022-01-23T21:04:38.500000+00:00",
          "2022-01-23T21:20:32+00:00",
          "2022-01-23T21:36:25.500000+00:00",
          "2022-01-23T21:52:19+00:00",
          "2022-01-23T22:08:12.500000+00:00",
          "2022-01-23T22:24:06+00:00",
          "2022-01-23T22:39:59.500000+00:00",
          "2022-01-23T22:55:53+00:00",
          "2022-01-23T23:11:46.500000+00:00",
          "2022-01-23T23:27:40+00:00",
          "2022-01-23T23:43:33.500000+00:00"
         ],
         "y": [
          31,
          24,
          21,
          16,
          25,
          20,
          17,
          14,
          12,
          26,
          18,
          19,
          18,
          17,
          23,
          11,
          14,
          18,
          26,
          16
         ]
        },
        {
         "hoverinfo": "text",
         "hovertext": [
          "<b>Topic 2</b><br>Words: popcoin, listing, sunswap, tronnetwork, pair",
          "<b>Topic 2</b><br>Words: popcoin, listing, sunswap, tronnetwork, pair",
          "<b>Topic 2</b><br>Words: popcoin, listing, sunswap, tronnetwork, pair",
          "<b>Topic 2</b><br>Words: popcoin, listing, sunswap, tronnetwork, pair",
          "<b>Topic 2</b><br>Words: popcoin, listing, sunswap, tronnetwork, pair",
          "<b>Topic 2</b><br>Words: popcoin, listing, sunswap, tronnetwork, pair",
          "<b>Topic 2</b><br>Words: popcoin, listing, sunswap, tronnetwork, pair",
          "<b>Topic 2</b><br>Words: popcoin, listing, sunswap, tronnetwork, pair",
          "<b>Topic 2</b><br>Words: popcoin, listing, sunswap, tronnetwork, pair",
          "<b>Topic 2</b><br>Words: popcoin, listing, sunswap, tronnetwork, pair",
          "<b>Topic 2</b><br>Words: popcoin, listing, sunswap, tronnetwork, pair",
          "<b>Topic 2</b><br>Words: popcoin, listing, tronnetwork, sunswap, pair",
          "<b>Topic 2</b><br>Words: popcoin, listing, sunswap, tronnetwork, pair",
          "<b>Topic 2</b><br>Words: popcoin, listing, sunswap, tronnetwork, pair",
          "<b>Topic 2</b><br>Words: popcoin, listing, sunswap, tronnetwork, pair",
          "<b>Topic 2</b><br>Words: popcoin, listing, sunswap, tronnetwork, pair",
          "<b>Topic 2</b><br>Words: popcoin, listing, sunswap, tronnetwork, pair",
          "<b>Topic 2</b><br>Words: popcoin, listing, sunswap, tronnetwork, pair",
          "<b>Topic 2</b><br>Words: popcoin, listing, sunswap, tronnetwork, pair",
          "<b>Topic 2</b><br>Words: popcoin, listing, sunswap, tronnetwork, pair"
         ],
         "marker": {
          "color": "#56B4E9"
         },
         "mode": "lines",
         "name": "2_popcoin_listing_tronnetwork_sunswap",
         "type": "scatter",
         "x": [
          "2022-01-23T18:41:17.929999+00:00",
          "2022-01-23T18:57:30.500000+00:00",
          "2022-01-23T19:13:24+00:00",
          "2022-01-23T19:29:17.500000+00:00",
          "2022-01-23T19:45:11+00:00",
          "2022-01-23T20:01:04.500000+00:00",
          "2022-01-23T20:16:58+00:00",
          "2022-01-23T20:32:51.500000+00:00",
          "2022-01-23T20:48:45+00:00",
          "2022-01-23T21:04:38.500000+00:00",
          "2022-01-23T21:20:32+00:00",
          "2022-01-23T21:36:25.500000+00:00",
          "2022-01-23T21:52:19+00:00",
          "2022-01-23T22:08:12.500000+00:00",
          "2022-01-23T22:24:06+00:00",
          "2022-01-23T22:39:59.500000+00:00",
          "2022-01-23T22:55:53+00:00",
          "2022-01-23T23:11:46.500000+00:00",
          "2022-01-23T23:27:40+00:00",
          "2022-01-23T23:43:33.500000+00:00"
         ],
         "y": [
          12,
          15,
          14,
          11,
          7,
          8,
          8,
          7,
          8,
          13,
          14,
          14,
          18,
          25,
          20,
          24,
          24,
          32,
          37,
          37
         ]
        },
        {
         "hoverinfo": "text",
         "hovertext": [
          "<b>Topic 3</b><br>Words: compagin, doges, fungible, form, non",
          "<b>Topic 3</b><br>Words: compagin, doges, fungible, form, non",
          "<b>Topic 3</b><br>Words: compagin, doges, fungible, form, non",
          "<b>Topic 3</b><br>Words: compagin, doges, fungible, form, non",
          "<b>Topic 3</b><br>Words: compagin, doges, fungible, form, non",
          "<b>Topic 3</b><br>Words: compagin, doges, fungible, form, non",
          "<b>Topic 3</b><br>Words: compagin, doges, fungible, form, non",
          "<b>Topic 3</b><br>Words: compagin, doges, fungible, form, non",
          "<b>Topic 3</b><br>Words: compagin, doges, fungible, form, non",
          "<b>Topic 3</b><br>Words: compagin, doges, fungible, form, non",
          "<b>Topic 3</b><br>Words: compagin, doges, fungible, form, non",
          "<b>Topic 3</b><br>Words: compagin, doges, fungible, form, non",
          "<b>Topic 3</b><br>Words: compagin, doges, fungible, form, non",
          "<b>Topic 3</b><br>Words: compagin, doges, fungible, form, non",
          "<b>Topic 3</b><br>Words: compagin, doges, fungible, form, non",
          "<b>Topic 3</b><br>Words: compagin, doges, fungible, form, non",
          "<b>Topic 3</b><br>Words: compagin, doges, fungible, form, non",
          "<b>Topic 3</b><br>Words: compagin, doges, fungible, form, non",
          "<b>Topic 3</b><br>Words: compagin, doges, fungible, form, non",
          "<b>Topic 3</b><br>Words: compagin, doges, fungible, form, non"
         ],
         "marker": {
          "color": "#009E73"
         },
         "mode": "lines",
         "name": "3_doges_compagin_fungible_form",
         "type": "scatter",
         "x": [
          "2022-01-23T18:41:17.929999+00:00",
          "2022-01-23T18:57:30.500000+00:00",
          "2022-01-23T19:13:24+00:00",
          "2022-01-23T19:29:17.500000+00:00",
          "2022-01-23T19:45:11+00:00",
          "2022-01-23T20:01:04.500000+00:00",
          "2022-01-23T20:16:58+00:00",
          "2022-01-23T20:32:51.500000+00:00",
          "2022-01-23T20:48:45+00:00",
          "2022-01-23T21:04:38.500000+00:00",
          "2022-01-23T21:20:32+00:00",
          "2022-01-23T21:36:25.500000+00:00",
          "2022-01-23T21:52:19+00:00",
          "2022-01-23T22:08:12.500000+00:00",
          "2022-01-23T22:24:06+00:00",
          "2022-01-23T22:39:59.500000+00:00",
          "2022-01-23T22:55:53+00:00",
          "2022-01-23T23:11:46.500000+00:00",
          "2022-01-23T23:27:40+00:00",
          "2022-01-23T23:43:33.500000+00:00"
         ],
         "y": [
          29,
          24,
          25,
          28,
          21,
          26,
          16,
          20,
          15,
          18,
          14,
          10,
          7,
          9,
          8,
          6,
          10,
          16,
          13,
          8
         ]
        },
        {
         "hoverinfo": "text",
         "hovertext": [
          "<b>Topic 4</b><br>Words: invested, feel, hodling, etherum, bearmarket",
          "<b>Topic 4</b><br>Words: invested, feel, hodling, etherum, bearmarket",
          "<b>Topic 4</b><br>Words: invested, feel, hodling, etherum, fear",
          "<b>Topic 4</b><br>Words: invested, feel, hodling, etherum, bearmarket",
          "<b>Topic 4</b><br>Words: invested, feel, hodling, etherum, bearmarket",
          "<b>Topic 4</b><br>Words: invested, feel, hodling, etherum, bearmarket",
          "<b>Topic 4</b><br>Words: invested, feel, hodling, etherum, bearmarket",
          "<b>Topic 4</b><br>Words: invested, feel, hodling, etherum, bearmarket",
          "<b>Topic 4</b><br>Words: invested, feel, hodling, etherum, bearmarket",
          "<b>Topic 4</b><br>Words: invested, feel, hodling, etherum, bearmarket",
          "<b>Topic 4</b><br>Words: invested, feel, hodling, etherum, bearmarket",
          "<b>Topic 4</b><br>Words: invested, feel, hodling, etherum, bearmarket",
          "<b>Topic 4</b><br>Words: invested, feel, hodling, etherum, buythedip",
          "<b>Topic 4</b><br>Words: invested, feel, hodling, etherum, bearmarket",
          "<b>Topic 4</b><br>Words: invested, feel, hodling, etherum, bearmarket",
          "<b>Topic 4</b><br>Words: invested, feel, hodling, etherum, bearmarket",
          "<b>Topic 4</b><br>Words: invested, feel, hodling, etherum, bearmarket",
          "<b>Topic 4</b><br>Words: invested, feel, hodling, etherum, bearmarket",
          "<b>Topic 4</b><br>Words: invested, feel, hodling, etherum, bearmarket",
          "<b>Topic 4</b><br>Words: invested, feel, hodling, etherum, bearmarket"
         ],
         "marker": {
          "color": "#F0E442"
         },
         "mode": "lines",
         "name": "4_invested_feel_hodling_etherum",
         "type": "scatter",
         "x": [
          "2022-01-23T18:41:17.929999+00:00",
          "2022-01-23T18:57:30.500000+00:00",
          "2022-01-23T19:13:24+00:00",
          "2022-01-23T19:29:17.500000+00:00",
          "2022-01-23T19:45:11+00:00",
          "2022-01-23T20:01:04.500000+00:00",
          "2022-01-23T20:16:58+00:00",
          "2022-01-23T20:32:51.500000+00:00",
          "2022-01-23T20:48:45+00:00",
          "2022-01-23T21:04:38.500000+00:00",
          "2022-01-23T21:20:32+00:00",
          "2022-01-23T21:36:25.500000+00:00",
          "2022-01-23T21:52:19+00:00",
          "2022-01-23T22:08:12.500000+00:00",
          "2022-01-23T22:24:06+00:00",
          "2022-01-23T22:39:59.500000+00:00",
          "2022-01-23T22:55:53+00:00",
          "2022-01-23T23:11:46.500000+00:00",
          "2022-01-23T23:27:40+00:00",
          "2022-01-23T23:43:33.500000+00:00"
         ],
         "y": [
          10,
          19,
          17,
          9,
          10,
          11,
          9,
          7,
          8,
          14,
          9,
          15,
          16,
          25,
          20,
          16,
          16,
          33,
          38,
          20
         ]
        },
        {
         "hoverinfo": "text",
         "hovertext": [
          "<b>Topic 5</b><br>Words: airdropcrypto, option, shill, busd, invest",
          "<b>Topic 5</b><br>Words: airdropcrypto, option, shill, busd, invest",
          "<b>Topic 5</b><br>Words: airdropcrypto, option, shill, busd, invest",
          "<b>Topic 5</b><br>Words: airdropcrypto, option, shill, busd, invest",
          "<b>Topic 5</b><br>Words: shill, airdropcrypto, option, invest, busd",
          "<b>Topic 5</b><br>Words: airdropcrypto, option, shill, busd, invest",
          "<b>Topic 5</b><br>Words: airdropcrypto, option, shill, busd, invest",
          "<b>Topic 5</b><br>Words: airdropcrypto, option, shill, busd, invest",
          "<b>Topic 5</b><br>Words: airdropcrypto, option, shill, busd, invest",
          "<b>Topic 5</b><br>Words: airdropcrypto, option, shill, busd, invest",
          "<b>Topic 5</b><br>Words: airdropcrypto, option, shill, busd, invest",
          "<b>Topic 5</b><br>Words: shill, airdropcrypto, option, invest, busd",
          "<b>Topic 5</b><br>Words: airdropcrypto, option, shill, busd, invest",
          "<b>Topic 5</b><br>Words: airdropcrypto, option, shill, busd, invest",
          "<b>Topic 5</b><br>Words: airdropcrypto, option, shill, busd, invest",
          "<b>Topic 5</b><br>Words: airdropcrypto, option, shill, busd, invest",
          "<b>Topic 5</b><br>Words: airdropcrypto, option, shill, busd, invest",
          "<b>Topic 5</b><br>Words: airdropcrypto, option, shill, busd, invest",
          "<b>Topic 5</b><br>Words: airdropcrypto, option, shill, busd, invest",
          "<b>Topic 5</b><br>Words: airdropcrypto, option, shill, busd, invest"
         ],
         "marker": {
          "color": "#D55E00"
         },
         "mode": "lines",
         "name": "5_airdropcrypto_option_shill_busd",
         "type": "scatter",
         "x": [
          "2022-01-23T18:41:17.929999+00:00",
          "2022-01-23T18:57:30.500000+00:00",
          "2022-01-23T19:13:24+00:00",
          "2022-01-23T19:29:17.500000+00:00",
          "2022-01-23T19:45:11+00:00",
          "2022-01-23T20:01:04.500000+00:00",
          "2022-01-23T20:16:58+00:00",
          "2022-01-23T20:32:51.500000+00:00",
          "2022-01-23T20:48:45+00:00",
          "2022-01-23T21:04:38.500000+00:00",
          "2022-01-23T21:20:32+00:00",
          "2022-01-23T21:36:25.500000+00:00",
          "2022-01-23T21:52:19+00:00",
          "2022-01-23T22:08:12.500000+00:00",
          "2022-01-23T22:24:06+00:00",
          "2022-01-23T22:39:59.500000+00:00",
          "2022-01-23T22:55:53+00:00",
          "2022-01-23T23:11:46.500000+00:00",
          "2022-01-23T23:27:40+00:00",
          "2022-01-23T23:43:33.500000+00:00"
         ],
         "y": [
          19,
          14,
          8,
          12,
          11,
          11,
          7,
          5,
          6,
          8,
          10,
          12,
          12,
          23,
          18,
          27,
          22,
          34,
          43,
          16
         ]
        },
        {
         "hoverinfo": "text",
         "hovertext": [
          "<b>Topic 0</b><br>Words: been, chinese, celebration, gather, lets",
          "<b>Topic 0</b><br>Words: been, chinese, celebration, gather, lets",
          "<b>Topic 0</b><br>Words: been, chinese, celebration, gather, lets",
          "<b>Topic 0</b><br>Words: been, chinese, celebration, gather, lets",
          "<b>Topic 0</b><br>Words: been, chinese, celebration, gather, lets",
          "<b>Topic 0</b><br>Words: been, chinese, celebration, gather, lets",
          "<b>Topic 0</b><br>Words: been, chinese, celebration, gather, lets",
          "<b>Topic 0</b><br>Words: been, chinese, celebration, gather, lets",
          "<b>Topic 0</b><br>Words: been, chinese, celebration, gather, lets",
          "<b>Topic 0</b><br>Words: been, chinese, celebration, gather, lets",
          "<b>Topic 0</b><br>Words: been, chinese, celebration, gather, lets",
          "<b>Topic 0</b><br>Words: been, chinese, celebration, gather, lets",
          "<b>Topic 0</b><br>Words: been, chinese, celebration, gather, lets",
          "<b>Topic 0</b><br>Words: been, chinese, celebration, gather, lets",
          "<b>Topic 0</b><br>Words: been, chinese, celebration, gather, lets",
          "<b>Topic 0</b><br>Words: been, chinese, celebration, gather, lets",
          "<b>Topic 0</b><br>Words: been, chinese, celebration, gather, lets",
          "<b>Topic 0</b><br>Words: been, chinese, celebration, gather, lets",
          "<b>Topic 0</b><br>Words: been, chinese, celebration, gather, lets"
         ],
         "marker": {
          "color": "#0072B2"
         },
         "mode": "lines",
         "name": "0_been_chinese_celebration_gather",
         "type": "scatter",
         "x": [
          "2022-01-23T18:57:30.500000+00:00",
          "2022-01-23T19:13:24+00:00",
          "2022-01-23T19:29:17.500000+00:00",
          "2022-01-23T19:45:11+00:00",
          "2022-01-23T20:01:04.500000+00:00",
          "2022-01-23T20:16:58+00:00",
          "2022-01-23T20:32:51.500000+00:00",
          "2022-01-23T20:48:45+00:00",
          "2022-01-23T21:04:38.500000+00:00",
          "2022-01-23T21:20:32+00:00",
          "2022-01-23T21:36:25.500000+00:00",
          "2022-01-23T21:52:19+00:00",
          "2022-01-23T22:08:12.500000+00:00",
          "2022-01-23T22:24:06+00:00",
          "2022-01-23T22:39:59.500000+00:00",
          "2022-01-23T22:55:53+00:00",
          "2022-01-23T23:11:46.500000+00:00",
          "2022-01-23T23:27:40+00:00",
          "2022-01-23T23:43:33.500000+00:00"
         ],
         "y": [
          45,
          1,
          27,
          22,
          16,
          20,
          28,
          19,
          53,
          34,
          43,
          32,
          9,
          15,
          19,
          27,
          40,
          31,
          14
         ]
        }
       ],
       "layout": {
        "height": 450,
        "hoverlabel": {
         "bgcolor": "white",
         "font": {
          "family": "Rockwell",
          "size": 16
         }
        },
        "legend": {
         "title": {
          "text": "<b>Global Topic Representation"
         }
        },
        "template": {
         "data": {
          "bar": [
           {
            "error_x": {
             "color": "rgb(36,36,36)"
            },
            "error_y": {
             "color": "rgb(36,36,36)"
            },
            "marker": {
             "line": {
              "color": "white",
              "width": 0.5
             },
             "pattern": {
              "fillmode": "overlay",
              "size": 10,
              "solidity": 0.2
             }
            },
            "type": "bar"
           }
          ],
          "barpolar": [
           {
            "marker": {
             "line": {
              "color": "white",
              "width": 0.5
             },
             "pattern": {
              "fillmode": "overlay",
              "size": 10,
              "solidity": 0.2
             }
            },
            "type": "barpolar"
           }
          ],
          "carpet": [
           {
            "aaxis": {
             "endlinecolor": "rgb(36,36,36)",
             "gridcolor": "white",
             "linecolor": "white",
             "minorgridcolor": "white",
             "startlinecolor": "rgb(36,36,36)"
            },
            "baxis": {
             "endlinecolor": "rgb(36,36,36)",
             "gridcolor": "white",
             "linecolor": "white",
             "minorgridcolor": "white",
             "startlinecolor": "rgb(36,36,36)"
            },
            "type": "carpet"
           }
          ],
          "choropleth": [
           {
            "colorbar": {
             "outlinewidth": 1,
             "tickcolor": "rgb(36,36,36)",
             "ticks": "outside"
            },
            "type": "choropleth"
           }
          ],
          "contour": [
           {
            "colorbar": {
             "outlinewidth": 1,
             "tickcolor": "rgb(36,36,36)",
             "ticks": "outside"
            },
            "colorscale": [
             [
              0,
              "#440154"
             ],
             [
              0.1111111111111111,
              "#482878"
             ],
             [
              0.2222222222222222,
              "#3e4989"
             ],
             [
              0.3333333333333333,
              "#31688e"
             ],
             [
              0.4444444444444444,
              "#26828e"
             ],
             [
              0.5555555555555556,
              "#1f9e89"
             ],
             [
              0.6666666666666666,
              "#35b779"
             ],
             [
              0.7777777777777778,
              "#6ece58"
             ],
             [
              0.8888888888888888,
              "#b5de2b"
             ],
             [
              1,
              "#fde725"
             ]
            ],
            "type": "contour"
           }
          ],
          "contourcarpet": [
           {
            "colorbar": {
             "outlinewidth": 1,
             "tickcolor": "rgb(36,36,36)",
             "ticks": "outside"
            },
            "type": "contourcarpet"
           }
          ],
          "heatmap": [
           {
            "colorbar": {
             "outlinewidth": 1,
             "tickcolor": "rgb(36,36,36)",
             "ticks": "outside"
            },
            "colorscale": [
             [
              0,
              "#440154"
             ],
             [
              0.1111111111111111,
              "#482878"
             ],
             [
              0.2222222222222222,
              "#3e4989"
             ],
             [
              0.3333333333333333,
              "#31688e"
             ],
             [
              0.4444444444444444,
              "#26828e"
             ],
             [
              0.5555555555555556,
              "#1f9e89"
             ],
             [
              0.6666666666666666,
              "#35b779"
             ],
             [
              0.7777777777777778,
              "#6ece58"
             ],
             [
              0.8888888888888888,
              "#b5de2b"
             ],
             [
              1,
              "#fde725"
             ]
            ],
            "type": "heatmap"
           }
          ],
          "heatmapgl": [
           {
            "colorbar": {
             "outlinewidth": 1,
             "tickcolor": "rgb(36,36,36)",
             "ticks": "outside"
            },
            "colorscale": [
             [
              0,
              "#440154"
             ],
             [
              0.1111111111111111,
              "#482878"
             ],
             [
              0.2222222222222222,
              "#3e4989"
             ],
             [
              0.3333333333333333,
              "#31688e"
             ],
             [
              0.4444444444444444,
              "#26828e"
             ],
             [
              0.5555555555555556,
              "#1f9e89"
             ],
             [
              0.6666666666666666,
              "#35b779"
             ],
             [
              0.7777777777777778,
              "#6ece58"
             ],
             [
              0.8888888888888888,
              "#b5de2b"
             ],
             [
              1,
              "#fde725"
             ]
            ],
            "type": "heatmapgl"
           }
          ],
          "histogram": [
           {
            "marker": {
             "line": {
              "color": "white",
              "width": 0.6
             }
            },
            "type": "histogram"
           }
          ],
          "histogram2d": [
           {
            "colorbar": {
             "outlinewidth": 1,
             "tickcolor": "rgb(36,36,36)",
             "ticks": "outside"
            },
            "colorscale": [
             [
              0,
              "#440154"
             ],
             [
              0.1111111111111111,
              "#482878"
             ],
             [
              0.2222222222222222,
              "#3e4989"
             ],
             [
              0.3333333333333333,
              "#31688e"
             ],
             [
              0.4444444444444444,
              "#26828e"
             ],
             [
              0.5555555555555556,
              "#1f9e89"
             ],
             [
              0.6666666666666666,
              "#35b779"
             ],
             [
              0.7777777777777778,
              "#6ece58"
             ],
             [
              0.8888888888888888,
              "#b5de2b"
             ],
             [
              1,
              "#fde725"
             ]
            ],
            "type": "histogram2d"
           }
          ],
          "histogram2dcontour": [
           {
            "colorbar": {
             "outlinewidth": 1,
             "tickcolor": "rgb(36,36,36)",
             "ticks": "outside"
            },
            "colorscale": [
             [
              0,
              "#440154"
             ],
             [
              0.1111111111111111,
              "#482878"
             ],
             [
              0.2222222222222222,
              "#3e4989"
             ],
             [
              0.3333333333333333,
              "#31688e"
             ],
             [
              0.4444444444444444,
              "#26828e"
             ],
             [
              0.5555555555555556,
              "#1f9e89"
             ],
             [
              0.6666666666666666,
              "#35b779"
             ],
             [
              0.7777777777777778,
              "#6ece58"
             ],
             [
              0.8888888888888888,
              "#b5de2b"
             ],
             [
              1,
              "#fde725"
             ]
            ],
            "type": "histogram2dcontour"
           }
          ],
          "mesh3d": [
           {
            "colorbar": {
             "outlinewidth": 1,
             "tickcolor": "rgb(36,36,36)",
             "ticks": "outside"
            },
            "type": "mesh3d"
           }
          ],
          "parcoords": [
           {
            "line": {
             "colorbar": {
              "outlinewidth": 1,
              "tickcolor": "rgb(36,36,36)",
              "ticks": "outside"
             }
            },
            "type": "parcoords"
           }
          ],
          "pie": [
           {
            "automargin": true,
            "type": "pie"
           }
          ],
          "scatter": [
           {
            "marker": {
             "colorbar": {
              "outlinewidth": 1,
              "tickcolor": "rgb(36,36,36)",
              "ticks": "outside"
             }
            },
            "type": "scatter"
           }
          ],
          "scatter3d": [
           {
            "line": {
             "colorbar": {
              "outlinewidth": 1,
              "tickcolor": "rgb(36,36,36)",
              "ticks": "outside"
             }
            },
            "marker": {
             "colorbar": {
              "outlinewidth": 1,
              "tickcolor": "rgb(36,36,36)",
              "ticks": "outside"
             }
            },
            "type": "scatter3d"
           }
          ],
          "scattercarpet": [
           {
            "marker": {
             "colorbar": {
              "outlinewidth": 1,
              "tickcolor": "rgb(36,36,36)",
              "ticks": "outside"
             }
            },
            "type": "scattercarpet"
           }
          ],
          "scattergeo": [
           {
            "marker": {
             "colorbar": {
              "outlinewidth": 1,
              "tickcolor": "rgb(36,36,36)",
              "ticks": "outside"
             }
            },
            "type": "scattergeo"
           }
          ],
          "scattergl": [
           {
            "marker": {
             "colorbar": {
              "outlinewidth": 1,
              "tickcolor": "rgb(36,36,36)",
              "ticks": "outside"
             }
            },
            "type": "scattergl"
           }
          ],
          "scattermapbox": [
           {
            "marker": {
             "colorbar": {
              "outlinewidth": 1,
              "tickcolor": "rgb(36,36,36)",
              "ticks": "outside"
             }
            },
            "type": "scattermapbox"
           }
          ],
          "scatterpolar": [
           {
            "marker": {
             "colorbar": {
              "outlinewidth": 1,
              "tickcolor": "rgb(36,36,36)",
              "ticks": "outside"
             }
            },
            "type": "scatterpolar"
           }
          ],
          "scatterpolargl": [
           {
            "marker": {
             "colorbar": {
              "outlinewidth": 1,
              "tickcolor": "rgb(36,36,36)",
              "ticks": "outside"
             }
            },
            "type": "scatterpolargl"
           }
          ],
          "scatterternary": [
           {
            "marker": {
             "colorbar": {
              "outlinewidth": 1,
              "tickcolor": "rgb(36,36,36)",
              "ticks": "outside"
             }
            },
            "type": "scatterternary"
           }
          ],
          "surface": [
           {
            "colorbar": {
             "outlinewidth": 1,
             "tickcolor": "rgb(36,36,36)",
             "ticks": "outside"
            },
            "colorscale": [
             [
              0,
              "#440154"
             ],
             [
              0.1111111111111111,
              "#482878"
             ],
             [
              0.2222222222222222,
              "#3e4989"
             ],
             [
              0.3333333333333333,
              "#31688e"
             ],
             [
              0.4444444444444444,
              "#26828e"
             ],
             [
              0.5555555555555556,
              "#1f9e89"
             ],
             [
              0.6666666666666666,
              "#35b779"
             ],
             [
              0.7777777777777778,
              "#6ece58"
             ],
             [
              0.8888888888888888,
              "#b5de2b"
             ],
             [
              1,
              "#fde725"
             ]
            ],
            "type": "surface"
           }
          ],
          "table": [
           {
            "cells": {
             "fill": {
              "color": "rgb(237,237,237)"
             },
             "line": {
              "color": "white"
             }
            },
            "header": {
             "fill": {
              "color": "rgb(217,217,217)"
             },
             "line": {
              "color": "white"
             }
            },
            "type": "table"
           }
          ]
         },
         "layout": {
          "annotationdefaults": {
           "arrowhead": 0,
           "arrowwidth": 1
          },
          "autotypenumbers": "strict",
          "coloraxis": {
           "colorbar": {
            "outlinewidth": 1,
            "tickcolor": "rgb(36,36,36)",
            "ticks": "outside"
           }
          },
          "colorscale": {
           "diverging": [
            [
             0,
             "rgb(103,0,31)"
            ],
            [
             0.1,
             "rgb(178,24,43)"
            ],
            [
             0.2,
             "rgb(214,96,77)"
            ],
            [
             0.3,
             "rgb(244,165,130)"
            ],
            [
             0.4,
             "rgb(253,219,199)"
            ],
            [
             0.5,
             "rgb(247,247,247)"
            ],
            [
             0.6,
             "rgb(209,229,240)"
            ],
            [
             0.7,
             "rgb(146,197,222)"
            ],
            [
             0.8,
             "rgb(67,147,195)"
            ],
            [
             0.9,
             "rgb(33,102,172)"
            ],
            [
             1,
             "rgb(5,48,97)"
            ]
           ],
           "sequential": [
            [
             0,
             "#440154"
            ],
            [
             0.1111111111111111,
             "#482878"
            ],
            [
             0.2222222222222222,
             "#3e4989"
            ],
            [
             0.3333333333333333,
             "#31688e"
            ],
            [
             0.4444444444444444,
             "#26828e"
            ],
            [
             0.5555555555555556,
             "#1f9e89"
            ],
            [
             0.6666666666666666,
             "#35b779"
            ],
            [
             0.7777777777777778,
             "#6ece58"
            ],
            [
             0.8888888888888888,
             "#b5de2b"
            ],
            [
             1,
             "#fde725"
            ]
           ],
           "sequentialminus": [
            [
             0,
             "#440154"
            ],
            [
             0.1111111111111111,
             "#482878"
            ],
            [
             0.2222222222222222,
             "#3e4989"
            ],
            [
             0.3333333333333333,
             "#31688e"
            ],
            [
             0.4444444444444444,
             "#26828e"
            ],
            [
             0.5555555555555556,
             "#1f9e89"
            ],
            [
             0.6666666666666666,
             "#35b779"
            ],
            [
             0.7777777777777778,
             "#6ece58"
            ],
            [
             0.8888888888888888,
             "#b5de2b"
            ],
            [
             1,
             "#fde725"
            ]
           ]
          },
          "colorway": [
           "#1F77B4",
           "#FF7F0E",
           "#2CA02C",
           "#D62728",
           "#9467BD",
           "#8C564B",
           "#E377C2",
           "#7F7F7F",
           "#BCBD22",
           "#17BECF"
          ],
          "font": {
           "color": "rgb(36,36,36)"
          },
          "geo": {
           "bgcolor": "white",
           "lakecolor": "white",
           "landcolor": "white",
           "showlakes": true,
           "showland": true,
           "subunitcolor": "white"
          },
          "hoverlabel": {
           "align": "left"
          },
          "hovermode": "closest",
          "mapbox": {
           "style": "light"
          },
          "paper_bgcolor": "white",
          "plot_bgcolor": "white",
          "polar": {
           "angularaxis": {
            "gridcolor": "rgb(232,232,232)",
            "linecolor": "rgb(36,36,36)",
            "showgrid": false,
            "showline": true,
            "ticks": "outside"
           },
           "bgcolor": "white",
           "radialaxis": {
            "gridcolor": "rgb(232,232,232)",
            "linecolor": "rgb(36,36,36)",
            "showgrid": false,
            "showline": true,
            "ticks": "outside"
           }
          },
          "scene": {
           "xaxis": {
            "backgroundcolor": "white",
            "gridcolor": "rgb(232,232,232)",
            "gridwidth": 2,
            "linecolor": "rgb(36,36,36)",
            "showbackground": true,
            "showgrid": false,
            "showline": true,
            "ticks": "outside",
            "zeroline": false,
            "zerolinecolor": "rgb(36,36,36)"
           },
           "yaxis": {
            "backgroundcolor": "white",
            "gridcolor": "rgb(232,232,232)",
            "gridwidth": 2,
            "linecolor": "rgb(36,36,36)",
            "showbackground": true,
            "showgrid": false,
            "showline": true,
            "ticks": "outside",
            "zeroline": false,
            "zerolinecolor": "rgb(36,36,36)"
           },
           "zaxis": {
            "backgroundcolor": "white",
            "gridcolor": "rgb(232,232,232)",
            "gridwidth": 2,
            "linecolor": "rgb(36,36,36)",
            "showbackground": true,
            "showgrid": false,
            "showline": true,
            "ticks": "outside",
            "zeroline": false,
            "zerolinecolor": "rgb(36,36,36)"
           }
          },
          "shapedefaults": {
           "fillcolor": "black",
           "line": {
            "width": 0
           },
           "opacity": 0.3
          },
          "ternary": {
           "aaxis": {
            "gridcolor": "rgb(232,232,232)",
            "linecolor": "rgb(36,36,36)",
            "showgrid": false,
            "showline": true,
            "ticks": "outside"
           },
           "baxis": {
            "gridcolor": "rgb(232,232,232)",
            "linecolor": "rgb(36,36,36)",
            "showgrid": false,
            "showline": true,
            "ticks": "outside"
           },
           "bgcolor": "white",
           "caxis": {
            "gridcolor": "rgb(232,232,232)",
            "linecolor": "rgb(36,36,36)",
            "showgrid": false,
            "showline": true,
            "ticks": "outside"
           }
          },
          "title": {
           "x": 0.05
          },
          "xaxis": {
           "automargin": true,
           "gridcolor": "rgb(232,232,232)",
           "linecolor": "rgb(36,36,36)",
           "showgrid": false,
           "showline": true,
           "ticks": "outside",
           "title": {
            "standoff": 15
           },
           "zeroline": false,
           "zerolinecolor": "rgb(36,36,36)"
          },
          "yaxis": {
           "automargin": true,
           "gridcolor": "rgb(232,232,232)",
           "linecolor": "rgb(36,36,36)",
           "showgrid": false,
           "showline": true,
           "ticks": "outside",
           "title": {
            "standoff": 15
           },
           "zeroline": false,
           "zerolinecolor": "rgb(36,36,36)"
          }
         }
        },
        "title": {
         "font": {
          "color": "Black",
          "size": 22
         },
         "text": "<b>Topics over Time",
         "x": 0.4,
         "xanchor": "center",
         "y": 0.95,
         "yanchor": "top"
        },
        "width": 1250,
        "xaxis": {
         "showgrid": true
        },
        "yaxis": {
         "showgrid": true,
         "title": {
          "text": "Frequency"
         }
        }
       }
      }
     },
     "metadata": {},
     "output_type": "display_data"
    }
   ],
   "source": [
    "topic_model.visualize_topics_over_time(topics_over_time, top_n_topics=6)\n"
   ]
  },
  {
   "cell_type": "code",
   "execution_count": 14,
   "metadata": {},
   "outputs": [
    {
     "name": "stdout",
     "output_type": "stream",
     "text": [
      "2022-01-24T02:00:00+00:00\n",
      "[*********************100%***********************]  1 of 1 completed\n"
     ]
    }
   ],
   "source": [
    "import pandas as pd\n",
    "import yfinance as yf\n",
    "import pendulum\n",
    "\n",
    "pd.options.display.max_rows=10  # To decrease printouts\n",
    "start = pendulum.parse('2022-01-23 18:00').add(hours=8)  # My tz is UTC+08:00, original TZ UTC-04:00. So adds to my local time 7 hours\n",
    "end = pendulum.parse('2022-01-23 23:59').add(hours=8) # Same\n",
    "print(start)\n",
    "btc = yf.download(tickers=\"BTC-USD\", interval=\"1m\", start=start, end=end)\n",
    "\n"
   ]
  },
  {
   "cell_type": "code",
   "execution_count": 15,
   "metadata": {},
   "outputs": [
    {
     "data": {
      "text/html": [
       "<div>\n",
       "<style scoped>\n",
       "    .dataframe tbody tr th:only-of-type {\n",
       "        vertical-align: middle;\n",
       "    }\n",
       "\n",
       "    .dataframe tbody tr th {\n",
       "        vertical-align: top;\n",
       "    }\n",
       "\n",
       "    .dataframe thead th {\n",
       "        text-align: right;\n",
       "    }\n",
       "</style>\n",
       "<table border=\"1\" class=\"dataframe\">\n",
       "  <thead>\n",
       "    <tr style=\"text-align: right;\">\n",
       "      <th></th>\n",
       "      <th>Open</th>\n",
       "      <th>High</th>\n",
       "      <th>Low</th>\n",
       "      <th>Close</th>\n",
       "      <th>Adj Close</th>\n",
       "      <th>Volume</th>\n",
       "    </tr>\n",
       "    <tr>\n",
       "      <th>Datetime</th>\n",
       "      <th></th>\n",
       "      <th></th>\n",
       "      <th></th>\n",
       "      <th></th>\n",
       "      <th></th>\n",
       "      <th></th>\n",
       "    </tr>\n",
       "  </thead>\n",
       "  <tbody>\n",
       "    <tr>\n",
       "      <th>2022-01-23 18:00:00+00:00</th>\n",
       "      <td>35378.500000</td>\n",
       "      <td>35378.500000</td>\n",
       "      <td>35378.500000</td>\n",
       "      <td>35378.500000</td>\n",
       "      <td>35378.500000</td>\n",
       "      <td>0</td>\n",
       "    </tr>\n",
       "    <tr>\n",
       "      <th>2022-01-23 18:01:00+00:00</th>\n",
       "      <td>35357.859375</td>\n",
       "      <td>35357.859375</td>\n",
       "      <td>35357.859375</td>\n",
       "      <td>35357.859375</td>\n",
       "      <td>35357.859375</td>\n",
       "      <td>0</td>\n",
       "    </tr>\n",
       "    <tr>\n",
       "      <th>2022-01-23 18:02:00+00:00</th>\n",
       "      <td>35356.687500</td>\n",
       "      <td>35356.687500</td>\n",
       "      <td>35356.687500</td>\n",
       "      <td>35356.687500</td>\n",
       "      <td>35356.687500</td>\n",
       "      <td>0</td>\n",
       "    </tr>\n",
       "    <tr>\n",
       "      <th>2022-01-23 18:03:00+00:00</th>\n",
       "      <td>35358.855469</td>\n",
       "      <td>35358.855469</td>\n",
       "      <td>35358.855469</td>\n",
       "      <td>35358.855469</td>\n",
       "      <td>35358.855469</td>\n",
       "      <td>0</td>\n",
       "    </tr>\n",
       "    <tr>\n",
       "      <th>2022-01-23 18:04:00+00:00</th>\n",
       "      <td>35369.082031</td>\n",
       "      <td>35369.082031</td>\n",
       "      <td>35369.082031</td>\n",
       "      <td>35369.082031</td>\n",
       "      <td>35369.082031</td>\n",
       "      <td>0</td>\n",
       "    </tr>\n",
       "  </tbody>\n",
       "</table>\n",
       "</div>"
      ],
      "text/plain": [
       "                                   Open          High           Low  \\\n",
       "Datetime                                                              \n",
       "2022-01-23 18:00:00+00:00  35378.500000  35378.500000  35378.500000   \n",
       "2022-01-23 18:01:00+00:00  35357.859375  35357.859375  35357.859375   \n",
       "2022-01-23 18:02:00+00:00  35356.687500  35356.687500  35356.687500   \n",
       "2022-01-23 18:03:00+00:00  35358.855469  35358.855469  35358.855469   \n",
       "2022-01-23 18:04:00+00:00  35369.082031  35369.082031  35369.082031   \n",
       "\n",
       "                                  Close     Adj Close  Volume  \n",
       "Datetime                                                       \n",
       "2022-01-23 18:00:00+00:00  35378.500000  35378.500000       0  \n",
       "2022-01-23 18:01:00+00:00  35357.859375  35357.859375       0  \n",
       "2022-01-23 18:02:00+00:00  35356.687500  35356.687500       0  \n",
       "2022-01-23 18:03:00+00:00  35358.855469  35358.855469       0  \n",
       "2022-01-23 18:04:00+00:00  35369.082031  35369.082031       0  "
      ]
     },
     "execution_count": 15,
     "metadata": {},
     "output_type": "execute_result"
    }
   ],
   "source": [
    "btc.head()"
   ]
  },
  {
   "cell_type": "code",
   "execution_count": 18,
   "metadata": {},
   "outputs": [
    {
     "data": {
      "application/vnd.plotly.v1+json": {
       "config": {
        "plotlyServerURL": "https://plot.ly"
       },
       "data": [
        {
         "type": "scatter",
         "x": [
          "2022-01-23T18:00:00+00:00",
          "2022-01-23T18:01:00+00:00",
          "2022-01-23T18:02:00+00:00",
          "2022-01-23T18:03:00+00:00",
          "2022-01-23T18:04:00+00:00",
          "2022-01-23T18:05:00+00:00",
          "2022-01-23T18:06:00+00:00",
          "2022-01-23T18:07:00+00:00",
          "2022-01-23T18:08:00+00:00",
          "2022-01-23T18:09:00+00:00",
          "2022-01-23T18:10:00+00:00",
          "2022-01-23T18:11:00+00:00",
          "2022-01-23T18:12:00+00:00",
          "2022-01-23T18:13:00+00:00",
          "2022-01-23T18:14:00+00:00",
          "2022-01-23T18:15:00+00:00",
          "2022-01-23T18:16:00+00:00",
          "2022-01-23T18:17:00+00:00",
          "2022-01-23T18:18:00+00:00",
          "2022-01-23T18:19:00+00:00",
          "2022-01-23T18:20:00+00:00",
          "2022-01-23T18:21:00+00:00",
          "2022-01-23T18:22:00+00:00",
          "2022-01-23T18:23:00+00:00",
          "2022-01-23T18:24:00+00:00",
          "2022-01-23T18:25:00+00:00",
          "2022-01-23T18:26:00+00:00",
          "2022-01-23T18:27:00+00:00",
          "2022-01-23T18:28:00+00:00",
          "2022-01-23T18:29:00+00:00",
          "2022-01-23T18:30:00+00:00",
          "2022-01-23T18:31:00+00:00",
          "2022-01-23T18:32:00+00:00",
          "2022-01-23T18:33:00+00:00",
          "2022-01-23T18:34:00+00:00",
          "2022-01-23T18:35:00+00:00",
          "2022-01-23T18:36:00+00:00",
          "2022-01-23T18:37:00+00:00",
          "2022-01-23T18:38:00+00:00",
          "2022-01-23T18:39:00+00:00",
          "2022-01-23T18:40:00+00:00",
          "2022-01-23T18:41:00+00:00",
          "2022-01-23T18:42:00+00:00",
          "2022-01-23T18:43:00+00:00",
          "2022-01-23T18:44:00+00:00",
          "2022-01-23T18:45:00+00:00",
          "2022-01-23T18:46:00+00:00",
          "2022-01-23T18:47:00+00:00",
          "2022-01-23T18:48:00+00:00",
          "2022-01-23T18:49:00+00:00",
          "2022-01-23T18:50:00+00:00",
          "2022-01-23T18:51:00+00:00",
          "2022-01-23T18:52:00+00:00",
          "2022-01-23T18:53:00+00:00",
          "2022-01-23T18:54:00+00:00",
          "2022-01-23T18:55:00+00:00",
          "2022-01-23T18:56:00+00:00",
          "2022-01-23T18:57:00+00:00",
          "2022-01-23T18:58:00+00:00",
          "2022-01-23T18:59:00+00:00",
          "2022-01-23T19:00:00+00:00",
          "2022-01-23T19:01:00+00:00",
          "2022-01-23T19:02:00+00:00",
          "2022-01-23T19:03:00+00:00",
          "2022-01-23T19:04:00+00:00",
          "2022-01-23T19:05:00+00:00",
          "2022-01-23T19:06:00+00:00",
          "2022-01-23T19:07:00+00:00",
          "2022-01-23T19:08:00+00:00",
          "2022-01-23T19:09:00+00:00",
          "2022-01-23T19:10:00+00:00",
          "2022-01-23T19:11:00+00:00",
          "2022-01-23T19:12:00+00:00",
          "2022-01-23T19:13:00+00:00",
          "2022-01-23T19:14:00+00:00",
          "2022-01-23T19:15:00+00:00",
          "2022-01-23T19:16:00+00:00",
          "2022-01-23T19:17:00+00:00",
          "2022-01-23T19:18:00+00:00",
          "2022-01-23T19:19:00+00:00",
          "2022-01-23T19:20:00+00:00",
          "2022-01-23T19:21:00+00:00",
          "2022-01-23T19:22:00+00:00",
          "2022-01-23T19:23:00+00:00",
          "2022-01-23T19:24:00+00:00",
          "2022-01-23T19:25:00+00:00",
          "2022-01-23T19:26:00+00:00",
          "2022-01-23T19:27:00+00:00",
          "2022-01-23T19:28:00+00:00",
          "2022-01-23T19:29:00+00:00",
          "2022-01-23T19:30:00+00:00",
          "2022-01-23T19:31:00+00:00",
          "2022-01-23T19:32:00+00:00",
          "2022-01-23T19:33:00+00:00",
          "2022-01-23T19:34:00+00:00",
          "2022-01-23T19:35:00+00:00",
          "2022-01-23T19:36:00+00:00",
          "2022-01-23T19:37:00+00:00",
          "2022-01-23T19:38:00+00:00",
          "2022-01-23T19:39:00+00:00",
          "2022-01-23T19:40:00+00:00",
          "2022-01-23T19:41:00+00:00",
          "2022-01-23T19:42:00+00:00",
          "2022-01-23T19:43:00+00:00",
          "2022-01-23T19:44:00+00:00",
          "2022-01-23T19:45:00+00:00",
          "2022-01-23T19:46:00+00:00",
          "2022-01-23T19:47:00+00:00",
          "2022-01-23T19:48:00+00:00",
          "2022-01-23T19:49:00+00:00",
          "2022-01-23T19:50:00+00:00",
          "2022-01-23T19:51:00+00:00",
          "2022-01-23T19:52:00+00:00",
          "2022-01-23T19:53:00+00:00",
          "2022-01-23T19:54:00+00:00",
          "2022-01-23T19:55:00+00:00",
          "2022-01-23T19:56:00+00:00",
          "2022-01-23T19:57:00+00:00",
          "2022-01-23T19:58:00+00:00",
          "2022-01-23T19:59:00+00:00",
          "2022-01-23T20:00:00+00:00",
          "2022-01-23T20:01:00+00:00",
          "2022-01-23T20:02:00+00:00",
          "2022-01-23T20:03:00+00:00",
          "2022-01-23T20:04:00+00:00",
          "2022-01-23T20:05:00+00:00",
          "2022-01-23T20:06:00+00:00",
          "2022-01-23T20:07:00+00:00",
          "2022-01-23T20:08:00+00:00",
          "2022-01-23T20:09:00+00:00",
          "2022-01-23T20:10:00+00:00",
          "2022-01-23T20:11:00+00:00",
          "2022-01-23T20:12:00+00:00",
          "2022-01-23T20:13:00+00:00",
          "2022-01-23T20:14:00+00:00",
          "2022-01-23T20:15:00+00:00",
          "2022-01-23T20:16:00+00:00",
          "2022-01-23T20:17:00+00:00",
          "2022-01-23T20:18:00+00:00",
          "2022-01-23T20:19:00+00:00",
          "2022-01-23T20:20:00+00:00",
          "2022-01-23T20:21:00+00:00",
          "2022-01-23T20:22:00+00:00",
          "2022-01-23T20:23:00+00:00",
          "2022-01-23T20:24:00+00:00",
          "2022-01-23T20:25:00+00:00",
          "2022-01-23T20:26:00+00:00",
          "2022-01-23T20:27:00+00:00",
          "2022-01-23T20:28:00+00:00",
          "2022-01-23T20:29:00+00:00",
          "2022-01-23T20:30:00+00:00",
          "2022-01-23T20:31:00+00:00",
          "2022-01-23T20:32:00+00:00",
          "2022-01-23T20:33:00+00:00",
          "2022-01-23T20:34:00+00:00",
          "2022-01-23T20:35:00+00:00",
          "2022-01-23T20:36:00+00:00",
          "2022-01-23T20:37:00+00:00",
          "2022-01-23T20:38:00+00:00",
          "2022-01-23T20:39:00+00:00",
          "2022-01-23T20:40:00+00:00",
          "2022-01-23T20:41:00+00:00",
          "2022-01-23T20:42:00+00:00",
          "2022-01-23T20:43:00+00:00",
          "2022-01-23T20:44:00+00:00",
          "2022-01-23T20:45:00+00:00",
          "2022-01-23T20:46:00+00:00",
          "2022-01-23T20:47:00+00:00",
          "2022-01-23T20:48:00+00:00",
          "2022-01-23T20:49:00+00:00",
          "2022-01-23T20:50:00+00:00",
          "2022-01-23T20:51:00+00:00",
          "2022-01-23T20:52:00+00:00",
          "2022-01-23T20:53:00+00:00",
          "2022-01-23T20:54:00+00:00",
          "2022-01-23T20:55:00+00:00",
          "2022-01-23T20:56:00+00:00",
          "2022-01-23T20:57:00+00:00",
          "2022-01-23T20:58:00+00:00",
          "2022-01-23T20:59:00+00:00",
          "2022-01-23T21:00:00+00:00",
          "2022-01-23T21:01:00+00:00",
          "2022-01-23T21:02:00+00:00",
          "2022-01-23T21:03:00+00:00",
          "2022-01-23T21:04:00+00:00",
          "2022-01-23T21:05:00+00:00",
          "2022-01-23T21:06:00+00:00",
          "2022-01-23T21:07:00+00:00",
          "2022-01-23T21:08:00+00:00",
          "2022-01-23T21:09:00+00:00",
          "2022-01-23T21:10:00+00:00",
          "2022-01-23T21:11:00+00:00",
          "2022-01-23T21:12:00+00:00",
          "2022-01-23T21:13:00+00:00",
          "2022-01-23T21:14:00+00:00",
          "2022-01-23T21:15:00+00:00",
          "2022-01-23T21:16:00+00:00",
          "2022-01-23T21:17:00+00:00",
          "2022-01-23T21:18:00+00:00",
          "2022-01-23T21:19:00+00:00",
          "2022-01-23T21:20:00+00:00",
          "2022-01-23T21:21:00+00:00",
          "2022-01-23T21:22:00+00:00",
          "2022-01-23T21:23:00+00:00",
          "2022-01-23T21:24:00+00:00",
          "2022-01-23T21:25:00+00:00",
          "2022-01-23T21:26:00+00:00",
          "2022-01-23T21:27:00+00:00",
          "2022-01-23T21:28:00+00:00",
          "2022-01-23T21:29:00+00:00",
          "2022-01-23T21:30:00+00:00",
          "2022-01-23T21:31:00+00:00",
          "2022-01-23T21:32:00+00:00",
          "2022-01-23T21:33:00+00:00",
          "2022-01-23T21:34:00+00:00",
          "2022-01-23T21:35:00+00:00",
          "2022-01-23T21:36:00+00:00",
          "2022-01-23T21:37:00+00:00",
          "2022-01-23T21:38:00+00:00",
          "2022-01-23T21:39:00+00:00",
          "2022-01-23T21:40:00+00:00",
          "2022-01-23T21:41:00+00:00",
          "2022-01-23T21:42:00+00:00",
          "2022-01-23T21:43:00+00:00",
          "2022-01-23T21:44:00+00:00",
          "2022-01-23T21:45:00+00:00",
          "2022-01-23T21:46:00+00:00",
          "2022-01-23T21:47:00+00:00",
          "2022-01-23T21:48:00+00:00",
          "2022-01-23T21:49:00+00:00",
          "2022-01-23T21:50:00+00:00",
          "2022-01-23T21:51:00+00:00",
          "2022-01-23T21:53:00+00:00",
          "2022-01-23T21:54:00+00:00",
          "2022-01-23T21:55:00+00:00",
          "2022-01-23T21:56:00+00:00",
          "2022-01-23T21:57:00+00:00",
          "2022-01-23T21:58:00+00:00",
          "2022-01-23T21:59:00+00:00",
          "2022-01-23T22:00:00+00:00",
          "2022-01-23T22:01:00+00:00",
          "2022-01-23T22:02:00+00:00",
          "2022-01-23T22:03:00+00:00",
          "2022-01-23T22:04:00+00:00",
          "2022-01-23T22:05:00+00:00",
          "2022-01-23T22:06:00+00:00",
          "2022-01-23T22:07:00+00:00",
          "2022-01-23T22:08:00+00:00",
          "2022-01-23T22:09:00+00:00",
          "2022-01-23T22:11:00+00:00",
          "2022-01-23T22:12:00+00:00",
          "2022-01-23T22:13:00+00:00",
          "2022-01-23T22:14:00+00:00",
          "2022-01-23T22:15:00+00:00",
          "2022-01-23T22:16:00+00:00",
          "2022-01-23T22:17:00+00:00",
          "2022-01-23T22:18:00+00:00",
          "2022-01-23T22:19:00+00:00",
          "2022-01-23T22:21:00+00:00",
          "2022-01-23T22:22:00+00:00",
          "2022-01-23T22:23:00+00:00",
          "2022-01-23T22:24:00+00:00",
          "2022-01-23T22:25:00+00:00",
          "2022-01-23T22:26:00+00:00",
          "2022-01-23T22:27:00+00:00",
          "2022-01-23T22:28:00+00:00",
          "2022-01-23T22:29:00+00:00",
          "2022-01-23T22:30:00+00:00",
          "2022-01-23T22:31:00+00:00",
          "2022-01-23T22:32:00+00:00",
          "2022-01-23T22:33:00+00:00",
          "2022-01-23T22:34:00+00:00",
          "2022-01-23T22:35:00+00:00",
          "2022-01-23T22:36:00+00:00",
          "2022-01-23T22:37:00+00:00",
          "2022-01-23T22:38:00+00:00",
          "2022-01-23T22:39:00+00:00",
          "2022-01-23T22:40:00+00:00",
          "2022-01-23T22:41:00+00:00",
          "2022-01-23T22:42:00+00:00",
          "2022-01-23T22:43:00+00:00",
          "2022-01-23T22:44:00+00:00",
          "2022-01-23T22:45:00+00:00",
          "2022-01-23T22:46:00+00:00",
          "2022-01-23T22:47:00+00:00",
          "2022-01-23T22:48:00+00:00",
          "2022-01-23T22:49:00+00:00",
          "2022-01-23T22:50:00+00:00",
          "2022-01-23T22:51:00+00:00",
          "2022-01-23T22:52:00+00:00",
          "2022-01-23T22:53:00+00:00",
          "2022-01-23T22:54:00+00:00",
          "2022-01-23T22:55:00+00:00",
          "2022-01-23T22:56:00+00:00",
          "2022-01-23T22:57:00+00:00",
          "2022-01-23T22:58:00+00:00",
          "2022-01-23T22:59:00+00:00",
          "2022-01-23T23:00:00+00:00",
          "2022-01-23T23:01:00+00:00",
          "2022-01-23T23:02:00+00:00",
          "2022-01-23T23:03:00+00:00",
          "2022-01-23T23:04:00+00:00",
          "2022-01-23T23:05:00+00:00",
          "2022-01-23T23:06:00+00:00",
          "2022-01-23T23:07:00+00:00",
          "2022-01-23T23:08:00+00:00",
          "2022-01-23T23:09:00+00:00",
          "2022-01-23T23:10:00+00:00",
          "2022-01-23T23:11:00+00:00",
          "2022-01-23T23:12:00+00:00",
          "2022-01-23T23:13:00+00:00",
          "2022-01-23T23:14:00+00:00",
          "2022-01-23T23:15:00+00:00",
          "2022-01-23T23:16:00+00:00",
          "2022-01-23T23:17:00+00:00",
          "2022-01-23T23:18:00+00:00",
          "2022-01-23T23:19:00+00:00",
          "2022-01-23T23:20:00+00:00",
          "2022-01-23T23:21:00+00:00",
          "2022-01-23T23:22:00+00:00",
          "2022-01-23T23:23:00+00:00",
          "2022-01-23T23:24:00+00:00",
          "2022-01-23T23:25:00+00:00",
          "2022-01-23T23:26:00+00:00",
          "2022-01-23T23:27:00+00:00",
          "2022-01-23T23:28:00+00:00",
          "2022-01-23T23:29:00+00:00",
          "2022-01-23T23:30:00+00:00",
          "2022-01-23T23:31:00+00:00",
          "2022-01-23T23:32:00+00:00",
          "2022-01-23T23:33:00+00:00",
          "2022-01-23T23:34:00+00:00",
          "2022-01-23T23:35:00+00:00",
          "2022-01-23T23:36:00+00:00",
          "2022-01-23T23:37:00+00:00",
          "2022-01-23T23:38:00+00:00",
          "2022-01-23T23:39:00+00:00",
          "2022-01-23T23:40:00+00:00",
          "2022-01-23T23:41:00+00:00",
          "2022-01-23T23:42:00+00:00",
          "2022-01-23T23:43:00+00:00",
          "2022-01-23T23:44:00+00:00",
          "2022-01-23T23:45:00+00:00",
          "2022-01-23T23:46:00+00:00",
          "2022-01-23T23:47:00+00:00",
          "2022-01-23T23:48:00+00:00",
          "2022-01-23T23:49:00+00:00",
          "2022-01-23T23:50:00+00:00",
          "2022-01-23T23:51:00+00:00",
          "2022-01-23T23:52:00+00:00",
          "2022-01-23T23:53:00+00:00",
          "2022-01-23T23:54:00+00:00",
          "2022-01-23T23:55:00+00:00",
          "2022-01-23T23:56:00+00:00",
          "2022-01-23T23:57:00+00:00",
          "2022-01-23T23:58:00+00:00"
         ],
         "y": [
          35378.5,
          35357.859375,
          35356.6875,
          35358.85546875,
          35369.08203125,
          35371.328125,
          35368.17578125,
          35385.484375,
          35380.9921875,
          35360.75,
          35331.40234375,
          35326.484375,
          35321.71875,
          35307.89453125,
          35309.140625,
          35303.08984375,
          35291.3671875,
          35298.2109375,
          35293.8046875,
          35286.359375,
          35270.12109375,
          35268.29296875,
          35251.0390625,
          35247.87109375,
          35239.80078125,
          35219.4609375,
          35204.9296875,
          35194.5703125,
          35143.54296875,
          35142.43359375,
          35142.5078125,
          35160.0078125,
          35142.58984375,
          35147.09375,
          35148.53125,
          35173.15234375,
          35178.15625,
          35210.61328125,
          35209.98828125,
          35212.4375,
          35216.015625,
          35209.02734375,
          35194.2890625,
          35190.28515625,
          35194.3515625,
          35196.79296875,
          35193.0703125,
          35190.9453125,
          35173.2890625,
          35133.5625,
          35110.60546875,
          35092.15234375,
          35006.390625,
          35004.76953125,
          35005.5234375,
          35013.2109375,
          35003.25,
          35010.1328125,
          35015.41796875,
          35017.5625,
          35015.5078125,
          35004.98828125,
          35041.68359375,
          35035.40625,
          35050.51171875,
          35051.0859375,
          35048.3203125,
          35039.5546875,
          35035.34375,
          35038.33203125,
          35017.9921875,
          35001.67578125,
          35004,
          34985.671875,
          34983.06640625,
          34974.8828125,
          34971.60546875,
          34954.52734375,
          34956.296875,
          34941.7109375,
          34954.1015625,
          34953.109375,
          34959.60546875,
          34974.53515625,
          34984.5546875,
          35025.625,
          35026.73046875,
          35029.4140625,
          35076.0625,
          35078.6953125,
          35088.69140625,
          35099.6875,
          35101.65625,
          35101.2265625,
          35145.96484375,
          35137.42578125,
          35129.96875,
          35116.32421875,
          35093.10546875,
          35069.10546875,
          34993.91015625,
          34934.03125,
          34919.8359375,
          34800.0625,
          34820.2265625,
          34821.24609375,
          34816.67578125,
          34848.96875,
          34845.765625,
          34873.28125,
          34891.1328125,
          34862.76171875,
          34820.390625,
          34814.6875,
          34819.1875,
          34814.6171875,
          34794.1875,
          34819.78515625,
          34797.53515625,
          34784.96875,
          34801.08203125,
          34813.609375,
          34833.00390625,
          34830.72265625,
          34792.1015625,
          34796.53515625,
          34825.31640625,
          34897.17578125,
          34940.52734375,
          34921.94140625,
          34968.125,
          34964.5703125,
          35013.61328125,
          35069.91796875,
          35082.8125,
          35086.28515625,
          35272.19140625,
          35217.0546875,
          35218.05859375,
          35183.58984375,
          35196.61328125,
          35179.8203125,
          35186.4609375,
          35194.69921875,
          35196.86328125,
          35226.5234375,
          35216.15625,
          35212.62109375,
          35217.8359375,
          35212.1171875,
          35175.875,
          35136.6796875,
          35139.64453125,
          35151.875,
          35172.36328125,
          35167.79296875,
          35158.69140625,
          35156.21875,
          35164.7109375,
          35177.41796875,
          35207.0078125,
          35208.05859375,
          35208.36328125,
          35206.03515625,
          35208.28515625,
          35208.6953125,
          35205.01171875,
          35216.21875,
          35222.32421875,
          35236.40234375,
          35236.52734375,
          35238.8828125,
          35250,
          35248.9921875,
          35245.5625,
          35239.49609375,
          35238.9296875,
          35241.83203125,
          35238.4765625,
          35240.86328125,
          35257.3828125,
          35277.84375,
          35277.578125,
          35276.7890625,
          35251.78125,
          35253.26953125,
          35256.265625,
          35243.05859375,
          35239.52734375,
          35243.80078125,
          35252.68359375,
          35230.98046875,
          35226.34765625,
          35185.45703125,
          35176.0859375,
          35195.62109375,
          35209.06640625,
          35214.80078125,
          35211.1953125,
          35231.671875,
          35242.20703125,
          35245.95703125,
          35285.671875,
          35282.03515625,
          35297.8359375,
          35309.8203125,
          35338.13671875,
          35337.81640625,
          35350.20703125,
          35346.21484375,
          35340.84765625,
          35316.91015625,
          35322.9140625,
          35305.76953125,
          35276.18359375,
          35270.125,
          35268.95703125,
          35265.65234375,
          35271.77734375,
          35275.07421875,
          35300.265625,
          35315.84765625,
          35317.88671875,
          35421.19140625,
          35422.24609375,
          35428.296875,
          35452.9453125,
          35460.6015625,
          35439.6796875,
          35420.8359375,
          35418.53515625,
          35414.640625,
          35405.23828125,
          35391.53515625,
          35375.4296875,
          35378.89453125,
          35374.16015625,
          35389.82421875,
          35381.1640625,
          35379.203125,
          35356.796875,
          35359.9140625,
          35359.62890625,
          35359.45703125,
          35351.3671875,
          35361.3125,
          35348.14453125,
          35351.4765625,
          35360.66796875,
          35392.3828125,
          35391.98828125,
          35408.375,
          35404.04296875,
          35401.8671875,
          35342.23046875,
          35341.41015625,
          35352.3828125,
          35359.1796875,
          35382.8515625,
          35421.328125,
          35433.375,
          35413.02734375,
          35383.98046875,
          35381.09765625,
          35382,
          35382.296875,
          35378.44140625,
          35381.01171875,
          35377.1484375,
          35382.109375,
          35385.79296875,
          35398.94921875,
          35401.703125,
          35400.4765625,
          35404.5546875,
          35401.4296875,
          35391.1328125,
          35382.87109375,
          35387.38671875,
          35386.125,
          35386.265625,
          35373.19921875,
          35373.74609375,
          35372.859375,
          35374.6953125,
          35391.265625,
          35433.45703125,
          35440.44921875,
          35436.5390625,
          35434.640625,
          35432.640625,
          35447.83203125,
          35477.22265625,
          35470.375,
          35467.16796875,
          35462.703125,
          35469.98828125,
          35476.8359375,
          35503.86328125,
          35483.453125,
          35504.31640625,
          35599.6640625,
          35626.30078125,
          35629.66796875,
          35710.73046875,
          35705.58203125,
          35718.7890625,
          35744.50390625,
          35752.4921875,
          35770.359375,
          35978.35546875,
          36052.2734375,
          36067.26171875,
          36302.11328125,
          36291.1484375,
          36280.203125,
          36276.1015625,
          36287.9140625,
          36314.76171875,
          36345.32421875,
          36368.44921875,
          36349.3515625,
          36377.2109375,
          36373.07421875,
          36389.51953125,
          36433.3125,
          36422.796875,
          36395.48828125,
          36317.04296875,
          36273.98046875,
          36271.890625,
          36216.76171875,
          36203.6796875,
          36212.05859375,
          36198.09375,
          36199.15234375,
          36206.77734375,
          36212.24609375,
          36209.19921875,
          36192.49609375,
          36158.58203125,
          36167.75390625,
          36183.46875,
          36221.30078125,
          36233.66015625,
          36237.01171875,
          36259.8125,
          36260.16796875,
          36251.0625,
          36263.54296875,
          36268.1328125,
          36262.91015625,
          36249.734375,
          36260.16796875,
          36254.87890625,
          36280.83984375
         ]
        }
       ],
       "layout": {
        "template": {
         "data": {
          "bar": [
           {
            "error_x": {
             "color": "#2a3f5f"
            },
            "error_y": {
             "color": "#2a3f5f"
            },
            "marker": {
             "line": {
              "color": "#E5ECF6",
              "width": 0.5
             },
             "pattern": {
              "fillmode": "overlay",
              "size": 10,
              "solidity": 0.2
             }
            },
            "type": "bar"
           }
          ],
          "barpolar": [
           {
            "marker": {
             "line": {
              "color": "#E5ECF6",
              "width": 0.5
             },
             "pattern": {
              "fillmode": "overlay",
              "size": 10,
              "solidity": 0.2
             }
            },
            "type": "barpolar"
           }
          ],
          "carpet": [
           {
            "aaxis": {
             "endlinecolor": "#2a3f5f",
             "gridcolor": "white",
             "linecolor": "white",
             "minorgridcolor": "white",
             "startlinecolor": "#2a3f5f"
            },
            "baxis": {
             "endlinecolor": "#2a3f5f",
             "gridcolor": "white",
             "linecolor": "white",
             "minorgridcolor": "white",
             "startlinecolor": "#2a3f5f"
            },
            "type": "carpet"
           }
          ],
          "choropleth": [
           {
            "colorbar": {
             "outlinewidth": 0,
             "ticks": ""
            },
            "type": "choropleth"
           }
          ],
          "contour": [
           {
            "colorbar": {
             "outlinewidth": 0,
             "ticks": ""
            },
            "colorscale": [
             [
              0,
              "#0d0887"
             ],
             [
              0.1111111111111111,
              "#46039f"
             ],
             [
              0.2222222222222222,
              "#7201a8"
             ],
             [
              0.3333333333333333,
              "#9c179e"
             ],
             [
              0.4444444444444444,
              "#bd3786"
             ],
             [
              0.5555555555555556,
              "#d8576b"
             ],
             [
              0.6666666666666666,
              "#ed7953"
             ],
             [
              0.7777777777777778,
              "#fb9f3a"
             ],
             [
              0.8888888888888888,
              "#fdca26"
             ],
             [
              1,
              "#f0f921"
             ]
            ],
            "type": "contour"
           }
          ],
          "contourcarpet": [
           {
            "colorbar": {
             "outlinewidth": 0,
             "ticks": ""
            },
            "type": "contourcarpet"
           }
          ],
          "heatmap": [
           {
            "colorbar": {
             "outlinewidth": 0,
             "ticks": ""
            },
            "colorscale": [
             [
              0,
              "#0d0887"
             ],
             [
              0.1111111111111111,
              "#46039f"
             ],
             [
              0.2222222222222222,
              "#7201a8"
             ],
             [
              0.3333333333333333,
              "#9c179e"
             ],
             [
              0.4444444444444444,
              "#bd3786"
             ],
             [
              0.5555555555555556,
              "#d8576b"
             ],
             [
              0.6666666666666666,
              "#ed7953"
             ],
             [
              0.7777777777777778,
              "#fb9f3a"
             ],
             [
              0.8888888888888888,
              "#fdca26"
             ],
             [
              1,
              "#f0f921"
             ]
            ],
            "type": "heatmap"
           }
          ],
          "heatmapgl": [
           {
            "colorbar": {
             "outlinewidth": 0,
             "ticks": ""
            },
            "colorscale": [
             [
              0,
              "#0d0887"
             ],
             [
              0.1111111111111111,
              "#46039f"
             ],
             [
              0.2222222222222222,
              "#7201a8"
             ],
             [
              0.3333333333333333,
              "#9c179e"
             ],
             [
              0.4444444444444444,
              "#bd3786"
             ],
             [
              0.5555555555555556,
              "#d8576b"
             ],
             [
              0.6666666666666666,
              "#ed7953"
             ],
             [
              0.7777777777777778,
              "#fb9f3a"
             ],
             [
              0.8888888888888888,
              "#fdca26"
             ],
             [
              1,
              "#f0f921"
             ]
            ],
            "type": "heatmapgl"
           }
          ],
          "histogram": [
           {
            "marker": {
             "pattern": {
              "fillmode": "overlay",
              "size": 10,
              "solidity": 0.2
             }
            },
            "type": "histogram"
           }
          ],
          "histogram2d": [
           {
            "colorbar": {
             "outlinewidth": 0,
             "ticks": ""
            },
            "colorscale": [
             [
              0,
              "#0d0887"
             ],
             [
              0.1111111111111111,
              "#46039f"
             ],
             [
              0.2222222222222222,
              "#7201a8"
             ],
             [
              0.3333333333333333,
              "#9c179e"
             ],
             [
              0.4444444444444444,
              "#bd3786"
             ],
             [
              0.5555555555555556,
              "#d8576b"
             ],
             [
              0.6666666666666666,
              "#ed7953"
             ],
             [
              0.7777777777777778,
              "#fb9f3a"
             ],
             [
              0.8888888888888888,
              "#fdca26"
             ],
             [
              1,
              "#f0f921"
             ]
            ],
            "type": "histogram2d"
           }
          ],
          "histogram2dcontour": [
           {
            "colorbar": {
             "outlinewidth": 0,
             "ticks": ""
            },
            "colorscale": [
             [
              0,
              "#0d0887"
             ],
             [
              0.1111111111111111,
              "#46039f"
             ],
             [
              0.2222222222222222,
              "#7201a8"
             ],
             [
              0.3333333333333333,
              "#9c179e"
             ],
             [
              0.4444444444444444,
              "#bd3786"
             ],
             [
              0.5555555555555556,
              "#d8576b"
             ],
             [
              0.6666666666666666,
              "#ed7953"
             ],
             [
              0.7777777777777778,
              "#fb9f3a"
             ],
             [
              0.8888888888888888,
              "#fdca26"
             ],
             [
              1,
              "#f0f921"
             ]
            ],
            "type": "histogram2dcontour"
           }
          ],
          "mesh3d": [
           {
            "colorbar": {
             "outlinewidth": 0,
             "ticks": ""
            },
            "type": "mesh3d"
           }
          ],
          "parcoords": [
           {
            "line": {
             "colorbar": {
              "outlinewidth": 0,
              "ticks": ""
             }
            },
            "type": "parcoords"
           }
          ],
          "pie": [
           {
            "automargin": true,
            "type": "pie"
           }
          ],
          "scatter": [
           {
            "marker": {
             "colorbar": {
              "outlinewidth": 0,
              "ticks": ""
             }
            },
            "type": "scatter"
           }
          ],
          "scatter3d": [
           {
            "line": {
             "colorbar": {
              "outlinewidth": 0,
              "ticks": ""
             }
            },
            "marker": {
             "colorbar": {
              "outlinewidth": 0,
              "ticks": ""
             }
            },
            "type": "scatter3d"
           }
          ],
          "scattercarpet": [
           {
            "marker": {
             "colorbar": {
              "outlinewidth": 0,
              "ticks": ""
             }
            },
            "type": "scattercarpet"
           }
          ],
          "scattergeo": [
           {
            "marker": {
             "colorbar": {
              "outlinewidth": 0,
              "ticks": ""
             }
            },
            "type": "scattergeo"
           }
          ],
          "scattergl": [
           {
            "marker": {
             "colorbar": {
              "outlinewidth": 0,
              "ticks": ""
             }
            },
            "type": "scattergl"
           }
          ],
          "scattermapbox": [
           {
            "marker": {
             "colorbar": {
              "outlinewidth": 0,
              "ticks": ""
             }
            },
            "type": "scattermapbox"
           }
          ],
          "scatterpolar": [
           {
            "marker": {
             "colorbar": {
              "outlinewidth": 0,
              "ticks": ""
             }
            },
            "type": "scatterpolar"
           }
          ],
          "scatterpolargl": [
           {
            "marker": {
             "colorbar": {
              "outlinewidth": 0,
              "ticks": ""
             }
            },
            "type": "scatterpolargl"
           }
          ],
          "scatterternary": [
           {
            "marker": {
             "colorbar": {
              "outlinewidth": 0,
              "ticks": ""
             }
            },
            "type": "scatterternary"
           }
          ],
          "surface": [
           {
            "colorbar": {
             "outlinewidth": 0,
             "ticks": ""
            },
            "colorscale": [
             [
              0,
              "#0d0887"
             ],
             [
              0.1111111111111111,
              "#46039f"
             ],
             [
              0.2222222222222222,
              "#7201a8"
             ],
             [
              0.3333333333333333,
              "#9c179e"
             ],
             [
              0.4444444444444444,
              "#bd3786"
             ],
             [
              0.5555555555555556,
              "#d8576b"
             ],
             [
              0.6666666666666666,
              "#ed7953"
             ],
             [
              0.7777777777777778,
              "#fb9f3a"
             ],
             [
              0.8888888888888888,
              "#fdca26"
             ],
             [
              1,
              "#f0f921"
             ]
            ],
            "type": "surface"
           }
          ],
          "table": [
           {
            "cells": {
             "fill": {
              "color": "#EBF0F8"
             },
             "line": {
              "color": "white"
             }
            },
            "header": {
             "fill": {
              "color": "#C8D4E3"
             },
             "line": {
              "color": "white"
             }
            },
            "type": "table"
           }
          ]
         },
         "layout": {
          "annotationdefaults": {
           "arrowcolor": "#2a3f5f",
           "arrowhead": 0,
           "arrowwidth": 1
          },
          "autotypenumbers": "strict",
          "coloraxis": {
           "colorbar": {
            "outlinewidth": 0,
            "ticks": ""
           }
          },
          "colorscale": {
           "diverging": [
            [
             0,
             "#8e0152"
            ],
            [
             0.1,
             "#c51b7d"
            ],
            [
             0.2,
             "#de77ae"
            ],
            [
             0.3,
             "#f1b6da"
            ],
            [
             0.4,
             "#fde0ef"
            ],
            [
             0.5,
             "#f7f7f7"
            ],
            [
             0.6,
             "#e6f5d0"
            ],
            [
             0.7,
             "#b8e186"
            ],
            [
             0.8,
             "#7fbc41"
            ],
            [
             0.9,
             "#4d9221"
            ],
            [
             1,
             "#276419"
            ]
           ],
           "sequential": [
            [
             0,
             "#0d0887"
            ],
            [
             0.1111111111111111,
             "#46039f"
            ],
            [
             0.2222222222222222,
             "#7201a8"
            ],
            [
             0.3333333333333333,
             "#9c179e"
            ],
            [
             0.4444444444444444,
             "#bd3786"
            ],
            [
             0.5555555555555556,
             "#d8576b"
            ],
            [
             0.6666666666666666,
             "#ed7953"
            ],
            [
             0.7777777777777778,
             "#fb9f3a"
            ],
            [
             0.8888888888888888,
             "#fdca26"
            ],
            [
             1,
             "#f0f921"
            ]
           ],
           "sequentialminus": [
            [
             0,
             "#0d0887"
            ],
            [
             0.1111111111111111,
             "#46039f"
            ],
            [
             0.2222222222222222,
             "#7201a8"
            ],
            [
             0.3333333333333333,
             "#9c179e"
            ],
            [
             0.4444444444444444,
             "#bd3786"
            ],
            [
             0.5555555555555556,
             "#d8576b"
            ],
            [
             0.6666666666666666,
             "#ed7953"
            ],
            [
             0.7777777777777778,
             "#fb9f3a"
            ],
            [
             0.8888888888888888,
             "#fdca26"
            ],
            [
             1,
             "#f0f921"
            ]
           ]
          },
          "colorway": [
           "#636efa",
           "#EF553B",
           "#00cc96",
           "#ab63fa",
           "#FFA15A",
           "#19d3f3",
           "#FF6692",
           "#B6E880",
           "#FF97FF",
           "#FECB52"
          ],
          "font": {
           "color": "#2a3f5f"
          },
          "geo": {
           "bgcolor": "white",
           "lakecolor": "white",
           "landcolor": "#E5ECF6",
           "showlakes": true,
           "showland": true,
           "subunitcolor": "white"
          },
          "hoverlabel": {
           "align": "left"
          },
          "hovermode": "closest",
          "mapbox": {
           "style": "light"
          },
          "paper_bgcolor": "white",
          "plot_bgcolor": "#E5ECF6",
          "polar": {
           "angularaxis": {
            "gridcolor": "white",
            "linecolor": "white",
            "ticks": ""
           },
           "bgcolor": "#E5ECF6",
           "radialaxis": {
            "gridcolor": "white",
            "linecolor": "white",
            "ticks": ""
           }
          },
          "scene": {
           "xaxis": {
            "backgroundcolor": "#E5ECF6",
            "gridcolor": "white",
            "gridwidth": 2,
            "linecolor": "white",
            "showbackground": true,
            "ticks": "",
            "zerolinecolor": "white"
           },
           "yaxis": {
            "backgroundcolor": "#E5ECF6",
            "gridcolor": "white",
            "gridwidth": 2,
            "linecolor": "white",
            "showbackground": true,
            "ticks": "",
            "zerolinecolor": "white"
           },
           "zaxis": {
            "backgroundcolor": "#E5ECF6",
            "gridcolor": "white",
            "gridwidth": 2,
            "linecolor": "white",
            "showbackground": true,
            "ticks": "",
            "zerolinecolor": "white"
           }
          },
          "shapedefaults": {
           "line": {
            "color": "#2a3f5f"
           }
          },
          "ternary": {
           "aaxis": {
            "gridcolor": "white",
            "linecolor": "white",
            "ticks": ""
           },
           "baxis": {
            "gridcolor": "white",
            "linecolor": "white",
            "ticks": ""
           },
           "bgcolor": "#E5ECF6",
           "caxis": {
            "gridcolor": "white",
            "linecolor": "white",
            "ticks": ""
           }
          },
          "title": {
           "x": 0.05
          },
          "xaxis": {
           "automargin": true,
           "gridcolor": "white",
           "linecolor": "white",
           "ticks": "",
           "title": {
            "standoff": 15
           },
           "zerolinecolor": "white",
           "zerolinewidth": 2
          },
          "yaxis": {
           "automargin": true,
           "gridcolor": "white",
           "linecolor": "white",
           "ticks": "",
           "title": {
            "standoff": 15
           },
           "zerolinecolor": "white",
           "zerolinewidth": 2
          }
         }
        },
        "title": {
         "text": "BTC-USD Prices for 23-01-2022"
        }
       }
      }
     },
     "metadata": {},
     "output_type": "display_data"
    }
   ],
   "source": [
    "import plotly.graph_objects as go\n",
    "fig = go.Figure([go.Scatter(x=btc.index, y=btc.High)])\n",
    "fig.update_layout(title=\"BTC-USD Prices for 23-01-2022\")\n",
    "fig.show()"
   ]
  },
  {
   "cell_type": "code",
   "execution_count": 19,
   "metadata": {},
   "outputs": [
    {
     "name": "stdout",
     "output_type": "stream",
     "text": [
      "[*********************100%***********************]  1 of 1 completed\n"
     ]
    }
   ],
   "source": [
    "eth = yf.download(tickers=\"ETH-USD\", interval=\"1m\", start=start, end=end)"
   ]
  },
  {
   "cell_type": "code",
   "execution_count": 21,
   "metadata": {},
   "outputs": [
    {
     "data": {
      "application/vnd.plotly.v1+json": {
       "config": {
        "plotlyServerURL": "https://plot.ly"
       },
       "data": [
        {
         "type": "scatter",
         "x": [
          "2022-01-23T18:00:00+00:00",
          "2022-01-23T18:01:00+00:00",
          "2022-01-23T18:02:00+00:00",
          "2022-01-23T18:03:00+00:00",
          "2022-01-23T18:04:00+00:00",
          "2022-01-23T18:05:00+00:00",
          "2022-01-23T18:06:00+00:00",
          "2022-01-23T18:07:00+00:00",
          "2022-01-23T18:08:00+00:00",
          "2022-01-23T18:09:00+00:00",
          "2022-01-23T18:10:00+00:00",
          "2022-01-23T18:11:00+00:00",
          "2022-01-23T18:12:00+00:00",
          "2022-01-23T18:13:00+00:00",
          "2022-01-23T18:14:00+00:00",
          "2022-01-23T18:15:00+00:00",
          "2022-01-23T18:16:00+00:00",
          "2022-01-23T18:17:00+00:00",
          "2022-01-23T18:18:00+00:00",
          "2022-01-23T18:19:00+00:00",
          "2022-01-23T18:20:00+00:00",
          "2022-01-23T18:21:00+00:00",
          "2022-01-23T18:22:00+00:00",
          "2022-01-23T18:23:00+00:00",
          "2022-01-23T18:24:00+00:00",
          "2022-01-23T18:25:00+00:00",
          "2022-01-23T18:26:00+00:00",
          "2022-01-23T18:27:00+00:00",
          "2022-01-23T18:28:00+00:00",
          "2022-01-23T18:29:00+00:00",
          "2022-01-23T18:30:00+00:00",
          "2022-01-23T18:31:00+00:00",
          "2022-01-23T18:32:00+00:00",
          "2022-01-23T18:33:00+00:00",
          "2022-01-23T18:34:00+00:00",
          "2022-01-23T18:35:00+00:00",
          "2022-01-23T18:36:00+00:00",
          "2022-01-23T18:37:00+00:00",
          "2022-01-23T18:38:00+00:00",
          "2022-01-23T18:39:00+00:00",
          "2022-01-23T18:40:00+00:00",
          "2022-01-23T18:41:00+00:00",
          "2022-01-23T18:42:00+00:00",
          "2022-01-23T18:43:00+00:00",
          "2022-01-23T18:44:00+00:00",
          "2022-01-23T18:45:00+00:00",
          "2022-01-23T18:46:00+00:00",
          "2022-01-23T18:47:00+00:00",
          "2022-01-23T18:48:00+00:00",
          "2022-01-23T18:49:00+00:00",
          "2022-01-23T18:50:00+00:00",
          "2022-01-23T18:51:00+00:00",
          "2022-01-23T18:52:00+00:00",
          "2022-01-23T18:53:00+00:00",
          "2022-01-23T18:54:00+00:00",
          "2022-01-23T18:55:00+00:00",
          "2022-01-23T18:56:00+00:00",
          "2022-01-23T18:57:00+00:00",
          "2022-01-23T18:58:00+00:00",
          "2022-01-23T18:59:00+00:00",
          "2022-01-23T19:00:00+00:00",
          "2022-01-23T19:01:00+00:00",
          "2022-01-23T19:02:00+00:00",
          "2022-01-23T19:03:00+00:00",
          "2022-01-23T19:04:00+00:00",
          "2022-01-23T19:05:00+00:00",
          "2022-01-23T19:06:00+00:00",
          "2022-01-23T19:07:00+00:00",
          "2022-01-23T19:08:00+00:00",
          "2022-01-23T19:09:00+00:00",
          "2022-01-23T19:10:00+00:00",
          "2022-01-23T19:11:00+00:00",
          "2022-01-23T19:12:00+00:00",
          "2022-01-23T19:13:00+00:00",
          "2022-01-23T19:14:00+00:00",
          "2022-01-23T19:15:00+00:00",
          "2022-01-23T19:16:00+00:00",
          "2022-01-23T19:17:00+00:00",
          "2022-01-23T19:18:00+00:00",
          "2022-01-23T19:19:00+00:00",
          "2022-01-23T19:20:00+00:00",
          "2022-01-23T19:21:00+00:00",
          "2022-01-23T19:22:00+00:00",
          "2022-01-23T19:23:00+00:00",
          "2022-01-23T19:24:00+00:00",
          "2022-01-23T19:25:00+00:00",
          "2022-01-23T19:26:00+00:00",
          "2022-01-23T19:27:00+00:00",
          "2022-01-23T19:28:00+00:00",
          "2022-01-23T19:29:00+00:00",
          "2022-01-23T19:30:00+00:00",
          "2022-01-23T19:31:00+00:00",
          "2022-01-23T19:32:00+00:00",
          "2022-01-23T19:33:00+00:00",
          "2022-01-23T19:34:00+00:00",
          "2022-01-23T19:35:00+00:00",
          "2022-01-23T19:36:00+00:00",
          "2022-01-23T19:37:00+00:00",
          "2022-01-23T19:38:00+00:00",
          "2022-01-23T19:39:00+00:00",
          "2022-01-23T19:40:00+00:00",
          "2022-01-23T19:41:00+00:00",
          "2022-01-23T19:42:00+00:00",
          "2022-01-23T19:43:00+00:00",
          "2022-01-23T19:44:00+00:00",
          "2022-01-23T19:45:00+00:00",
          "2022-01-23T19:46:00+00:00",
          "2022-01-23T19:47:00+00:00",
          "2022-01-23T19:48:00+00:00",
          "2022-01-23T19:49:00+00:00",
          "2022-01-23T19:50:00+00:00",
          "2022-01-23T19:51:00+00:00",
          "2022-01-23T19:52:00+00:00",
          "2022-01-23T19:53:00+00:00",
          "2022-01-23T19:54:00+00:00",
          "2022-01-23T19:55:00+00:00",
          "2022-01-23T19:56:00+00:00",
          "2022-01-23T19:57:00+00:00",
          "2022-01-23T19:58:00+00:00",
          "2022-01-23T19:59:00+00:00",
          "2022-01-23T20:00:00+00:00",
          "2022-01-23T20:01:00+00:00",
          "2022-01-23T20:02:00+00:00",
          "2022-01-23T20:03:00+00:00",
          "2022-01-23T20:04:00+00:00",
          "2022-01-23T20:05:00+00:00",
          "2022-01-23T20:06:00+00:00",
          "2022-01-23T20:07:00+00:00",
          "2022-01-23T20:08:00+00:00",
          "2022-01-23T20:09:00+00:00",
          "2022-01-23T20:10:00+00:00",
          "2022-01-23T20:11:00+00:00",
          "2022-01-23T20:12:00+00:00",
          "2022-01-23T20:13:00+00:00",
          "2022-01-23T20:14:00+00:00",
          "2022-01-23T20:15:00+00:00",
          "2022-01-23T20:16:00+00:00",
          "2022-01-23T20:17:00+00:00",
          "2022-01-23T20:18:00+00:00",
          "2022-01-23T20:19:00+00:00",
          "2022-01-23T20:20:00+00:00",
          "2022-01-23T20:21:00+00:00",
          "2022-01-23T20:22:00+00:00",
          "2022-01-23T20:23:00+00:00",
          "2022-01-23T20:24:00+00:00",
          "2022-01-23T20:25:00+00:00",
          "2022-01-23T20:26:00+00:00",
          "2022-01-23T20:27:00+00:00",
          "2022-01-23T20:28:00+00:00",
          "2022-01-23T20:29:00+00:00",
          "2022-01-23T20:30:00+00:00",
          "2022-01-23T20:31:00+00:00",
          "2022-01-23T20:32:00+00:00",
          "2022-01-23T20:33:00+00:00",
          "2022-01-23T20:34:00+00:00",
          "2022-01-23T20:35:00+00:00",
          "2022-01-23T20:36:00+00:00",
          "2022-01-23T20:37:00+00:00",
          "2022-01-23T20:38:00+00:00",
          "2022-01-23T20:39:00+00:00",
          "2022-01-23T20:40:00+00:00",
          "2022-01-23T20:41:00+00:00",
          "2022-01-23T20:42:00+00:00",
          "2022-01-23T20:43:00+00:00",
          "2022-01-23T20:44:00+00:00",
          "2022-01-23T20:45:00+00:00",
          "2022-01-23T20:46:00+00:00",
          "2022-01-23T20:47:00+00:00",
          "2022-01-23T20:48:00+00:00",
          "2022-01-23T20:49:00+00:00",
          "2022-01-23T20:50:00+00:00",
          "2022-01-23T20:51:00+00:00",
          "2022-01-23T20:52:00+00:00",
          "2022-01-23T20:53:00+00:00",
          "2022-01-23T20:54:00+00:00",
          "2022-01-23T20:55:00+00:00",
          "2022-01-23T20:56:00+00:00",
          "2022-01-23T20:57:00+00:00",
          "2022-01-23T20:58:00+00:00",
          "2022-01-23T20:59:00+00:00",
          "2022-01-23T21:00:00+00:00",
          "2022-01-23T21:01:00+00:00",
          "2022-01-23T21:02:00+00:00",
          "2022-01-23T21:03:00+00:00",
          "2022-01-23T21:04:00+00:00",
          "2022-01-23T21:05:00+00:00",
          "2022-01-23T21:06:00+00:00",
          "2022-01-23T21:07:00+00:00",
          "2022-01-23T21:08:00+00:00",
          "2022-01-23T21:09:00+00:00",
          "2022-01-23T21:10:00+00:00",
          "2022-01-23T21:11:00+00:00",
          "2022-01-23T21:12:00+00:00",
          "2022-01-23T21:13:00+00:00",
          "2022-01-23T21:14:00+00:00",
          "2022-01-23T21:15:00+00:00",
          "2022-01-23T21:16:00+00:00",
          "2022-01-23T21:17:00+00:00",
          "2022-01-23T21:18:00+00:00",
          "2022-01-23T21:19:00+00:00",
          "2022-01-23T21:20:00+00:00",
          "2022-01-23T21:21:00+00:00",
          "2022-01-23T21:22:00+00:00",
          "2022-01-23T21:23:00+00:00",
          "2022-01-23T21:24:00+00:00",
          "2022-01-23T21:25:00+00:00",
          "2022-01-23T21:26:00+00:00",
          "2022-01-23T21:27:00+00:00",
          "2022-01-23T21:28:00+00:00",
          "2022-01-23T21:29:00+00:00",
          "2022-01-23T21:30:00+00:00",
          "2022-01-23T21:31:00+00:00",
          "2022-01-23T21:32:00+00:00",
          "2022-01-23T21:33:00+00:00",
          "2022-01-23T21:34:00+00:00",
          "2022-01-23T21:35:00+00:00",
          "2022-01-23T21:36:00+00:00",
          "2022-01-23T21:37:00+00:00",
          "2022-01-23T21:38:00+00:00",
          "2022-01-23T21:39:00+00:00",
          "2022-01-23T21:40:00+00:00",
          "2022-01-23T21:41:00+00:00",
          "2022-01-23T21:42:00+00:00",
          "2022-01-23T21:43:00+00:00",
          "2022-01-23T21:44:00+00:00",
          "2022-01-23T21:45:00+00:00",
          "2022-01-23T21:46:00+00:00",
          "2022-01-23T21:47:00+00:00",
          "2022-01-23T21:48:00+00:00",
          "2022-01-23T21:49:00+00:00",
          "2022-01-23T21:50:00+00:00",
          "2022-01-23T21:51:00+00:00",
          "2022-01-23T21:53:00+00:00",
          "2022-01-23T21:54:00+00:00",
          "2022-01-23T21:55:00+00:00",
          "2022-01-23T21:56:00+00:00",
          "2022-01-23T21:57:00+00:00",
          "2022-01-23T21:58:00+00:00",
          "2022-01-23T21:59:00+00:00",
          "2022-01-23T22:00:00+00:00",
          "2022-01-23T22:01:00+00:00",
          "2022-01-23T22:02:00+00:00",
          "2022-01-23T22:03:00+00:00",
          "2022-01-23T22:04:00+00:00",
          "2022-01-23T22:05:00+00:00",
          "2022-01-23T22:06:00+00:00",
          "2022-01-23T22:07:00+00:00",
          "2022-01-23T22:08:00+00:00",
          "2022-01-23T22:09:00+00:00",
          "2022-01-23T22:11:00+00:00",
          "2022-01-23T22:12:00+00:00",
          "2022-01-23T22:13:00+00:00",
          "2022-01-23T22:14:00+00:00",
          "2022-01-23T22:15:00+00:00",
          "2022-01-23T22:16:00+00:00",
          "2022-01-23T22:17:00+00:00",
          "2022-01-23T22:18:00+00:00",
          "2022-01-23T22:19:00+00:00",
          "2022-01-23T22:21:00+00:00",
          "2022-01-23T22:22:00+00:00",
          "2022-01-23T22:23:00+00:00",
          "2022-01-23T22:24:00+00:00",
          "2022-01-23T22:25:00+00:00",
          "2022-01-23T22:26:00+00:00",
          "2022-01-23T22:27:00+00:00",
          "2022-01-23T22:28:00+00:00",
          "2022-01-23T22:29:00+00:00",
          "2022-01-23T22:30:00+00:00",
          "2022-01-23T22:31:00+00:00",
          "2022-01-23T22:32:00+00:00",
          "2022-01-23T22:33:00+00:00",
          "2022-01-23T22:34:00+00:00",
          "2022-01-23T22:35:00+00:00",
          "2022-01-23T22:36:00+00:00",
          "2022-01-23T22:37:00+00:00",
          "2022-01-23T22:38:00+00:00",
          "2022-01-23T22:39:00+00:00",
          "2022-01-23T22:40:00+00:00",
          "2022-01-23T22:41:00+00:00",
          "2022-01-23T22:42:00+00:00",
          "2022-01-23T22:43:00+00:00",
          "2022-01-23T22:44:00+00:00",
          "2022-01-23T22:45:00+00:00",
          "2022-01-23T22:46:00+00:00",
          "2022-01-23T22:47:00+00:00",
          "2022-01-23T22:48:00+00:00",
          "2022-01-23T22:49:00+00:00",
          "2022-01-23T22:50:00+00:00",
          "2022-01-23T22:51:00+00:00",
          "2022-01-23T22:52:00+00:00",
          "2022-01-23T22:53:00+00:00",
          "2022-01-23T22:54:00+00:00",
          "2022-01-23T22:55:00+00:00",
          "2022-01-23T22:56:00+00:00",
          "2022-01-23T22:57:00+00:00",
          "2022-01-23T22:58:00+00:00",
          "2022-01-23T22:59:00+00:00",
          "2022-01-23T23:00:00+00:00",
          "2022-01-23T23:01:00+00:00",
          "2022-01-23T23:02:00+00:00",
          "2022-01-23T23:03:00+00:00",
          "2022-01-23T23:04:00+00:00",
          "2022-01-23T23:05:00+00:00",
          "2022-01-23T23:06:00+00:00",
          "2022-01-23T23:07:00+00:00",
          "2022-01-23T23:08:00+00:00",
          "2022-01-23T23:09:00+00:00",
          "2022-01-23T23:10:00+00:00",
          "2022-01-23T23:11:00+00:00",
          "2022-01-23T23:12:00+00:00",
          "2022-01-23T23:13:00+00:00",
          "2022-01-23T23:14:00+00:00",
          "2022-01-23T23:15:00+00:00",
          "2022-01-23T23:16:00+00:00",
          "2022-01-23T23:17:00+00:00",
          "2022-01-23T23:18:00+00:00",
          "2022-01-23T23:19:00+00:00",
          "2022-01-23T23:20:00+00:00",
          "2022-01-23T23:21:00+00:00",
          "2022-01-23T23:22:00+00:00",
          "2022-01-23T23:23:00+00:00",
          "2022-01-23T23:24:00+00:00",
          "2022-01-23T23:25:00+00:00",
          "2022-01-23T23:26:00+00:00",
          "2022-01-23T23:27:00+00:00",
          "2022-01-23T23:28:00+00:00",
          "2022-01-23T23:29:00+00:00",
          "2022-01-23T23:30:00+00:00",
          "2022-01-23T23:31:00+00:00",
          "2022-01-23T23:32:00+00:00",
          "2022-01-23T23:33:00+00:00",
          "2022-01-23T23:34:00+00:00",
          "2022-01-23T23:35:00+00:00",
          "2022-01-23T23:36:00+00:00",
          "2022-01-23T23:37:00+00:00",
          "2022-01-23T23:38:00+00:00",
          "2022-01-23T23:39:00+00:00",
          "2022-01-23T23:40:00+00:00",
          "2022-01-23T23:41:00+00:00",
          "2022-01-23T23:42:00+00:00",
          "2022-01-23T23:43:00+00:00",
          "2022-01-23T23:44:00+00:00",
          "2022-01-23T23:45:00+00:00",
          "2022-01-23T23:46:00+00:00",
          "2022-01-23T23:47:00+00:00",
          "2022-01-23T23:48:00+00:00",
          "2022-01-23T23:49:00+00:00",
          "2022-01-23T23:50:00+00:00",
          "2022-01-23T23:51:00+00:00",
          "2022-01-23T23:52:00+00:00",
          "2022-01-23T23:53:00+00:00",
          "2022-01-23T23:54:00+00:00",
          "2022-01-23T23:55:00+00:00",
          "2022-01-23T23:56:00+00:00",
          "2022-01-23T23:57:00+00:00",
          "2022-01-23T23:58:00+00:00"
         ],
         "y": [
          2440.982421875,
          2439.51025390625,
          2439.990234375,
          2440.255126953125,
          2441.822509765625,
          2442.163330078125,
          2442.656005859375,
          2444.026123046875,
          2443.53076171875,
          2442.1552734375,
          2437.283447265625,
          2435.725341796875,
          2435.218017578125,
          2434.932861328125,
          2434.960693359375,
          2434.806396484375,
          2434.2978515625,
          2434.49072265625,
          2434.2783203125,
          2432.85986328125,
          2431.816162109375,
          2431.06884765625,
          2430.460693359375,
          2430.4326171875,
          2429.794677734375,
          2428.978271484375,
          2428.44384765625,
          2427.55712890625,
          2425.4931640625,
          2425.12841796875,
          2425.205322265625,
          2427.972412109375,
          2427.43212890625,
          2427.755859375,
          2427.326171875,
          2428.931884765625,
          2429.407958984375,
          2430.818603515625,
          2430.658935546875,
          2430.4638671875,
          2430.423828125,
          2429.786865234375,
          2428.732177734375,
          2427.2529296875,
          2427.43896484375,
          2427.611572265625,
          2427.28955078125,
          2427.285888671875,
          2425.8076171875,
          2423.47802734375,
          2422.057373046875,
          2420.375732421875,
          2415.9755859375,
          2415.877197265625,
          2416.201904296875,
          2415.406982421875,
          2414.42333984375,
          2414.17431640625,
          2414.6201171875,
          2415.8984375,
          2416.11474609375,
          2416.28466796875,
          2419.27587890625,
          2419.133544921875,
          2421.3935546875,
          2420.869384765625,
          2420.440185546875,
          2419.30224609375,
          2418.68994140625,
          2419.09130859375,
          2418.218994140625,
          2416.3154296875,
          2415.765625,
          2414.088623046875,
          2414.055419921875,
          2413.517822265625,
          2413.190673828125,
          2411.79296875,
          2410.923583984375,
          2408.70703125,
          2410.602783203125,
          2410.55859375,
          2413.727783203125,
          2415.527587890625,
          2416.500732421875,
          2419.196044921875,
          2419.287353515625,
          2419.0107421875,
          2421.713623046875,
          2422.77001953125,
          2423.36767578125,
          2424.7861328125,
          2425.022216796875,
          2424.718505859375,
          2425.514892578125,
          2424.8095703125,
          2423.885498046875,
          2422.250732421875,
          2420.546875,
          2418.501953125,
          2410.435546875,
          2405.431396484375,
          2403.873046875,
          2393.610107421875,
          2393.169677734375,
          2393.39599609375,
          2392.6142578125,
          2394.48681640625,
          2394.665771484375,
          2395.795166015625,
          2395.40185546875,
          2394.0771484375,
          2389.030029296875,
          2388.77587890625,
          2388.918212890625,
          2388.57177734375,
          2387.442626953125,
          2388.572021484375,
          2388.59912109375,
          2386.97802734375,
          2387.4716796875,
          2387.10107421875,
          2388.074462890625,
          2387.78369140625,
          2382.526123046875,
          2381.51513671875,
          2383.74267578125,
          2389.202392578125,
          2392.62646484375,
          2392.392578125,
          2395.665283203125,
          2395.453369140625,
          2398.431640625,
          2402.436279296875,
          2403.90771484375,
          2404.591064453125,
          2414.683837890625,
          2411.31494140625,
          2410.871826171875,
          2407.76611328125,
          2408.652099609375,
          2408.076171875,
          2408.759033203125,
          2409.48388671875,
          2409.893310546875,
          2412.885986328125,
          2412.5634765625,
          2412.40478515625,
          2412.84716796875,
          2412.84375,
          2410.3427734375,
          2406.06884765625,
          2405.73193359375,
          2406.837890625,
          2408.203857421875,
          2408.236083984375,
          2407.69287109375,
          2407.794189453125,
          2408.883544921875,
          2410.408203125,
          2413.925048828125,
          2414.56005859375,
          2414.7744140625,
          2415.10009765625,
          2415.374755859375,
          2415.674560546875,
          2416.07080078125,
          2416.39599609375,
          2418.129638671875,
          2419.3701171875,
          2419.290283203125,
          2419.751220703125,
          2421.160888671875,
          2421.896240234375,
          2421.908935546875,
          2422.095947265625,
          2421.987548828125,
          2422.294921875,
          2421.66796875,
          2421.169677734375,
          2421.843505859375,
          2422.655517578125,
          2422.63720703125,
          2421.94482421875,
          2418.7138671875,
          2417.927001953125,
          2418.351318359375,
          2415.78759765625,
          2415.16455078125,
          2415.26123046875,
          2414.955810546875,
          2413.657958984375,
          2412.8974609375,
          2409.84912109375,
          2409.693359375,
          2410.835205078125,
          2413.692138671875,
          2414.544921875,
          2414.3203125,
          2415.476806640625,
          2416.1533203125,
          2416.211181640625,
          2417.51953125,
          2417.4150390625,
          2418.85107421875,
          2419.3955078125,
          2420.81298828125,
          2421.418212890625,
          2422.08984375,
          2421.871337890625,
          2421.400146484375,
          2419.74658203125,
          2419.97021484375,
          2418.68310546875,
          2417.51904296875,
          2416.803466796875,
          2416.24609375,
          2415.7041015625,
          2416.230712890625,
          2416.639404296875,
          2418.239501953125,
          2419.852294921875,
          2420.245849609375,
          2427.560546875,
          2428.799072265625,
          2429.771240234375,
          2431.936279296875,
          2432.873046875,
          2431.705810546875,
          2430.64013671875,
          2429.857177734375,
          2429.249267578125,
          2427.600830078125,
          2426.5556640625,
          2425.123291015625,
          2425.085693359375,
          2424.741943359375,
          2425.3056640625,
          2425.04296875,
          2424.722900390625,
          2423.22021484375,
          2423.54833984375,
          2423.7314453125,
          2424.58154296875,
          2423.628173828125,
          2424.079345703125,
          2422.932373046875,
          2423.188720703125,
          2423.74169921875,
          2425.84326171875,
          2426.231201171875,
          2428.012451171875,
          2429.040283203125,
          2428.781982421875,
          2426.815673828125,
          2426.44140625,
          2427.332763671875,
          2427.423828125,
          2429.700927734375,
          2431.8642578125,
          2432.712158203125,
          2431.9326171875,
          2430.91943359375,
          2430.26171875,
          2430.51904296875,
          2430.558349609375,
          2430.964111328125,
          2431.302490234375,
          2432.476318359375,
          2433.590576171875,
          2434.394775390625,
          2437.22998046875,
          2437.662353515625,
          2437.959228515625,
          2438.45849609375,
          2438.12158203125,
          2437.489501953125,
          2435.4521484375,
          2435.2021484375,
          2435.0400390625,
          2434.302734375,
          2433.333251953125,
          2432.7109375,
          2431.960205078125,
          2431.39794921875,
          2432.880126953125,
          2435.244140625,
          2436.5107421875,
          2436.52978515625,
          2437.0322265625,
          2437.014892578125,
          2438.2763671875,
          2441.177978515625,
          2441.0712890625,
          2441.145751953125,
          2441.410888671875,
          2441.6142578125,
          2442.399169921875,
          2443.76806640625,
          2442.857666015625,
          2444.0029296875,
          2453.322998046875,
          2460.952392578125,
          2462.75,
          2474.51513671875,
          2476.369873046875,
          2476.638427734375,
          2478.32275390625,
          2478.364990234375,
          2479.8076171875,
          2494.50927734375,
          2505.396484375,
          2508.4287109375,
          2524.23974609375,
          2526.014892578125,
          2524.196533203125,
          2524.025634765625,
          2525.794921875,
          2528.688232421875,
          2532.15673828125,
          2533.1044921875,
          2532.165283203125,
          2533.765869140625,
          2533.712158203125,
          2534.891357421875,
          2537.844482421875,
          2538.361083984375,
          2536.33740234375,
          2533.249755859375,
          2529.795654296875,
          2529.604736328125,
          2527.547607421875,
          2526.546630859375,
          2527.042236328125,
          2525.939453125,
          2526.39208984375,
          2527.1650390625,
          2530.169189453125,
          2530.607421875,
          2529.4873046875,
          2527.01611328125,
          2527.699951171875,
          2528.481201171875,
          2531.00146484375,
          2532.2255859375,
          2532.829345703125,
          2534.9716796875,
          2535.828857421875,
          2534.82421875,
          2535.258544921875,
          2535.374267578125,
          2534.755126953125,
          2533.5185546875,
          2535.208740234375,
          2534.787353515625,
          2535.58740234375
         ]
        }
       ],
       "layout": {
        "template": {
         "data": {
          "bar": [
           {
            "error_x": {
             "color": "#2a3f5f"
            },
            "error_y": {
             "color": "#2a3f5f"
            },
            "marker": {
             "line": {
              "color": "#E5ECF6",
              "width": 0.5
             },
             "pattern": {
              "fillmode": "overlay",
              "size": 10,
              "solidity": 0.2
             }
            },
            "type": "bar"
           }
          ],
          "barpolar": [
           {
            "marker": {
             "line": {
              "color": "#E5ECF6",
              "width": 0.5
             },
             "pattern": {
              "fillmode": "overlay",
              "size": 10,
              "solidity": 0.2
             }
            },
            "type": "barpolar"
           }
          ],
          "carpet": [
           {
            "aaxis": {
             "endlinecolor": "#2a3f5f",
             "gridcolor": "white",
             "linecolor": "white",
             "minorgridcolor": "white",
             "startlinecolor": "#2a3f5f"
            },
            "baxis": {
             "endlinecolor": "#2a3f5f",
             "gridcolor": "white",
             "linecolor": "white",
             "minorgridcolor": "white",
             "startlinecolor": "#2a3f5f"
            },
            "type": "carpet"
           }
          ],
          "choropleth": [
           {
            "colorbar": {
             "outlinewidth": 0,
             "ticks": ""
            },
            "type": "choropleth"
           }
          ],
          "contour": [
           {
            "colorbar": {
             "outlinewidth": 0,
             "ticks": ""
            },
            "colorscale": [
             [
              0,
              "#0d0887"
             ],
             [
              0.1111111111111111,
              "#46039f"
             ],
             [
              0.2222222222222222,
              "#7201a8"
             ],
             [
              0.3333333333333333,
              "#9c179e"
             ],
             [
              0.4444444444444444,
              "#bd3786"
             ],
             [
              0.5555555555555556,
              "#d8576b"
             ],
             [
              0.6666666666666666,
              "#ed7953"
             ],
             [
              0.7777777777777778,
              "#fb9f3a"
             ],
             [
              0.8888888888888888,
              "#fdca26"
             ],
             [
              1,
              "#f0f921"
             ]
            ],
            "type": "contour"
           }
          ],
          "contourcarpet": [
           {
            "colorbar": {
             "outlinewidth": 0,
             "ticks": ""
            },
            "type": "contourcarpet"
           }
          ],
          "heatmap": [
           {
            "colorbar": {
             "outlinewidth": 0,
             "ticks": ""
            },
            "colorscale": [
             [
              0,
              "#0d0887"
             ],
             [
              0.1111111111111111,
              "#46039f"
             ],
             [
              0.2222222222222222,
              "#7201a8"
             ],
             [
              0.3333333333333333,
              "#9c179e"
             ],
             [
              0.4444444444444444,
              "#bd3786"
             ],
             [
              0.5555555555555556,
              "#d8576b"
             ],
             [
              0.6666666666666666,
              "#ed7953"
             ],
             [
              0.7777777777777778,
              "#fb9f3a"
             ],
             [
              0.8888888888888888,
              "#fdca26"
             ],
             [
              1,
              "#f0f921"
             ]
            ],
            "type": "heatmap"
           }
          ],
          "heatmapgl": [
           {
            "colorbar": {
             "outlinewidth": 0,
             "ticks": ""
            },
            "colorscale": [
             [
              0,
              "#0d0887"
             ],
             [
              0.1111111111111111,
              "#46039f"
             ],
             [
              0.2222222222222222,
              "#7201a8"
             ],
             [
              0.3333333333333333,
              "#9c179e"
             ],
             [
              0.4444444444444444,
              "#bd3786"
             ],
             [
              0.5555555555555556,
              "#d8576b"
             ],
             [
              0.6666666666666666,
              "#ed7953"
             ],
             [
              0.7777777777777778,
              "#fb9f3a"
             ],
             [
              0.8888888888888888,
              "#fdca26"
             ],
             [
              1,
              "#f0f921"
             ]
            ],
            "type": "heatmapgl"
           }
          ],
          "histogram": [
           {
            "marker": {
             "pattern": {
              "fillmode": "overlay",
              "size": 10,
              "solidity": 0.2
             }
            },
            "type": "histogram"
           }
          ],
          "histogram2d": [
           {
            "colorbar": {
             "outlinewidth": 0,
             "ticks": ""
            },
            "colorscale": [
             [
              0,
              "#0d0887"
             ],
             [
              0.1111111111111111,
              "#46039f"
             ],
             [
              0.2222222222222222,
              "#7201a8"
             ],
             [
              0.3333333333333333,
              "#9c179e"
             ],
             [
              0.4444444444444444,
              "#bd3786"
             ],
             [
              0.5555555555555556,
              "#d8576b"
             ],
             [
              0.6666666666666666,
              "#ed7953"
             ],
             [
              0.7777777777777778,
              "#fb9f3a"
             ],
             [
              0.8888888888888888,
              "#fdca26"
             ],
             [
              1,
              "#f0f921"
             ]
            ],
            "type": "histogram2d"
           }
          ],
          "histogram2dcontour": [
           {
            "colorbar": {
             "outlinewidth": 0,
             "ticks": ""
            },
            "colorscale": [
             [
              0,
              "#0d0887"
             ],
             [
              0.1111111111111111,
              "#46039f"
             ],
             [
              0.2222222222222222,
              "#7201a8"
             ],
             [
              0.3333333333333333,
              "#9c179e"
             ],
             [
              0.4444444444444444,
              "#bd3786"
             ],
             [
              0.5555555555555556,
              "#d8576b"
             ],
             [
              0.6666666666666666,
              "#ed7953"
             ],
             [
              0.7777777777777778,
              "#fb9f3a"
             ],
             [
              0.8888888888888888,
              "#fdca26"
             ],
             [
              1,
              "#f0f921"
             ]
            ],
            "type": "histogram2dcontour"
           }
          ],
          "mesh3d": [
           {
            "colorbar": {
             "outlinewidth": 0,
             "ticks": ""
            },
            "type": "mesh3d"
           }
          ],
          "parcoords": [
           {
            "line": {
             "colorbar": {
              "outlinewidth": 0,
              "ticks": ""
             }
            },
            "type": "parcoords"
           }
          ],
          "pie": [
           {
            "automargin": true,
            "type": "pie"
           }
          ],
          "scatter": [
           {
            "marker": {
             "colorbar": {
              "outlinewidth": 0,
              "ticks": ""
             }
            },
            "type": "scatter"
           }
          ],
          "scatter3d": [
           {
            "line": {
             "colorbar": {
              "outlinewidth": 0,
              "ticks": ""
             }
            },
            "marker": {
             "colorbar": {
              "outlinewidth": 0,
              "ticks": ""
             }
            },
            "type": "scatter3d"
           }
          ],
          "scattercarpet": [
           {
            "marker": {
             "colorbar": {
              "outlinewidth": 0,
              "ticks": ""
             }
            },
            "type": "scattercarpet"
           }
          ],
          "scattergeo": [
           {
            "marker": {
             "colorbar": {
              "outlinewidth": 0,
              "ticks": ""
             }
            },
            "type": "scattergeo"
           }
          ],
          "scattergl": [
           {
            "marker": {
             "colorbar": {
              "outlinewidth": 0,
              "ticks": ""
             }
            },
            "type": "scattergl"
           }
          ],
          "scattermapbox": [
           {
            "marker": {
             "colorbar": {
              "outlinewidth": 0,
              "ticks": ""
             }
            },
            "type": "scattermapbox"
           }
          ],
          "scatterpolar": [
           {
            "marker": {
             "colorbar": {
              "outlinewidth": 0,
              "ticks": ""
             }
            },
            "type": "scatterpolar"
           }
          ],
          "scatterpolargl": [
           {
            "marker": {
             "colorbar": {
              "outlinewidth": 0,
              "ticks": ""
             }
            },
            "type": "scatterpolargl"
           }
          ],
          "scatterternary": [
           {
            "marker": {
             "colorbar": {
              "outlinewidth": 0,
              "ticks": ""
             }
            },
            "type": "scatterternary"
           }
          ],
          "surface": [
           {
            "colorbar": {
             "outlinewidth": 0,
             "ticks": ""
            },
            "colorscale": [
             [
              0,
              "#0d0887"
             ],
             [
              0.1111111111111111,
              "#46039f"
             ],
             [
              0.2222222222222222,
              "#7201a8"
             ],
             [
              0.3333333333333333,
              "#9c179e"
             ],
             [
              0.4444444444444444,
              "#bd3786"
             ],
             [
              0.5555555555555556,
              "#d8576b"
             ],
             [
              0.6666666666666666,
              "#ed7953"
             ],
             [
              0.7777777777777778,
              "#fb9f3a"
             ],
             [
              0.8888888888888888,
              "#fdca26"
             ],
             [
              1,
              "#f0f921"
             ]
            ],
            "type": "surface"
           }
          ],
          "table": [
           {
            "cells": {
             "fill": {
              "color": "#EBF0F8"
             },
             "line": {
              "color": "white"
             }
            },
            "header": {
             "fill": {
              "color": "#C8D4E3"
             },
             "line": {
              "color": "white"
             }
            },
            "type": "table"
           }
          ]
         },
         "layout": {
          "annotationdefaults": {
           "arrowcolor": "#2a3f5f",
           "arrowhead": 0,
           "arrowwidth": 1
          },
          "autotypenumbers": "strict",
          "coloraxis": {
           "colorbar": {
            "outlinewidth": 0,
            "ticks": ""
           }
          },
          "colorscale": {
           "diverging": [
            [
             0,
             "#8e0152"
            ],
            [
             0.1,
             "#c51b7d"
            ],
            [
             0.2,
             "#de77ae"
            ],
            [
             0.3,
             "#f1b6da"
            ],
            [
             0.4,
             "#fde0ef"
            ],
            [
             0.5,
             "#f7f7f7"
            ],
            [
             0.6,
             "#e6f5d0"
            ],
            [
             0.7,
             "#b8e186"
            ],
            [
             0.8,
             "#7fbc41"
            ],
            [
             0.9,
             "#4d9221"
            ],
            [
             1,
             "#276419"
            ]
           ],
           "sequential": [
            [
             0,
             "#0d0887"
            ],
            [
             0.1111111111111111,
             "#46039f"
            ],
            [
             0.2222222222222222,
             "#7201a8"
            ],
            [
             0.3333333333333333,
             "#9c179e"
            ],
            [
             0.4444444444444444,
             "#bd3786"
            ],
            [
             0.5555555555555556,
             "#d8576b"
            ],
            [
             0.6666666666666666,
             "#ed7953"
            ],
            [
             0.7777777777777778,
             "#fb9f3a"
            ],
            [
             0.8888888888888888,
             "#fdca26"
            ],
            [
             1,
             "#f0f921"
            ]
           ],
           "sequentialminus": [
            [
             0,
             "#0d0887"
            ],
            [
             0.1111111111111111,
             "#46039f"
            ],
            [
             0.2222222222222222,
             "#7201a8"
            ],
            [
             0.3333333333333333,
             "#9c179e"
            ],
            [
             0.4444444444444444,
             "#bd3786"
            ],
            [
             0.5555555555555556,
             "#d8576b"
            ],
            [
             0.6666666666666666,
             "#ed7953"
            ],
            [
             0.7777777777777778,
             "#fb9f3a"
            ],
            [
             0.8888888888888888,
             "#fdca26"
            ],
            [
             1,
             "#f0f921"
            ]
           ]
          },
          "colorway": [
           "#636efa",
           "#EF553B",
           "#00cc96",
           "#ab63fa",
           "#FFA15A",
           "#19d3f3",
           "#FF6692",
           "#B6E880",
           "#FF97FF",
           "#FECB52"
          ],
          "font": {
           "color": "#2a3f5f"
          },
          "geo": {
           "bgcolor": "white",
           "lakecolor": "white",
           "landcolor": "#E5ECF6",
           "showlakes": true,
           "showland": true,
           "subunitcolor": "white"
          },
          "hoverlabel": {
           "align": "left"
          },
          "hovermode": "closest",
          "mapbox": {
           "style": "light"
          },
          "paper_bgcolor": "white",
          "plot_bgcolor": "#E5ECF6",
          "polar": {
           "angularaxis": {
            "gridcolor": "white",
            "linecolor": "white",
            "ticks": ""
           },
           "bgcolor": "#E5ECF6",
           "radialaxis": {
            "gridcolor": "white",
            "linecolor": "white",
            "ticks": ""
           }
          },
          "scene": {
           "xaxis": {
            "backgroundcolor": "#E5ECF6",
            "gridcolor": "white",
            "gridwidth": 2,
            "linecolor": "white",
            "showbackground": true,
            "ticks": "",
            "zerolinecolor": "white"
           },
           "yaxis": {
            "backgroundcolor": "#E5ECF6",
            "gridcolor": "white",
            "gridwidth": 2,
            "linecolor": "white",
            "showbackground": true,
            "ticks": "",
            "zerolinecolor": "white"
           },
           "zaxis": {
            "backgroundcolor": "#E5ECF6",
            "gridcolor": "white",
            "gridwidth": 2,
            "linecolor": "white",
            "showbackground": true,
            "ticks": "",
            "zerolinecolor": "white"
           }
          },
          "shapedefaults": {
           "line": {
            "color": "#2a3f5f"
           }
          },
          "ternary": {
           "aaxis": {
            "gridcolor": "white",
            "linecolor": "white",
            "ticks": ""
           },
           "baxis": {
            "gridcolor": "white",
            "linecolor": "white",
            "ticks": ""
           },
           "bgcolor": "#E5ECF6",
           "caxis": {
            "gridcolor": "white",
            "linecolor": "white",
            "ticks": ""
           }
          },
          "title": {
           "x": 0.05
          },
          "xaxis": {
           "automargin": true,
           "gridcolor": "white",
           "linecolor": "white",
           "ticks": "",
           "title": {
            "standoff": 15
           },
           "zerolinecolor": "white",
           "zerolinewidth": 2
          },
          "yaxis": {
           "automargin": true,
           "gridcolor": "white",
           "linecolor": "white",
           "ticks": "",
           "title": {
            "standoff": 15
           },
           "zerolinecolor": "white",
           "zerolinewidth": 2
          }
         }
        },
        "title": {
         "text": "ETH-USD Prices for 23-01-2022"
        }
       }
      }
     },
     "metadata": {},
     "output_type": "display_data"
    }
   ],
   "source": [
    "import plotly.graph_objects as go\n",
    "fig = go.Figure([go.Scatter(x=eth.index, y=eth.High)])\n",
    "fig.update_layout(title=\"ETH-USD Prices for 23-01-2022\")\n",
    "fig.show()"
   ]
  },
  {
   "cell_type": "code",
   "execution_count": 22,
   "metadata": {},
   "outputs": [
    {
     "name": "stdout",
     "output_type": "stream",
     "text": [
      "[*********************100%***********************]  1 of 1 completed\n"
     ]
    },
    {
     "data": {
      "application/vnd.plotly.v1+json": {
       "config": {
        "plotlyServerURL": "https://plot.ly"
       },
       "data": [
        {
         "type": "scatter",
         "x": [
          "2022-01-23T18:00:00+00:00",
          "2022-01-23T18:01:00+00:00",
          "2022-01-23T18:02:00+00:00",
          "2022-01-23T18:03:00+00:00",
          "2022-01-23T18:04:00+00:00",
          "2022-01-23T18:05:00+00:00",
          "2022-01-23T18:06:00+00:00",
          "2022-01-23T18:07:00+00:00",
          "2022-01-23T18:08:00+00:00",
          "2022-01-23T18:09:00+00:00",
          "2022-01-23T18:10:00+00:00",
          "2022-01-23T18:11:00+00:00",
          "2022-01-23T18:12:00+00:00",
          "2022-01-23T18:13:00+00:00",
          "2022-01-23T18:14:00+00:00",
          "2022-01-23T18:15:00+00:00",
          "2022-01-23T18:16:00+00:00",
          "2022-01-23T18:17:00+00:00",
          "2022-01-23T18:18:00+00:00",
          "2022-01-23T18:19:00+00:00",
          "2022-01-23T18:20:00+00:00",
          "2022-01-23T18:21:00+00:00",
          "2022-01-23T18:22:00+00:00",
          "2022-01-23T18:23:00+00:00",
          "2022-01-23T18:24:00+00:00",
          "2022-01-23T18:25:00+00:00",
          "2022-01-23T18:26:00+00:00",
          "2022-01-23T18:27:00+00:00",
          "2022-01-23T18:28:00+00:00",
          "2022-01-23T18:29:00+00:00",
          "2022-01-23T18:30:00+00:00",
          "2022-01-23T18:31:00+00:00",
          "2022-01-23T18:32:00+00:00",
          "2022-01-23T18:33:00+00:00",
          "2022-01-23T18:34:00+00:00",
          "2022-01-23T18:35:00+00:00",
          "2022-01-23T18:36:00+00:00",
          "2022-01-23T18:37:00+00:00",
          "2022-01-23T18:38:00+00:00",
          "2022-01-23T18:39:00+00:00",
          "2022-01-23T18:40:00+00:00",
          "2022-01-23T18:41:00+00:00",
          "2022-01-23T18:42:00+00:00",
          "2022-01-23T18:43:00+00:00",
          "2022-01-23T18:44:00+00:00",
          "2022-01-23T18:45:00+00:00",
          "2022-01-23T18:46:00+00:00",
          "2022-01-23T18:47:00+00:00",
          "2022-01-23T18:48:00+00:00",
          "2022-01-23T18:49:00+00:00",
          "2022-01-23T18:50:00+00:00",
          "2022-01-23T18:51:00+00:00",
          "2022-01-23T18:52:00+00:00",
          "2022-01-23T18:53:00+00:00",
          "2022-01-23T18:54:00+00:00",
          "2022-01-23T18:55:00+00:00",
          "2022-01-23T18:56:00+00:00",
          "2022-01-23T18:57:00+00:00",
          "2022-01-23T18:58:00+00:00",
          "2022-01-23T18:59:00+00:00",
          "2022-01-23T19:00:00+00:00",
          "2022-01-23T19:01:00+00:00",
          "2022-01-23T19:02:00+00:00",
          "2022-01-23T19:03:00+00:00",
          "2022-01-23T19:04:00+00:00",
          "2022-01-23T19:05:00+00:00",
          "2022-01-23T19:06:00+00:00",
          "2022-01-23T19:07:00+00:00",
          "2022-01-23T19:08:00+00:00",
          "2022-01-23T19:09:00+00:00",
          "2022-01-23T19:10:00+00:00",
          "2022-01-23T19:11:00+00:00",
          "2022-01-23T19:12:00+00:00",
          "2022-01-23T19:13:00+00:00",
          "2022-01-23T19:14:00+00:00",
          "2022-01-23T19:15:00+00:00",
          "2022-01-23T19:16:00+00:00",
          "2022-01-23T19:17:00+00:00",
          "2022-01-23T19:18:00+00:00",
          "2022-01-23T19:19:00+00:00",
          "2022-01-23T19:20:00+00:00",
          "2022-01-23T19:21:00+00:00",
          "2022-01-23T19:22:00+00:00",
          "2022-01-23T19:23:00+00:00",
          "2022-01-23T19:24:00+00:00",
          "2022-01-23T19:25:00+00:00",
          "2022-01-23T19:26:00+00:00",
          "2022-01-23T19:27:00+00:00",
          "2022-01-23T19:28:00+00:00",
          "2022-01-23T19:29:00+00:00",
          "2022-01-23T19:30:00+00:00",
          "2022-01-23T19:31:00+00:00",
          "2022-01-23T19:32:00+00:00",
          "2022-01-23T19:33:00+00:00",
          "2022-01-23T19:34:00+00:00",
          "2022-01-23T19:35:00+00:00",
          "2022-01-23T19:36:00+00:00",
          "2022-01-23T19:37:00+00:00",
          "2022-01-23T19:38:00+00:00",
          "2022-01-23T19:39:00+00:00",
          "2022-01-23T19:40:00+00:00",
          "2022-01-23T19:41:00+00:00",
          "2022-01-23T19:42:00+00:00",
          "2022-01-23T19:43:00+00:00",
          "2022-01-23T19:44:00+00:00",
          "2022-01-23T19:45:00+00:00",
          "2022-01-23T19:46:00+00:00",
          "2022-01-23T19:47:00+00:00",
          "2022-01-23T19:48:00+00:00",
          "2022-01-23T19:49:00+00:00",
          "2022-01-23T19:50:00+00:00",
          "2022-01-23T19:51:00+00:00",
          "2022-01-23T19:52:00+00:00",
          "2022-01-23T19:53:00+00:00",
          "2022-01-23T19:54:00+00:00",
          "2022-01-23T19:55:00+00:00",
          "2022-01-23T19:56:00+00:00",
          "2022-01-23T19:57:00+00:00",
          "2022-01-23T19:58:00+00:00",
          "2022-01-23T19:59:00+00:00",
          "2022-01-23T20:00:00+00:00",
          "2022-01-23T20:01:00+00:00",
          "2022-01-23T20:02:00+00:00",
          "2022-01-23T20:03:00+00:00",
          "2022-01-23T20:04:00+00:00",
          "2022-01-23T20:05:00+00:00",
          "2022-01-23T20:06:00+00:00",
          "2022-01-23T20:07:00+00:00",
          "2022-01-23T20:08:00+00:00",
          "2022-01-23T20:09:00+00:00",
          "2022-01-23T20:10:00+00:00",
          "2022-01-23T20:11:00+00:00",
          "2022-01-23T20:12:00+00:00",
          "2022-01-23T20:13:00+00:00",
          "2022-01-23T20:14:00+00:00",
          "2022-01-23T20:15:00+00:00",
          "2022-01-23T20:16:00+00:00",
          "2022-01-23T20:17:00+00:00",
          "2022-01-23T20:18:00+00:00",
          "2022-01-23T20:19:00+00:00",
          "2022-01-23T20:20:00+00:00",
          "2022-01-23T20:21:00+00:00",
          "2022-01-23T20:22:00+00:00",
          "2022-01-23T20:23:00+00:00",
          "2022-01-23T20:24:00+00:00",
          "2022-01-23T20:25:00+00:00",
          "2022-01-23T20:26:00+00:00",
          "2022-01-23T20:27:00+00:00",
          "2022-01-23T20:28:00+00:00",
          "2022-01-23T20:29:00+00:00",
          "2022-01-23T20:30:00+00:00",
          "2022-01-23T20:31:00+00:00",
          "2022-01-23T20:32:00+00:00",
          "2022-01-23T20:33:00+00:00",
          "2022-01-23T20:34:00+00:00",
          "2022-01-23T20:35:00+00:00",
          "2022-01-23T20:36:00+00:00",
          "2022-01-23T20:37:00+00:00",
          "2022-01-23T20:38:00+00:00",
          "2022-01-23T20:39:00+00:00",
          "2022-01-23T20:40:00+00:00",
          "2022-01-23T20:41:00+00:00",
          "2022-01-23T20:42:00+00:00",
          "2022-01-23T20:43:00+00:00",
          "2022-01-23T20:44:00+00:00",
          "2022-01-23T20:45:00+00:00",
          "2022-01-23T20:46:00+00:00",
          "2022-01-23T20:47:00+00:00",
          "2022-01-23T20:48:00+00:00",
          "2022-01-23T20:49:00+00:00",
          "2022-01-23T20:50:00+00:00",
          "2022-01-23T20:51:00+00:00",
          "2022-01-23T20:52:00+00:00",
          "2022-01-23T20:53:00+00:00",
          "2022-01-23T20:54:00+00:00",
          "2022-01-23T20:55:00+00:00",
          "2022-01-23T20:56:00+00:00",
          "2022-01-23T20:57:00+00:00",
          "2022-01-23T20:58:00+00:00",
          "2022-01-23T20:59:00+00:00",
          "2022-01-23T21:00:00+00:00",
          "2022-01-23T21:01:00+00:00",
          "2022-01-23T21:02:00+00:00",
          "2022-01-23T21:03:00+00:00",
          "2022-01-23T21:04:00+00:00",
          "2022-01-23T21:05:00+00:00",
          "2022-01-23T21:06:00+00:00",
          "2022-01-23T21:07:00+00:00",
          "2022-01-23T21:08:00+00:00",
          "2022-01-23T21:09:00+00:00",
          "2022-01-23T21:10:00+00:00",
          "2022-01-23T21:11:00+00:00",
          "2022-01-23T21:12:00+00:00",
          "2022-01-23T21:13:00+00:00",
          "2022-01-23T21:14:00+00:00",
          "2022-01-23T21:15:00+00:00",
          "2022-01-23T21:16:00+00:00",
          "2022-01-23T21:17:00+00:00",
          "2022-01-23T21:18:00+00:00",
          "2022-01-23T21:19:00+00:00",
          "2022-01-23T21:20:00+00:00",
          "2022-01-23T21:21:00+00:00",
          "2022-01-23T21:22:00+00:00",
          "2022-01-23T21:23:00+00:00",
          "2022-01-23T21:24:00+00:00",
          "2022-01-23T21:25:00+00:00",
          "2022-01-23T21:26:00+00:00",
          "2022-01-23T21:27:00+00:00",
          "2022-01-23T21:28:00+00:00",
          "2022-01-23T21:29:00+00:00",
          "2022-01-23T21:30:00+00:00",
          "2022-01-23T21:31:00+00:00",
          "2022-01-23T21:32:00+00:00",
          "2022-01-23T21:33:00+00:00",
          "2022-01-23T21:34:00+00:00",
          "2022-01-23T21:35:00+00:00",
          "2022-01-23T21:36:00+00:00",
          "2022-01-23T21:37:00+00:00",
          "2022-01-23T21:38:00+00:00",
          "2022-01-23T21:39:00+00:00",
          "2022-01-23T21:40:00+00:00",
          "2022-01-23T21:41:00+00:00",
          "2022-01-23T21:42:00+00:00",
          "2022-01-23T21:43:00+00:00",
          "2022-01-23T21:44:00+00:00",
          "2022-01-23T21:45:00+00:00",
          "2022-01-23T21:46:00+00:00",
          "2022-01-23T21:47:00+00:00",
          "2022-01-23T21:48:00+00:00",
          "2022-01-23T21:49:00+00:00",
          "2022-01-23T21:50:00+00:00",
          "2022-01-23T21:51:00+00:00",
          "2022-01-23T21:53:00+00:00",
          "2022-01-23T21:54:00+00:00",
          "2022-01-23T21:55:00+00:00",
          "2022-01-23T21:56:00+00:00",
          "2022-01-23T21:57:00+00:00",
          "2022-01-23T21:58:00+00:00",
          "2022-01-23T21:59:00+00:00",
          "2022-01-23T22:00:00+00:00",
          "2022-01-23T22:01:00+00:00",
          "2022-01-23T22:02:00+00:00",
          "2022-01-23T22:03:00+00:00",
          "2022-01-23T22:04:00+00:00",
          "2022-01-23T22:05:00+00:00",
          "2022-01-23T22:06:00+00:00",
          "2022-01-23T22:07:00+00:00",
          "2022-01-23T22:08:00+00:00",
          "2022-01-23T22:09:00+00:00",
          "2022-01-23T22:11:00+00:00",
          "2022-01-23T22:12:00+00:00",
          "2022-01-23T22:13:00+00:00",
          "2022-01-23T22:14:00+00:00",
          "2022-01-23T22:15:00+00:00",
          "2022-01-23T22:16:00+00:00",
          "2022-01-23T22:17:00+00:00",
          "2022-01-23T22:18:00+00:00",
          "2022-01-23T22:19:00+00:00",
          "2022-01-23T22:21:00+00:00",
          "2022-01-23T22:22:00+00:00",
          "2022-01-23T22:23:00+00:00",
          "2022-01-23T22:24:00+00:00",
          "2022-01-23T22:25:00+00:00",
          "2022-01-23T22:26:00+00:00",
          "2022-01-23T22:27:00+00:00",
          "2022-01-23T22:28:00+00:00",
          "2022-01-23T22:29:00+00:00",
          "2022-01-23T22:30:00+00:00",
          "2022-01-23T22:31:00+00:00",
          "2022-01-23T22:32:00+00:00",
          "2022-01-23T22:33:00+00:00",
          "2022-01-23T22:34:00+00:00",
          "2022-01-23T22:35:00+00:00",
          "2022-01-23T22:36:00+00:00",
          "2022-01-23T22:37:00+00:00",
          "2022-01-23T22:38:00+00:00",
          "2022-01-23T22:39:00+00:00",
          "2022-01-23T22:40:00+00:00",
          "2022-01-23T22:41:00+00:00",
          "2022-01-23T22:42:00+00:00",
          "2022-01-23T22:43:00+00:00",
          "2022-01-23T22:44:00+00:00",
          "2022-01-23T22:45:00+00:00",
          "2022-01-23T22:46:00+00:00",
          "2022-01-23T22:47:00+00:00",
          "2022-01-23T22:48:00+00:00",
          "2022-01-23T22:49:00+00:00",
          "2022-01-23T22:50:00+00:00",
          "2022-01-23T22:51:00+00:00",
          "2022-01-23T22:52:00+00:00",
          "2022-01-23T22:53:00+00:00",
          "2022-01-23T22:54:00+00:00",
          "2022-01-23T22:55:00+00:00",
          "2022-01-23T22:56:00+00:00",
          "2022-01-23T22:57:00+00:00",
          "2022-01-23T22:58:00+00:00",
          "2022-01-23T22:59:00+00:00",
          "2022-01-23T23:00:00+00:00",
          "2022-01-23T23:01:00+00:00",
          "2022-01-23T23:02:00+00:00",
          "2022-01-23T23:03:00+00:00",
          "2022-01-23T23:04:00+00:00",
          "2022-01-23T23:05:00+00:00",
          "2022-01-23T23:06:00+00:00",
          "2022-01-23T23:07:00+00:00",
          "2022-01-23T23:08:00+00:00",
          "2022-01-23T23:09:00+00:00",
          "2022-01-23T23:10:00+00:00",
          "2022-01-23T23:11:00+00:00",
          "2022-01-23T23:12:00+00:00",
          "2022-01-23T23:13:00+00:00",
          "2022-01-23T23:14:00+00:00",
          "2022-01-23T23:15:00+00:00",
          "2022-01-23T23:16:00+00:00",
          "2022-01-23T23:17:00+00:00",
          "2022-01-23T23:18:00+00:00",
          "2022-01-23T23:19:00+00:00",
          "2022-01-23T23:20:00+00:00",
          "2022-01-23T23:21:00+00:00",
          "2022-01-23T23:22:00+00:00",
          "2022-01-23T23:23:00+00:00",
          "2022-01-23T23:24:00+00:00",
          "2022-01-23T23:25:00+00:00",
          "2022-01-23T23:26:00+00:00",
          "2022-01-23T23:27:00+00:00",
          "2022-01-23T23:28:00+00:00",
          "2022-01-23T23:29:00+00:00",
          "2022-01-23T23:30:00+00:00",
          "2022-01-23T23:31:00+00:00",
          "2022-01-23T23:32:00+00:00",
          "2022-01-23T23:33:00+00:00",
          "2022-01-23T23:34:00+00:00",
          "2022-01-23T23:35:00+00:00",
          "2022-01-23T23:36:00+00:00",
          "2022-01-23T23:37:00+00:00",
          "2022-01-23T23:38:00+00:00",
          "2022-01-23T23:39:00+00:00",
          "2022-01-23T23:40:00+00:00",
          "2022-01-23T23:41:00+00:00",
          "2022-01-23T23:42:00+00:00",
          "2022-01-23T23:43:00+00:00",
          "2022-01-23T23:44:00+00:00",
          "2022-01-23T23:45:00+00:00",
          "2022-01-23T23:46:00+00:00",
          "2022-01-23T23:47:00+00:00",
          "2022-01-23T23:48:00+00:00",
          "2022-01-23T23:49:00+00:00",
          "2022-01-23T23:50:00+00:00",
          "2022-01-23T23:51:00+00:00",
          "2022-01-23T23:52:00+00:00",
          "2022-01-23T23:53:00+00:00",
          "2022-01-23T23:54:00+00:00",
          "2022-01-23T23:55:00+00:00",
          "2022-01-23T23:56:00+00:00",
          "2022-01-23T23:57:00+00:00",
          "2022-01-23T23:58:00+00:00"
         ],
         "y": [
          0.13966047763824463,
          0.13951557874679565,
          0.1394779086112976,
          0.13945551216602325,
          0.13936066627502441,
          0.13936343789100647,
          0.13933977484703064,
          0.13934370875358582,
          0.1392853558063507,
          0.1391451507806778,
          0.1387380063533783,
          0.13864624500274658,
          0.13861297070980072,
          0.1384224146604538,
          0.13842391967773438,
          0.13842542469501495,
          0.138334259390831,
          0.13834187388420105,
          0.13832177221775055,
          0.13798481225967407,
          0.13799899816513062,
          0.13799744844436646,
          0.13786272704601288,
          0.1378418654203415,
          0.13785798847675323,
          0.13779184222221375,
          0.1377640962600708,
          0.13775014877319336,
          0.13767634332180023,
          0.13766147196292877,
          0.13768942654132843,
          0.13783545792102814,
          0.13780605792999268,
          0.13783158361911774,
          0.13788369297981262,
          0.13795016705989838,
          0.13795889914035797,
          0.13814403116703033,
          0.13813652098178864,
          0.13813315331935883,
          0.13815122842788696,
          0.1381300836801529,
          0.13810193538665771,
          0.13805046677589417,
          0.13807295262813568,
          0.13809767365455627,
          0.13809412717819214,
          0.13810400664806366,
          0.13805875182151794,
          0.13799071311950684,
          0.13795246183872223,
          0.13788144290447235,
          0.13734833896160126,
          0.13735415041446686,
          0.1373995989561081,
          0.1373215913772583,
          0.13728313148021698,
          0.13728313148021698,
          0.1373055875301361,
          0.13731232285499573,
          0.13731811940670013,
          0.13726022839546204,
          0.13737769424915314,
          0.1373506635427475,
          0.1376420259475708,
          0.13764812052249908,
          0.1376354992389679,
          0.13752424716949463,
          0.13752150535583496,
          0.13750439882278442,
          0.13717982172966003,
          0.13710948824882507,
          0.13710936903953552,
          0.13693435490131378,
          0.13690230250358582,
          0.13689777255058289,
          0.1368677318096161,
          0.13675610721111298,
          0.13673093914985657,
          0.1364947110414505,
          0.1365526169538498,
          0.13656191527843475,
          0.13660569489002228,
          0.1367020457983017,
          0.13667500019073486,
          0.13680876791477203,
          0.13684527575969696,
          0.13682779669761658,
          0.1371081918478012,
          0.13713334500789642,
          0.1371360421180725,
          0.13734036684036255,
          0.1373373121023178,
          0.13733601570129395,
          0.13749592006206512,
          0.13751542568206787,
          0.13748383522033691,
          0.1374039500951767,
          0.13734103739261627,
          0.13727450370788574,
          0.13673678040504456,
          0.13663652539253235,
          0.13662558794021606,
          0.1359541416168213,
          0.13603650033473969,
          0.13603045046329498,
          0.13599175214767456,
          0.13604561984539032,
          0.13602973520755768,
          0.13610610365867615,
          0.13612765073776245,
          0.1360694020986557,
          0.1359405219554901,
          0.1359248012304306,
          0.1359667032957077,
          0.13599036633968353,
          0.13596302270889282,
          0.13604415953159332,
          0.13610415160655975,
          0.13607019186019897,
          0.13608834147453308,
          0.13608892261981964,
          0.13618211448192596,
          0.13620078563690186,
          0.13621288537979126,
          0.1361488699913025,
          0.13623030483722687,
          0.1366495043039322,
          0.13675977289676666,
          0.13673922419548035,
          0.13700810074806213,
          0.13700009882450104,
          0.13711631298065186,
          0.1373949497938156,
          0.13746033608913422,
          0.13749051094055176,
          0.13850516080856323,
          0.13830886781215668,
          0.13829445838928223,
          0.13809043169021606,
          0.1381269097328186,
          0.13802430033683777,
          0.1380457729101181,
          0.13806229829788208,
          0.1380530148744583,
          0.13813425600528717,
          0.13810865581035614,
          0.13809837400913239,
          0.13804841041564941,
          0.13802212476730347,
          0.13790367543697357,
          0.13763059675693512,
          0.13762876391410828,
          0.1376289576292038,
          0.13774344325065613,
          0.13774727284908295,
          0.13770323991775513,
          0.13771888613700867,
          0.1377885639667511,
          0.13780981302261353,
          0.13809356093406677,
          0.1381436437368393,
          0.13819631934165955,
          0.1382792592048645,
          0.13826990127563477,
          0.13825544714927673,
          0.13807886838912964,
          0.13807719945907593,
          0.13807103037834167,
          0.13814327120780945,
          0.13814756274223328,
          0.1381593942642212,
          0.13822653889656067,
          0.13822956383228302,
          0.1382119357585907,
          0.13822180032730103,
          0.13822071254253387,
          0.13823744654655457,
          0.1382419914007187,
          0.13822871446609497,
          0.13825099170207977,
          0.1382392942905426,
          0.1381666511297226,
          0.1381627321243286,
          0.13778994977474213,
          0.13778112828731537,
          0.13782738149166107,
          0.13775767385959625,
          0.1377374827861786,
          0.13775454461574554,
          0.13774904608726501,
          0.13761676847934723,
          0.13760346174240112,
          0.13730916380882263,
          0.13732047379016876,
          0.13738688826560974,
          0.13746796548366547,
          0.13748081028461456,
          0.13744617998600006,
          0.13744331896305084,
          0.13747262954711914,
          0.13749462366104126,
          0.13773950934410095,
          0.1377120167016983,
          0.13775591552257538,
          0.13776478171348572,
          0.1378396451473236,
          0.13783831894397736,
          0.13793039321899414,
          0.1379115730524063,
          0.13789181411266327,
          0.13769717514514923,
          0.137703999876976,
          0.1376294046640396,
          0.1373576521873474,
          0.1373283565044403,
          0.13733446598052979,
          0.13723018765449524,
          0.13728313148021698,
          0.13729225099086761,
          0.13751120865345,
          0.13756637275218964,
          0.1375649869441986,
          0.13810522854328156,
          0.1381964385509491,
          0.1382252722978592,
          0.13855309784412384,
          0.13856929540634155,
          0.13850311934947968,
          0.13823695480823517,
          0.1382315754890442,
          0.13821671903133392,
          0.13818706572055817,
          0.13813520967960358,
          0.13802558183670044,
          0.13800901174545288,
          0.13799923658370972,
          0.13796715438365936,
          0.13795794546604156,
          0.13795067369937897,
          0.13768060505390167,
          0.13769640028476715,
          0.13770440220832825,
          0.13774149119853973,
          0.1376810371875763,
          0.13772179186344147,
          0.13764117658138275,
          0.1376321166753769,
          0.1376526653766632,
          0.13780391216278076,
          0.13780726492404938,
          0.1379549652338028,
          0.13796177506446838,
          0.13796241581439972,
          0.13774508237838745,
          0.13775534927845,
          0.1378125101327896,
          0.13787853717803955,
          0.13794222474098206,
          0.13818006217479706,
          0.1382291465997696,
          0.1381547898054123,
          0.13803552091121674,
          0.1380314975976944,
          0.13804508745670319,
          0.13804040849208832,
          0.13804709911346436,
          0.138057678937912,
          0.13809646666049957,
          0.13812094926834106,
          0.13813547790050507,
          0.13825953006744385,
          0.13827747106552124,
          0.13827788829803467,
          0.1382962316274643,
          0.13826042413711548,
          0.13824349641799927,
          0.1381160020828247,
          0.1381167769432068,
          0.13812735676765442,
          0.1381177455186844,
          0.138093963265419,
          0.13807706534862518,
          0.13798271119594574,
          0.13797950744628906,
          0.13803289830684662,
          0.13820622861385345,
          0.13822947442531586,
          0.13820995390415192,
          0.13823536038398743,
          0.13824091851711273,
          0.13829781115055084,
          0.13850344717502594,
          0.13850241899490356,
          0.13849978148937225,
          0.13856296241283417,
          0.13859961926937103,
          0.13860461115837097,
          0.13868212699890137,
          0.13858230412006378,
          0.13866232335567474,
          0.13919518887996674,
          0.1391971856355667,
          0.13915599882602692,
          0.13932207226753235,
          0.1393120437860489,
          0.13953232765197754,
          0.13980573415756226,
          0.14005513489246368,
          0.1400991976261139,
          0.14183127880096436,
          0.1420363336801529,
          0.14205536246299744,
          0.14298251271247864,
          0.14275634288787842,
          0.1427169293165207,
          0.14229905605316162,
          0.1423654407262802,
          0.1425165832042694,
          0.14273600280284882,
          0.14276926219463348,
          0.14269299805164337,
          0.1427045613527298,
          0.14260609447956085,
          0.14267441630363464,
          0.14266720414161682,
          0.14261436462402344,
          0.14250342547893524,
          0.14217373728752136,
          0.14204296469688416,
          0.14198142290115356,
          0.14140409231185913,
          0.1413727104663849,
          0.1413918435573578,
          0.14138279855251312,
          0.14137059450149536,
          0.1413719654083252,
          0.14144757390022278,
          0.1414456069469452,
          0.14139726758003235,
          0.1411195993423462,
          0.14113503694534302,
          0.141149640083313,
          0.1413268744945526,
          0.14138635993003845,
          0.1415048986673355,
          0.14188243448734283,
          0.14188271760940552,
          0.14184217154979706,
          0.1418333798646927,
          0.14185389876365662,
          0.1418297290802002,
          0.14183171093463898,
          0.14187121391296387,
          0.1418524831533432,
          0.14187417924404144
         ]
        }
       ],
       "layout": {
        "template": {
         "data": {
          "bar": [
           {
            "error_x": {
             "color": "#2a3f5f"
            },
            "error_y": {
             "color": "#2a3f5f"
            },
            "marker": {
             "line": {
              "color": "#E5ECF6",
              "width": 0.5
             },
             "pattern": {
              "fillmode": "overlay",
              "size": 10,
              "solidity": 0.2
             }
            },
            "type": "bar"
           }
          ],
          "barpolar": [
           {
            "marker": {
             "line": {
              "color": "#E5ECF6",
              "width": 0.5
             },
             "pattern": {
              "fillmode": "overlay",
              "size": 10,
              "solidity": 0.2
             }
            },
            "type": "barpolar"
           }
          ],
          "carpet": [
           {
            "aaxis": {
             "endlinecolor": "#2a3f5f",
             "gridcolor": "white",
             "linecolor": "white",
             "minorgridcolor": "white",
             "startlinecolor": "#2a3f5f"
            },
            "baxis": {
             "endlinecolor": "#2a3f5f",
             "gridcolor": "white",
             "linecolor": "white",
             "minorgridcolor": "white",
             "startlinecolor": "#2a3f5f"
            },
            "type": "carpet"
           }
          ],
          "choropleth": [
           {
            "colorbar": {
             "outlinewidth": 0,
             "ticks": ""
            },
            "type": "choropleth"
           }
          ],
          "contour": [
           {
            "colorbar": {
             "outlinewidth": 0,
             "ticks": ""
            },
            "colorscale": [
             [
              0,
              "#0d0887"
             ],
             [
              0.1111111111111111,
              "#46039f"
             ],
             [
              0.2222222222222222,
              "#7201a8"
             ],
             [
              0.3333333333333333,
              "#9c179e"
             ],
             [
              0.4444444444444444,
              "#bd3786"
             ],
             [
              0.5555555555555556,
              "#d8576b"
             ],
             [
              0.6666666666666666,
              "#ed7953"
             ],
             [
              0.7777777777777778,
              "#fb9f3a"
             ],
             [
              0.8888888888888888,
              "#fdca26"
             ],
             [
              1,
              "#f0f921"
             ]
            ],
            "type": "contour"
           }
          ],
          "contourcarpet": [
           {
            "colorbar": {
             "outlinewidth": 0,
             "ticks": ""
            },
            "type": "contourcarpet"
           }
          ],
          "heatmap": [
           {
            "colorbar": {
             "outlinewidth": 0,
             "ticks": ""
            },
            "colorscale": [
             [
              0,
              "#0d0887"
             ],
             [
              0.1111111111111111,
              "#46039f"
             ],
             [
              0.2222222222222222,
              "#7201a8"
             ],
             [
              0.3333333333333333,
              "#9c179e"
             ],
             [
              0.4444444444444444,
              "#bd3786"
             ],
             [
              0.5555555555555556,
              "#d8576b"
             ],
             [
              0.6666666666666666,
              "#ed7953"
             ],
             [
              0.7777777777777778,
              "#fb9f3a"
             ],
             [
              0.8888888888888888,
              "#fdca26"
             ],
             [
              1,
              "#f0f921"
             ]
            ],
            "type": "heatmap"
           }
          ],
          "heatmapgl": [
           {
            "colorbar": {
             "outlinewidth": 0,
             "ticks": ""
            },
            "colorscale": [
             [
              0,
              "#0d0887"
             ],
             [
              0.1111111111111111,
              "#46039f"
             ],
             [
              0.2222222222222222,
              "#7201a8"
             ],
             [
              0.3333333333333333,
              "#9c179e"
             ],
             [
              0.4444444444444444,
              "#bd3786"
             ],
             [
              0.5555555555555556,
              "#d8576b"
             ],
             [
              0.6666666666666666,
              "#ed7953"
             ],
             [
              0.7777777777777778,
              "#fb9f3a"
             ],
             [
              0.8888888888888888,
              "#fdca26"
             ],
             [
              1,
              "#f0f921"
             ]
            ],
            "type": "heatmapgl"
           }
          ],
          "histogram": [
           {
            "marker": {
             "pattern": {
              "fillmode": "overlay",
              "size": 10,
              "solidity": 0.2
             }
            },
            "type": "histogram"
           }
          ],
          "histogram2d": [
           {
            "colorbar": {
             "outlinewidth": 0,
             "ticks": ""
            },
            "colorscale": [
             [
              0,
              "#0d0887"
             ],
             [
              0.1111111111111111,
              "#46039f"
             ],
             [
              0.2222222222222222,
              "#7201a8"
             ],
             [
              0.3333333333333333,
              "#9c179e"
             ],
             [
              0.4444444444444444,
              "#bd3786"
             ],
             [
              0.5555555555555556,
              "#d8576b"
             ],
             [
              0.6666666666666666,
              "#ed7953"
             ],
             [
              0.7777777777777778,
              "#fb9f3a"
             ],
             [
              0.8888888888888888,
              "#fdca26"
             ],
             [
              1,
              "#f0f921"
             ]
            ],
            "type": "histogram2d"
           }
          ],
          "histogram2dcontour": [
           {
            "colorbar": {
             "outlinewidth": 0,
             "ticks": ""
            },
            "colorscale": [
             [
              0,
              "#0d0887"
             ],
             [
              0.1111111111111111,
              "#46039f"
             ],
             [
              0.2222222222222222,
              "#7201a8"
             ],
             [
              0.3333333333333333,
              "#9c179e"
             ],
             [
              0.4444444444444444,
              "#bd3786"
             ],
             [
              0.5555555555555556,
              "#d8576b"
             ],
             [
              0.6666666666666666,
              "#ed7953"
             ],
             [
              0.7777777777777778,
              "#fb9f3a"
             ],
             [
              0.8888888888888888,
              "#fdca26"
             ],
             [
              1,
              "#f0f921"
             ]
            ],
            "type": "histogram2dcontour"
           }
          ],
          "mesh3d": [
           {
            "colorbar": {
             "outlinewidth": 0,
             "ticks": ""
            },
            "type": "mesh3d"
           }
          ],
          "parcoords": [
           {
            "line": {
             "colorbar": {
              "outlinewidth": 0,
              "ticks": ""
             }
            },
            "type": "parcoords"
           }
          ],
          "pie": [
           {
            "automargin": true,
            "type": "pie"
           }
          ],
          "scatter": [
           {
            "marker": {
             "colorbar": {
              "outlinewidth": 0,
              "ticks": ""
             }
            },
            "type": "scatter"
           }
          ],
          "scatter3d": [
           {
            "line": {
             "colorbar": {
              "outlinewidth": 0,
              "ticks": ""
             }
            },
            "marker": {
             "colorbar": {
              "outlinewidth": 0,
              "ticks": ""
             }
            },
            "type": "scatter3d"
           }
          ],
          "scattercarpet": [
           {
            "marker": {
             "colorbar": {
              "outlinewidth": 0,
              "ticks": ""
             }
            },
            "type": "scattercarpet"
           }
          ],
          "scattergeo": [
           {
            "marker": {
             "colorbar": {
              "outlinewidth": 0,
              "ticks": ""
             }
            },
            "type": "scattergeo"
           }
          ],
          "scattergl": [
           {
            "marker": {
             "colorbar": {
              "outlinewidth": 0,
              "ticks": ""
             }
            },
            "type": "scattergl"
           }
          ],
          "scattermapbox": [
           {
            "marker": {
             "colorbar": {
              "outlinewidth": 0,
              "ticks": ""
             }
            },
            "type": "scattermapbox"
           }
          ],
          "scatterpolar": [
           {
            "marker": {
             "colorbar": {
              "outlinewidth": 0,
              "ticks": ""
             }
            },
            "type": "scatterpolar"
           }
          ],
          "scatterpolargl": [
           {
            "marker": {
             "colorbar": {
              "outlinewidth": 0,
              "ticks": ""
             }
            },
            "type": "scatterpolargl"
           }
          ],
          "scatterternary": [
           {
            "marker": {
             "colorbar": {
              "outlinewidth": 0,
              "ticks": ""
             }
            },
            "type": "scatterternary"
           }
          ],
          "surface": [
           {
            "colorbar": {
             "outlinewidth": 0,
             "ticks": ""
            },
            "colorscale": [
             [
              0,
              "#0d0887"
             ],
             [
              0.1111111111111111,
              "#46039f"
             ],
             [
              0.2222222222222222,
              "#7201a8"
             ],
             [
              0.3333333333333333,
              "#9c179e"
             ],
             [
              0.4444444444444444,
              "#bd3786"
             ],
             [
              0.5555555555555556,
              "#d8576b"
             ],
             [
              0.6666666666666666,
              "#ed7953"
             ],
             [
              0.7777777777777778,
              "#fb9f3a"
             ],
             [
              0.8888888888888888,
              "#fdca26"
             ],
             [
              1,
              "#f0f921"
             ]
            ],
            "type": "surface"
           }
          ],
          "table": [
           {
            "cells": {
             "fill": {
              "color": "#EBF0F8"
             },
             "line": {
              "color": "white"
             }
            },
            "header": {
             "fill": {
              "color": "#C8D4E3"
             },
             "line": {
              "color": "white"
             }
            },
            "type": "table"
           }
          ]
         },
         "layout": {
          "annotationdefaults": {
           "arrowcolor": "#2a3f5f",
           "arrowhead": 0,
           "arrowwidth": 1
          },
          "autotypenumbers": "strict",
          "coloraxis": {
           "colorbar": {
            "outlinewidth": 0,
            "ticks": ""
           }
          },
          "colorscale": {
           "diverging": [
            [
             0,
             "#8e0152"
            ],
            [
             0.1,
             "#c51b7d"
            ],
            [
             0.2,
             "#de77ae"
            ],
            [
             0.3,
             "#f1b6da"
            ],
            [
             0.4,
             "#fde0ef"
            ],
            [
             0.5,
             "#f7f7f7"
            ],
            [
             0.6,
             "#e6f5d0"
            ],
            [
             0.7,
             "#b8e186"
            ],
            [
             0.8,
             "#7fbc41"
            ],
            [
             0.9,
             "#4d9221"
            ],
            [
             1,
             "#276419"
            ]
           ],
           "sequential": [
            [
             0,
             "#0d0887"
            ],
            [
             0.1111111111111111,
             "#46039f"
            ],
            [
             0.2222222222222222,
             "#7201a8"
            ],
            [
             0.3333333333333333,
             "#9c179e"
            ],
            [
             0.4444444444444444,
             "#bd3786"
            ],
            [
             0.5555555555555556,
             "#d8576b"
            ],
            [
             0.6666666666666666,
             "#ed7953"
            ],
            [
             0.7777777777777778,
             "#fb9f3a"
            ],
            [
             0.8888888888888888,
             "#fdca26"
            ],
            [
             1,
             "#f0f921"
            ]
           ],
           "sequentialminus": [
            [
             0,
             "#0d0887"
            ],
            [
             0.1111111111111111,
             "#46039f"
            ],
            [
             0.2222222222222222,
             "#7201a8"
            ],
            [
             0.3333333333333333,
             "#9c179e"
            ],
            [
             0.4444444444444444,
             "#bd3786"
            ],
            [
             0.5555555555555556,
             "#d8576b"
            ],
            [
             0.6666666666666666,
             "#ed7953"
            ],
            [
             0.7777777777777778,
             "#fb9f3a"
            ],
            [
             0.8888888888888888,
             "#fdca26"
            ],
            [
             1,
             "#f0f921"
            ]
           ]
          },
          "colorway": [
           "#636efa",
           "#EF553B",
           "#00cc96",
           "#ab63fa",
           "#FFA15A",
           "#19d3f3",
           "#FF6692",
           "#B6E880",
           "#FF97FF",
           "#FECB52"
          ],
          "font": {
           "color": "#2a3f5f"
          },
          "geo": {
           "bgcolor": "white",
           "lakecolor": "white",
           "landcolor": "#E5ECF6",
           "showlakes": true,
           "showland": true,
           "subunitcolor": "white"
          },
          "hoverlabel": {
           "align": "left"
          },
          "hovermode": "closest",
          "mapbox": {
           "style": "light"
          },
          "paper_bgcolor": "white",
          "plot_bgcolor": "#E5ECF6",
          "polar": {
           "angularaxis": {
            "gridcolor": "white",
            "linecolor": "white",
            "ticks": ""
           },
           "bgcolor": "#E5ECF6",
           "radialaxis": {
            "gridcolor": "white",
            "linecolor": "white",
            "ticks": ""
           }
          },
          "scene": {
           "xaxis": {
            "backgroundcolor": "#E5ECF6",
            "gridcolor": "white",
            "gridwidth": 2,
            "linecolor": "white",
            "showbackground": true,
            "ticks": "",
            "zerolinecolor": "white"
           },
           "yaxis": {
            "backgroundcolor": "#E5ECF6",
            "gridcolor": "white",
            "gridwidth": 2,
            "linecolor": "white",
            "showbackground": true,
            "ticks": "",
            "zerolinecolor": "white"
           },
           "zaxis": {
            "backgroundcolor": "#E5ECF6",
            "gridcolor": "white",
            "gridwidth": 2,
            "linecolor": "white",
            "showbackground": true,
            "ticks": "",
            "zerolinecolor": "white"
           }
          },
          "shapedefaults": {
           "line": {
            "color": "#2a3f5f"
           }
          },
          "ternary": {
           "aaxis": {
            "gridcolor": "white",
            "linecolor": "white",
            "ticks": ""
           },
           "baxis": {
            "gridcolor": "white",
            "linecolor": "white",
            "ticks": ""
           },
           "bgcolor": "#E5ECF6",
           "caxis": {
            "gridcolor": "white",
            "linecolor": "white",
            "ticks": ""
           }
          },
          "title": {
           "x": 0.05
          },
          "xaxis": {
           "automargin": true,
           "gridcolor": "white",
           "linecolor": "white",
           "ticks": "",
           "title": {
            "standoff": 15
           },
           "zerolinecolor": "white",
           "zerolinewidth": 2
          },
          "yaxis": {
           "automargin": true,
           "gridcolor": "white",
           "linecolor": "white",
           "ticks": "",
           "title": {
            "standoff": 15
           },
           "zerolinecolor": "white",
           "zerolinewidth": 2
          }
         }
        },
        "title": {
         "text": "DOGE-USD Prices for 23-01-2022"
        }
       }
      }
     },
     "metadata": {},
     "output_type": "display_data"
    }
   ],
   "source": [
    "doge = yf.download(tickers=\"DOGE-USD\", interval=\"1m\", start=start, end=end)\n",
    "import plotly.graph_objects as go\n",
    "fig = go.Figure([go.Scatter(x=doge.index, y=doge.High)])\n",
    "fig.update_layout(title=\"DOGE-USD Prices for 23-01-2022\")\n",
    "fig.show()"
   ]
  }
 ],
 "metadata": {
  "interpreter": {
   "hash": "9164a3399a70d355c381b62813f30880ed90ca5a6f321bf0d85375640bda7ee5"
  },
  "kernelspec": {
   "display_name": "Python 3.7.9 64-bit",
   "language": "python",
   "name": "python3"
  },
  "language_info": {
   "codemirror_mode": {
    "name": "ipython",
    "version": 3
   },
   "file_extension": ".py",
   "mimetype": "text/x-python",
   "name": "python",
   "nbconvert_exporter": "python",
   "pygments_lexer": "ipython3",
   "version": "3.7.9"
  },
  "orig_nbformat": 4
 },
 "nbformat": 4,
 "nbformat_minor": 2
}
