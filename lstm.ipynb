{
 "cells": [
  {
   "cell_type": "markdown",
   "metadata": {},
   "source": [
    "### Sentiment Analysis\n",
    "LSTM"
   ]
  },
  {
   "cell_type": "code",
   "execution_count": 1,
   "metadata": {},
   "outputs": [
    {
     "name": "stderr",
     "output_type": "stream",
     "text": [
      "C:\\Users\\User\\AppData\\Local\\Programs\\Python\\Python37\\lib\\site-packages\\numpy\\_distributor_init.py:32: UserWarning: loaded more than 1 DLL from .libs:\n",
      "C:\\Users\\User\\AppData\\Local\\Programs\\Python\\Python37\\lib\\site-packages\\numpy\\.libs\\libopenblas.PYQHXLVVQ7VESDPUVUADXEVJOBGHJPAY.gfortran-win_amd64.dll\n",
      "C:\\Users\\User\\AppData\\Local\\Programs\\Python\\Python37\\lib\\site-packages\\numpy\\.libs\\libopenblas.QVLO2T66WEPI7JZ63PS3HMOHFEY472BC.gfortran-win_amd64.dll\n",
      "C:\\Users\\User\\AppData\\Local\\Programs\\Python\\Python37\\lib\\site-packages\\numpy\\.libs\\libopenblas.XWYDX2IKJW2NMTWSFYNGFUWKQU3LYTCZ.gfortran-win_amd64.dll\n",
      "  stacklevel=1)\n"
     ]
    },
    {
     "name": "stdout",
     "output_type": "stream",
     "text": [
      "Default GPU Device: /device:GPU:0\n"
     ]
    }
   ],
   "source": [
    "# importing libraries\n",
    "import pandas as pd\n",
    "import numpy as np\n",
    "\n",
    "import tensorflow as tf\n",
    "\n",
    "import tensorflow as tf\n",
    "if tf.test.gpu_device_name():\n",
    "    print('Default GPU Device: {}'.format(tf.test.gpu_device_name()))\n",
    "else:\n",
    "    print(\"Please install GPU version of TF\")\n",
    "# Make numpy values easier to read.\n",
    "np.set_printoptions(precision=3, suppress=True)"
   ]
  },
  {
   "cell_type": "code",
   "execution_count": 2,
   "metadata": {},
   "outputs": [
    {
     "data": {
      "text/plain": [
       "0     object\n",
       "1     object\n",
       "2     object\n",
       "3    float64\n",
       "4    float64\n",
       "dtype: object"
      ]
     },
     "execution_count": 2,
     "metadata": {},
     "output_type": "execute_result"
    }
   ],
   "source": [
    "# load bitcoin sentiment dataset\n",
    "df_btc = pd.read_csv(\"C:/Users/User/Documents/C2001/FIT3161_3162/FIT3161/dataset/sentiment/cleanprep.csv\",header=None)\n",
    "df_btc.dtypes"
   ]
  },
  {
   "cell_type": "code",
   "execution_count": 3,
   "metadata": {},
   "outputs": [
    {
     "data": {
      "text/plain": [
       "0    0\n",
       "1    0\n",
       "2    0\n",
       "3    0\n",
       "4    0\n",
       "dtype: int64"
      ]
     },
     "execution_count": 3,
     "metadata": {},
     "output_type": "execute_result"
    }
   ],
   "source": [
    "# dropping null rows\n",
    "df_btc = df_btc.dropna()\n",
    "df_btc.isnull().sum()"
   ]
  },
  {
   "cell_type": "code",
   "execution_count": 4,
   "metadata": {},
   "outputs": [
    {
     "data": {
      "text/html": [
       "<div>\n",
       "<style scoped>\n",
       "    .dataframe tbody tr th:only-of-type {\n",
       "        vertical-align: middle;\n",
       "    }\n",
       "\n",
       "    .dataframe tbody tr th {\n",
       "        vertical-align: top;\n",
       "    }\n",
       "\n",
       "    .dataframe thead th {\n",
       "        text-align: right;\n",
       "    }\n",
       "</style>\n",
       "<table border=\"1\" class=\"dataframe\">\n",
       "  <thead>\n",
       "    <tr style=\"text-align: right;\">\n",
       "      <th></th>\n",
       "      <th>0</th>\n",
       "      <th>1</th>\n",
       "      <th>2</th>\n",
       "      <th>3</th>\n",
       "      <th>4</th>\n",
       "    </tr>\n",
       "  </thead>\n",
       "  <tbody>\n",
       "    <tr>\n",
       "      <th>0</th>\n",
       "      <td>2018-07-11 19:35:15.363270</td>\n",
       "      <td>b'tj'</td>\n",
       "      <td>b\"Next two weeks prob v boring (climb up to 9k...</td>\n",
       "      <td>0.007273</td>\n",
       "      <td>0.590909</td>\n",
       "    </tr>\n",
       "    <tr>\n",
       "      <th>1</th>\n",
       "      <td>2018-07-11 19:35:15.736769</td>\n",
       "      <td>b'Kool_Kheart'</td>\n",
       "      <td>b'@Miss_rinola But you\\xe2\\x80\\x99ve heard abo...</td>\n",
       "      <td>0.000000</td>\n",
       "      <td>0.000000</td>\n",
       "    </tr>\n",
       "    <tr>\n",
       "      <th>2</th>\n",
       "      <td>2018-07-11 19:35:15.744769</td>\n",
       "      <td>b'Gary Lang'</td>\n",
       "      <td>b'Duplicate skilled traders automatically with...</td>\n",
       "      <td>0.625000</td>\n",
       "      <td>0.500000</td>\n",
       "    </tr>\n",
       "    <tr>\n",
       "      <th>3</th>\n",
       "      <td>2018-07-11 19:35:15.867339</td>\n",
       "      <td>b'Jobs in Fintech'</td>\n",
       "      <td>b'Project Manager - Technical - FinTech - Cent...</td>\n",
       "      <td>0.000000</td>\n",
       "      <td>0.175000</td>\n",
       "    </tr>\n",
       "    <tr>\n",
       "      <th>4</th>\n",
       "      <td>2018-07-11 19:35:16.021448</td>\n",
       "      <td>b'ERC20'</td>\n",
       "      <td>b'Coinbase App Downloads Drop, Crypto Hype Fad...</td>\n",
       "      <td>0.333333</td>\n",
       "      <td>0.500000</td>\n",
       "    </tr>\n",
       "  </tbody>\n",
       "</table>\n",
       "</div>"
      ],
      "text/plain": [
       "                            0                   1  \\\n",
       "0  2018-07-11 19:35:15.363270               b'tj'   \n",
       "1  2018-07-11 19:35:15.736769      b'Kool_Kheart'   \n",
       "2  2018-07-11 19:35:15.744769        b'Gary Lang'   \n",
       "3  2018-07-11 19:35:15.867339  b'Jobs in Fintech'   \n",
       "4  2018-07-11 19:35:16.021448            b'ERC20'   \n",
       "\n",
       "                                                   2         3         4  \n",
       "0  b\"Next two weeks prob v boring (climb up to 9k...  0.007273  0.590909  \n",
       "1  b'@Miss_rinola But you\\xe2\\x80\\x99ve heard abo...  0.000000  0.000000  \n",
       "2  b'Duplicate skilled traders automatically with...  0.625000  0.500000  \n",
       "3  b'Project Manager - Technical - FinTech - Cent...  0.000000  0.175000  \n",
       "4  b'Coinbase App Downloads Drop, Crypto Hype Fad...  0.333333  0.500000  "
      ]
     },
     "execution_count": 4,
     "metadata": {},
     "output_type": "execute_result"
    }
   ],
   "source": [
    "df_btc.head()"
   ]
  },
  {
   "cell_type": "code",
   "execution_count": 5,
   "metadata": {},
   "outputs": [],
   "source": [
    "# minimize the dataset by selecting data 2020\n",
    "df_btc[0] = pd.to_datetime(df_btc[0])\n",
    "start_date = '2018-07-11'\n",
    "end_date = '2018-07-12'\n",
    "mask = (df_btc[0] > start_date) & (df_btc[0] <= end_date)\n",
    "\n",
    "df_btc = df_btc.loc[mask]"
   ]
  },
  {
   "cell_type": "code",
   "execution_count": 6,
   "metadata": {},
   "outputs": [
    {
     "data": {
      "text/html": [
       "<div>\n",
       "<style scoped>\n",
       "    .dataframe tbody tr th:only-of-type {\n",
       "        vertical-align: middle;\n",
       "    }\n",
       "\n",
       "    .dataframe tbody tr th {\n",
       "        vertical-align: top;\n",
       "    }\n",
       "\n",
       "    .dataframe thead th {\n",
       "        text-align: right;\n",
       "    }\n",
       "</style>\n",
       "<table border=\"1\" class=\"dataframe\">\n",
       "  <thead>\n",
       "    <tr style=\"text-align: right;\">\n",
       "      <th></th>\n",
       "      <th>0</th>\n",
       "      <th>1</th>\n",
       "      <th>2</th>\n",
       "      <th>3</th>\n",
       "      <th>4</th>\n",
       "    </tr>\n",
       "  </thead>\n",
       "  <tbody>\n",
       "    <tr>\n",
       "      <th>0</th>\n",
       "      <td>2018-07-11 19:35:15.363270</td>\n",
       "      <td>b'tj'</td>\n",
       "      <td>b\"Next two weeks prob v boring (climb up to 9k...</td>\n",
       "      <td>0.007273</td>\n",
       "      <td>0.590909</td>\n",
       "    </tr>\n",
       "    <tr>\n",
       "      <th>1</th>\n",
       "      <td>2018-07-11 19:35:15.736769</td>\n",
       "      <td>b'Kool_Kheart'</td>\n",
       "      <td>b'@Miss_rinola But you\\xe2\\x80\\x99ve heard abo...</td>\n",
       "      <td>0.000000</td>\n",
       "      <td>0.000000</td>\n",
       "    </tr>\n",
       "    <tr>\n",
       "      <th>2</th>\n",
       "      <td>2018-07-11 19:35:15.744769</td>\n",
       "      <td>b'Gary Lang'</td>\n",
       "      <td>b'Duplicate skilled traders automatically with...</td>\n",
       "      <td>0.625000</td>\n",
       "      <td>0.500000</td>\n",
       "    </tr>\n",
       "    <tr>\n",
       "      <th>3</th>\n",
       "      <td>2018-07-11 19:35:15.867339</td>\n",
       "      <td>b'Jobs in Fintech'</td>\n",
       "      <td>b'Project Manager - Technical - FinTech - Cent...</td>\n",
       "      <td>0.000000</td>\n",
       "      <td>0.175000</td>\n",
       "    </tr>\n",
       "    <tr>\n",
       "      <th>4</th>\n",
       "      <td>2018-07-11 19:35:16.021448</td>\n",
       "      <td>b'ERC20'</td>\n",
       "      <td>b'Coinbase App Downloads Drop, Crypto Hype Fad...</td>\n",
       "      <td>0.333333</td>\n",
       "      <td>0.500000</td>\n",
       "    </tr>\n",
       "  </tbody>\n",
       "</table>\n",
       "</div>"
      ],
      "text/plain": [
       "                           0                   1  \\\n",
       "0 2018-07-11 19:35:15.363270               b'tj'   \n",
       "1 2018-07-11 19:35:15.736769      b'Kool_Kheart'   \n",
       "2 2018-07-11 19:35:15.744769        b'Gary Lang'   \n",
       "3 2018-07-11 19:35:15.867339  b'Jobs in Fintech'   \n",
       "4 2018-07-11 19:35:16.021448            b'ERC20'   \n",
       "\n",
       "                                                   2         3         4  \n",
       "0  b\"Next two weeks prob v boring (climb up to 9k...  0.007273  0.590909  \n",
       "1  b'@Miss_rinola But you\\xe2\\x80\\x99ve heard abo...  0.000000  0.000000  \n",
       "2  b'Duplicate skilled traders automatically with...  0.625000  0.500000  \n",
       "3  b'Project Manager - Technical - FinTech - Cent...  0.000000  0.175000  \n",
       "4  b'Coinbase App Downloads Drop, Crypto Hype Fad...  0.333333  0.500000  "
      ]
     },
     "execution_count": 6,
     "metadata": {},
     "output_type": "execute_result"
    }
   ],
   "source": [
    "df_btc.head()"
   ]
  },
  {
   "cell_type": "markdown",
   "metadata": {},
   "source": [
    "Preparing training data"
   ]
  },
  {
   "cell_type": "code",
   "execution_count": 7,
   "metadata": {},
   "outputs": [
    {
     "name": "stdout",
     "output_type": "stream",
     "text": [
      "b'@tal51851805\\n@Le_Ehmad @CryptoSchoolPak  @salihughes @io_eth @altcharts \\n#ETHP #Airdrop #EthereumPro #ETH #Bitcoin\\xe2\\x80\\xa6 https://t.co/ytm1cwDSox' 0.0\n"
     ]
    }
   ],
   "source": [
    "X_train, Y_train = df_btc[2], df_btc[3]\n",
    "\n",
    "# testing\n",
    "index = 25\n",
    "print(X_train[index], Y_train[index])"
   ]
  },
  {
   "cell_type": "code",
   "execution_count": 8,
   "metadata": {},
   "outputs": [
    {
     "name": "stdout",
     "output_type": "stream",
     "text": [
      "Found 45254 unique tokens.\n"
     ]
    }
   ],
   "source": [
    "from keras.preprocessing.text import Tokenizer\n",
    "\n",
    "# The maximum number of words to be used. (most frequent)\n",
    "MAX_NB_WORDS = 50000\n",
    "# Max number of words in each tweets.\n",
    "MAX_SEQUENCE_LENGTH = 250\n",
    "# This is fixed.\n",
    "EMBEDDING_DIM = 100\n",
    "tokenizer = Tokenizer(num_words=MAX_NB_WORDS, filters='!\"#$%&()*+,-./:;<=>?@[\\]^_`{|}~', lower=True)\n",
    "tokenizer.fit_on_texts(df_btc[2].values)\n",
    "word_index = tokenizer.word_index\n",
    "print('Found %s unique tokens.' % len(word_index))"
   ]
  },
  {
   "cell_type": "code",
   "execution_count": 9,
   "metadata": {},
   "outputs": [
    {
     "name": "stdout",
     "output_type": "stream",
     "text": [
      "Shape of data tensor: (18343, 250)\n"
     ]
    }
   ],
   "source": [
    "from keras.preprocessing.sequence import pad_sequences\n",
    "\n",
    "X = tokenizer.texts_to_sequences(df_btc[2].values)\n",
    "X = pad_sequences(X, maxlen=MAX_SEQUENCE_LENGTH)\n",
    "print('Shape of data tensor:', X.shape)"
   ]
  },
  {
   "cell_type": "code",
   "execution_count": 10,
   "metadata": {},
   "outputs": [
    {
     "name": "stdout",
     "output_type": "stream",
     "text": [
      "Shape of label tensor: (18343, 660)\n"
     ]
    }
   ],
   "source": [
    "Y = pd.get_dummies(df_btc[3]).values\n",
    "print('Shape of label tensor:', Y.shape)"
   ]
  },
  {
   "cell_type": "code",
   "execution_count": 11,
   "metadata": {},
   "outputs": [
    {
     "name": "stdout",
     "output_type": "stream",
     "text": [
      "(16508, 250) (16508, 660)\n",
      "(1835, 250) (1835, 660)\n"
     ]
    }
   ],
   "source": [
    "from sklearn.model_selection import train_test_split\n",
    "\n",
    "X_train, X_test, Y_train, Y_test = train_test_split(X,Y, test_size = 0.10, random_state = 42)\n",
    "print(X_train.shape,Y_train.shape)\n",
    "print(X_test.shape,Y_test.shape)"
   ]
  },
  {
   "cell_type": "code",
   "execution_count": 12,
   "metadata": {},
   "outputs": [
    {
     "name": "stdout",
     "output_type": "stream",
     "text": [
      "Model: \"sequential\"\n",
      "_________________________________________________________________\n",
      " Layer (type)                Output Shape              Param #   \n",
      "=================================================================\n",
      " embedding (Embedding)       (None, 250, 100)          5000000   \n",
      "                                                                 \n",
      " lstm (LSTM)                 (None, 250, 128)          117248    \n",
      "                                                                 \n",
      " spatial_dropout1d (SpatialD  (None, 250, 128)         0         \n",
      " ropout1D)                                                       \n",
      "                                                                 \n",
      " cu_dnnlstm (CuDNNLSTM)      (None, 128)               132096    \n",
      "                                                                 \n",
      " dense (Dense)               (None, 1)                 129       \n",
      "                                                                 \n",
      "=================================================================\n",
      "Total params: 5,249,473\n",
      "Trainable params: 5,249,473\n",
      "Non-trainable params: 0\n",
      "_________________________________________________________________\n",
      "None\n"
     ]
    }
   ],
   "source": [
    "from tensorflow import keras\n",
    "from keras.models import Sequential\n",
    "from keras.layers import Dense, Embedding, CuDNNLSTM, SpatialDropout1D, LSTM, Bidirectional\n",
    "model = Sequential()\n",
    "model.add(Embedding(MAX_NB_WORDS, EMBEDDING_DIM, input_length=X_train.shape[1]))\n",
    "model.add(LSTM(128, input_shape=(X_train.shape[1],1), return_sequences=True))\n",
    "model.add(SpatialDropout1D(0.6))\n",
    "model.add(CuDNNLSTM(128))\n",
    "model.add(Dense(1, activation='tanh'))\n",
    "\n",
    "opt = keras.optimizers.Adam(learning_rate=0.00005)\n",
    "\n",
    "\n",
    "model.compile(loss='binary_crossentropy', optimizer=opt, metrics=['accuracy'])\n",
    "print(model.summary())"
   ]
  },
  {
   "cell_type": "code",
   "execution_count": 13,
   "metadata": {},
   "outputs": [
    {
     "name": "stdout",
     "output_type": "stream",
     "text": [
      "Epoch 1/50\n",
      "233/233 [==============================] - 19s 49ms/step - loss: 0.0184 - accuracy: 0.9985 - val_loss: 0.0161 - val_accuracy: 0.9985\n",
      "Epoch 2/50\n",
      "233/233 [==============================] - 10s 45ms/step - loss: 0.0170 - accuracy: 0.9985 - val_loss: 0.0132 - val_accuracy: 0.9985\n",
      "Epoch 3/50\n",
      "233/233 [==============================] - 11s 45ms/step - loss: 0.0173 - accuracy: 0.9985 - val_loss: 0.0254 - val_accuracy: 0.9985\n",
      "Epoch 4/50\n",
      "233/233 [==============================] - 10s 45ms/step - loss: 0.0198 - accuracy: 0.9985 - val_loss: 0.0200 - val_accuracy: 0.9985\n",
      "Epoch 5/50\n",
      "233/233 [==============================] - 10s 45ms/step - loss: 0.0175 - accuracy: 0.9985 - val_loss: 0.0158 - val_accuracy: 0.9985\n",
      "Epoch 6/50\n",
      "233/233 [==============================] - 10s 45ms/step - loss: 0.0164 - accuracy: 0.9985 - val_loss: 0.0139 - val_accuracy: 0.9985\n",
      "Epoch 7/50\n",
      "233/233 [==============================] - 11s 45ms/step - loss: 0.0155 - accuracy: 0.9985 - val_loss: 0.0160 - val_accuracy: 0.9985\n",
      "Epoch 8/50\n",
      "233/233 [==============================] - 10s 45ms/step - loss: 0.0149 - accuracy: 0.9985 - val_loss: 0.0129 - val_accuracy: 0.9985\n",
      "Epoch 9/50\n",
      "233/233 [==============================] - 11s 45ms/step - loss: 0.0147 - accuracy: 0.9985 - val_loss: 0.0125 - val_accuracy: 0.9985\n",
      "Epoch 10/50\n",
      "233/233 [==============================] - 11s 45ms/step - loss: 0.0145 - accuracy: 0.9985 - val_loss: 0.0128 - val_accuracy: 0.9985\n",
      "Epoch 11/50\n",
      "233/233 [==============================] - 11s 46ms/step - loss: 0.0140 - accuracy: 0.9985 - val_loss: 0.0193 - val_accuracy: 0.9985\n",
      "Epoch 12/50\n",
      "233/233 [==============================] - 11s 46ms/step - loss: 0.0165 - accuracy: 0.9985 - val_loss: 0.0137 - val_accuracy: 0.9985\n",
      "Epoch 13/50\n",
      "233/233 [==============================] - 11s 46ms/step - loss: 0.0139 - accuracy: 0.9985 - val_loss: 0.0129 - val_accuracy: 0.9985\n",
      "Epoch 14/50\n",
      "233/233 [==============================] - 11s 46ms/step - loss: 0.0133 - accuracy: 0.9985 - val_loss: 0.0130 - val_accuracy: 0.9985\n",
      "Epoch 15/50\n",
      "233/233 [==============================] - 11s 45ms/step - loss: 0.0133 - accuracy: 0.9985 - val_loss: 0.0123 - val_accuracy: 0.9985\n",
      "Epoch 16/50\n",
      "233/233 [==============================] - 10s 45ms/step - loss: 0.0160 - accuracy: 0.9985 - val_loss: 0.0129 - val_accuracy: 0.9985\n",
      "Epoch 17/50\n",
      "233/233 [==============================] - 11s 46ms/step - loss: 0.0132 - accuracy: 0.9985 - val_loss: 0.0123 - val_accuracy: 0.9985\n",
      "Epoch 18/50\n",
      "233/233 [==============================] - 11s 45ms/step - loss: 0.0138 - accuracy: 0.9985 - val_loss: 0.0275 - val_accuracy: 0.9985\n",
      "Epoch 19/50\n",
      "233/233 [==============================] - 11s 46ms/step - loss: 0.0153 - accuracy: 0.9985 - val_loss: 0.0123 - val_accuracy: 0.9985\n",
      "Epoch 20/50\n",
      "233/233 [==============================] - 11s 46ms/step - loss: 0.0129 - accuracy: 0.9985 - val_loss: 0.0121 - val_accuracy: 0.9985\n",
      "Epoch 21/50\n",
      "233/233 [==============================] - 11s 46ms/step - loss: 0.0125 - accuracy: 0.9985 - val_loss: 0.0118 - val_accuracy: 0.9985\n",
      "Epoch 22/50\n",
      "233/233 [==============================] - 11s 45ms/step - loss: 0.0122 - accuracy: 0.9985 - val_loss: 0.0127 - val_accuracy: 0.9985\n",
      "Epoch 23/50\n",
      "233/233 [==============================] - 11s 45ms/step - loss: 0.0121 - accuracy: 0.9985 - val_loss: 0.0117 - val_accuracy: 0.9985\n",
      "Epoch 24/50\n",
      "233/233 [==============================] - 11s 46ms/step - loss: 0.0120 - accuracy: 0.9985 - val_loss: 0.0115 - val_accuracy: 0.9985\n",
      "Epoch 25/50\n",
      "233/233 [==============================] - 11s 47ms/step - loss: 0.0120 - accuracy: 0.9985 - val_loss: 0.0116 - val_accuracy: 0.9985\n",
      "Epoch 26/50\n",
      "233/233 [==============================] - 12s 50ms/step - loss: 0.0117 - accuracy: 0.9985 - val_loss: 0.0116 - val_accuracy: 0.9985\n",
      "Epoch 27/50\n",
      "233/233 [==============================] - 12s 50ms/step - loss: 0.0126 - accuracy: 0.9985 - val_loss: 0.0135 - val_accuracy: 0.9985\n",
      "Epoch 28/50\n",
      "233/233 [==============================] - 12s 50ms/step - loss: 0.0118 - accuracy: 0.9985 - val_loss: 0.0115 - val_accuracy: 0.9985\n",
      "Epoch 29/50\n",
      "233/233 [==============================] - 12s 49ms/step - loss: 0.0115 - accuracy: 0.9985 - val_loss: 0.0117 - val_accuracy: 0.9985\n",
      "Epoch 30/50\n",
      "233/233 [==============================] - 11s 48ms/step - loss: 0.0115 - accuracy: 0.9985 - val_loss: 0.0114 - val_accuracy: 0.9985\n",
      "Epoch 31/50\n",
      "233/233 [==============================] - 11s 49ms/step - loss: 0.0114 - accuracy: 0.9985 - val_loss: 0.0114 - val_accuracy: 0.9985\n",
      "Epoch 32/50\n",
      "233/233 [==============================] - 12s 50ms/step - loss: 0.0114 - accuracy: 0.9985 - val_loss: 0.0114 - val_accuracy: 0.9985\n",
      "Epoch 33/50\n",
      "233/233 [==============================] - 11s 49ms/step - loss: 0.0114 - accuracy: 0.9985 - val_loss: 0.0114 - val_accuracy: 0.9985\n",
      "Epoch 34/50\n",
      "233/233 [==============================] - 11s 49ms/step - loss: 0.0114 - accuracy: 0.9985 - val_loss: 0.0114 - val_accuracy: 0.9985\n",
      "Epoch 35/50\n",
      "233/233 [==============================] - 11s 49ms/step - loss: 0.0114 - accuracy: 0.9985 - val_loss: 0.0114 - val_accuracy: 0.9985\n",
      "Epoch 36/50\n",
      "233/233 [==============================] - 12s 49ms/step - loss: 0.0114 - accuracy: 0.9985 - val_loss: 0.0114 - val_accuracy: 0.9985\n",
      "Epoch 37/50\n",
      "233/233 [==============================] - 12s 49ms/step - loss: 0.0114 - accuracy: 0.9985 - val_loss: 0.0114 - val_accuracy: 0.9985\n",
      "Epoch 38/50\n",
      "233/233 [==============================] - 11s 49ms/step - loss: 0.0114 - accuracy: 0.9985 - val_loss: 0.0114 - val_accuracy: 0.9985\n",
      "Epoch 39/50\n",
      "233/233 [==============================] - 11s 49ms/step - loss: 0.0114 - accuracy: 0.9985 - val_loss: 0.0114 - val_accuracy: 0.9985\n",
      "Epoch 40/50\n",
      "233/233 [==============================] - 12s 50ms/step - loss: 0.0114 - accuracy: 0.9985 - val_loss: 0.0114 - val_accuracy: 0.9985\n",
      "Epoch 41/50\n",
      "233/233 [==============================] - 12s 50ms/step - loss: 0.0114 - accuracy: 0.9985 - val_loss: 0.0114 - val_accuracy: 0.9985\n",
      "Epoch 42/50\n",
      "233/233 [==============================] - 12s 49ms/step - loss: 0.0114 - accuracy: 0.9985 - val_loss: 0.0114 - val_accuracy: 0.9985\n",
      "Epoch 43/50\n",
      "233/233 [==============================] - 11s 49ms/step - loss: 0.0114 - accuracy: 0.9985 - val_loss: 0.0114 - val_accuracy: 0.9985114 - accuracy\n",
      "Epoch 44/50\n",
      "233/233 [==============================] - 12s 50ms/step - loss: 0.0114 - accuracy: 0.9985 - val_loss: 0.0114 - val_accuracy: 0.9985\n",
      "Epoch 45/50\n",
      "233/233 [==============================] - 12s 50ms/step - loss: 0.0114 - accuracy: 0.9985 - val_loss: 0.0114 - val_accuracy: 0.9985\n",
      "Epoch 46/50\n",
      "233/233 [==============================] - 12s 49ms/step - loss: 0.0114 - accuracy: 0.9985 - val_loss: 0.0114 - val_accuracy: 0.9985\n",
      "Epoch 47/50\n",
      "233/233 [==============================] - 12s 50ms/step - loss: 0.0114 - accuracy: 0.9985 - val_loss: 0.0114 - val_accuracy: 0.9985\n",
      "Epoch 48/50\n",
      "233/233 [==============================] - 12s 49ms/step - loss: 0.0114 - accuracy: 0.9985 - val_loss: 0.0114 - val_accuracy: 0.9985\n",
      "Epoch 49/50\n",
      "233/233 [==============================] - 12s 51ms/step - loss: 0.0114 - accuracy: 0.9985 - val_loss: 0.0114 - val_accuracy: 0.9985\n",
      "Epoch 50/50\n",
      "233/233 [==============================] - 12s 51ms/step - loss: 0.0114 - accuracy: 0.9985 - val_loss: 0.0114 - val_accuracy: 0.9985\n"
     ]
    }
   ],
   "source": [
    "epochs = 50\n",
    "batch_size = 64\n",
    "\n",
    "history = model.fit(X_train, Y_train, epochs=epochs, batch_size=batch_size,validation_split=0.1)\n"
   ]
  },
  {
   "cell_type": "code",
   "execution_count": 14,
   "metadata": {},
   "outputs": [
    {
     "name": "stdout",
     "output_type": "stream",
     "text": [
      "58/58 [==============================] - 1s 17ms/step - loss: 0.0114 - accuracy: 0.9985\n",
      "Test set\n",
      "  Loss: 0.011\n",
      "  Accuracy: 0.998\n"
     ]
    }
   ],
   "source": [
    "accr = model.evaluate(X_test,Y_test)\n",
    "print('Test set\\n  Loss: {:0.3f}\\n  Accuracy: {:0.3f}'.format(accr[0],accr[1]))"
   ]
  },
  {
   "cell_type": "code",
   "execution_count": 73,
   "metadata": {},
   "outputs": [
    {
     "data": {
      "image/png": "[encoded data removed]",
      "text/plain": [
       "<Figure size 432x288 with 1 Axes>"
      ]
     },
     "metadata": {
      "needs_background": "light"
     },
     "output_type": "display_data"
    }
   ],
   "source": [
    "import matplotlib.pyplot as plt\n",
    "\n",
    "plt.title('Loss')\n",
    "plt.plot(history.history['loss'], label='train')\n",
    "plt.plot(history.history['val_loss'], label='test')\n",
    "plt.legend()\n",
    "plt.show()"
   ]
  },
  {
   "cell_type": "code",
   "execution_count": 16,
   "metadata": {},
   "outputs": [
    {
     "data": {
      "image/png": "[encoded data removed]",
      "text/plain": [
       "<Figure size 432x288 with 1 Axes>"
      ]
     },
     "metadata": {
      "needs_background": "light"
     },
     "output_type": "display_data"
    }
   ],
   "source": [
    "plt.title('Accuracy')\n",
    "plt.plot(history.history['accuracy'], label='train')\n",
    "plt.plot(history.history['val_accuracy'], label='test')\n",
    "plt.legend()\n",
    "plt.show()"
   ]
  },
  {
   "cell_type": "code",
   "execution_count": 51,
   "metadata": {},
   "outputs": [
    {
     "data": {
      "text/html": [
       "<div>\n",
       "<style scoped>\n",
       "    .dataframe tbody tr th:only-of-type {\n",
       "        vertical-align: middle;\n",
       "    }\n",
       "\n",
       "    .dataframe tbody tr th {\n",
       "        vertical-align: top;\n",
       "    }\n",
       "\n",
       "    .dataframe thead th {\n",
       "        text-align: right;\n",
       "    }\n",
       "</style>\n",
       "<table border=\"1\" class=\"dataframe\">\n",
       "  <thead>\n",
       "    <tr style=\"text-align: right;\">\n",
       "      <th></th>\n",
       "      <th>username</th>\n",
       "      <th>acctdesc</th>\n",
       "      <th>location</th>\n",
       "      <th>following</th>\n",
       "      <th>followers</th>\n",
       "      <th>totaltweets</th>\n",
       "      <th>usercreatedts</th>\n",
       "      <th>tweetcreatedts</th>\n",
       "      <th>retweetcount</th>\n",
       "      <th>text</th>\n",
       "      <th>hashtags</th>\n",
       "    </tr>\n",
       "  </thead>\n",
       "  <tbody>\n",
       "    <tr>\n",
       "      <th>0</th>\n",
       "      <td>PovarezhkaRu</td>\n",
       "      <td>Приветствую всех, на кулинарном портале https:...</td>\n",
       "      <td>NaN</td>\n",
       "      <td>0</td>\n",
       "      <td>0</td>\n",
       "      <td>3</td>\n",
       "      <td>2021-10-25 17:53:01+00:00</td>\n",
       "      <td>2022-01-23 18:55:42+00:00</td>\n",
       "      <td>22</td>\n",
       "      <td>🌎⚠️🔒 Check your VerusID Vault anywhere in the ...</td>\n",
       "      <td>[{'text': 'cryptocurrency', 'indices': [95, 11...</td>\n",
       "    </tr>\n",
       "    <tr>\n",
       "      <th>1</th>\n",
       "      <td>Z3roDoG3</td>\n",
       "      <td>NaN</td>\n",
       "      <td>NaN</td>\n",
       "      <td>687</td>\n",
       "      <td>61</td>\n",
       "      <td>1474</td>\n",
       "      <td>2018-09-25 05:18:25+00:00</td>\n",
       "      <td>2022-01-23 18:55:41+00:00</td>\n",
       "      <td>160</td>\n",
       "      <td>One reason I love crypto so much is because ev...</td>\n",
       "      <td>[]</td>\n",
       "    </tr>\n",
       "    <tr>\n",
       "      <th>2</th>\n",
       "      <td>jamorantq</td>\n",
       "      <td>NaN</td>\n",
       "      <td>NaN</td>\n",
       "      <td>195</td>\n",
       "      <td>1</td>\n",
       "      <td>47</td>\n",
       "      <td>2020-10-24 17:29:35+00:00</td>\n",
       "      <td>2022-01-23 18:55:40+00:00</td>\n",
       "      <td>24270</td>\n",
       "      <td>🎆🎆Happy New Year in advance!\\nWe will draw 10 ...</td>\n",
       "      <td>[]</td>\n",
       "    </tr>\n",
       "    <tr>\n",
       "      <th>3</th>\n",
       "      <td>_Burak_Dogu</td>\n",
       "      <td>$BICO $SXP $HMT $ATLAS $RACA $KIN</td>\n",
       "      <td>Sarıyer</td>\n",
       "      <td>638</td>\n",
       "      <td>52</td>\n",
       "      <td>1435</td>\n",
       "      <td>2013-02-02 19:46:05+00:00</td>\n",
       "      <td>2022-01-23 18:55:37+00:00</td>\n",
       "      <td>25718</td>\n",
       "      <td>🚀 Airdrop continue:Airdrop：https://t.co/NePHh1...</td>\n",
       "      <td>[]</td>\n",
       "    </tr>\n",
       "    <tr>\n",
       "      <th>4</th>\n",
       "      <td>EnginSenli1</td>\n",
       "      <td>NaN</td>\n",
       "      <td>Kocaeli</td>\n",
       "      <td>231</td>\n",
       "      <td>52</td>\n",
       "      <td>224</td>\n",
       "      <td>2016-08-04 16:06:39+00:00</td>\n",
       "      <td>2022-01-23 18:55:36+00:00</td>\n",
       "      <td>1</td>\n",
       "      <td>#etalbit\\n#vabeey\\n#denaar\\n#scammer\\n#cryptoc...</td>\n",
       "      <td>[{'text': 'etalbit', 'indices': [16, 24]}, {'t...</td>\n",
       "    </tr>\n",
       "  </tbody>\n",
       "</table>\n",
       "</div>"
      ],
      "text/plain": [
       "       username                                           acctdesc location  \\\n",
       "0  PovarezhkaRu  Приветствую всех, на кулинарном портале https:...      NaN   \n",
       "1      Z3roDoG3                                                NaN      NaN   \n",
       "2     jamorantq                                                NaN      NaN   \n",
       "3   _Burak_Dogu                  $BICO $SXP $HMT $ATLAS $RACA $KIN  Sarıyer   \n",
       "4   EnginSenli1                                                NaN  Kocaeli   \n",
       "\n",
       "   following  followers  totaltweets              usercreatedts  \\\n",
       "0          0          0            3  2021-10-25 17:53:01+00:00   \n",
       "1        687         61         1474  2018-09-25 05:18:25+00:00   \n",
       "2        195          1           47  2020-10-24 17:29:35+00:00   \n",
       "3        638         52         1435  2013-02-02 19:46:05+00:00   \n",
       "4        231         52          224  2016-08-04 16:06:39+00:00   \n",
       "\n",
       "              tweetcreatedts  retweetcount  \\\n",
       "0  2022-01-23 18:55:42+00:00            22   \n",
       "1  2022-01-23 18:55:41+00:00           160   \n",
       "2  2022-01-23 18:55:40+00:00         24270   \n",
       "3  2022-01-23 18:55:37+00:00         25718   \n",
       "4  2022-01-23 18:55:36+00:00             1   \n",
       "\n",
       "                                                text  \\\n",
       "0  🌎⚠️🔒 Check your VerusID Vault anywhere in the ...   \n",
       "1  One reason I love crypto so much is because ev...   \n",
       "2  🎆🎆Happy New Year in advance!\\nWe will draw 10 ...   \n",
       "3  🚀 Airdrop continue:Airdrop：https://t.co/NePHh1...   \n",
       "4  #etalbit\\n#vabeey\\n#denaar\\n#scammer\\n#cryptoc...   \n",
       "\n",
       "                                            hashtags  \n",
       "0  [{'text': 'cryptocurrency', 'indices': [95, 11...  \n",
       "1                                                 []  \n",
       "2                                                 []  \n",
       "3                                                 []  \n",
       "4  [{'text': 'etalbit', 'indices': [16, 24]}, {'t...  "
      ]
     },
     "execution_count": 51,
     "metadata": {},
     "output_type": "execute_result"
    }
   ],
   "source": [
    "new_tweets = pd.read_csv(r\"C:\\Users\\User\\Documents\\C2001\\FIT3161_3162\\FIT3161\\20220124_081532_crypto_tweets.csv\") \n",
    "new_tweets.head()"
   ]
  },
  {
   "cell_type": "code",
   "execution_count": 52,
   "metadata": {},
   "outputs": [],
   "source": [
    "new_tweet = new_tweets.text\n",
    "seq = tokenizer.texts_to_sequences(new_tweet)\n",
    "padded = pad_sequences(seq, maxlen=MAX_SEQUENCE_LENGTH)\n",
    "pred = model.predict(padded)"
   ]
  },
  {
   "cell_type": "code",
   "execution_count": 53,
   "metadata": {},
   "outputs": [],
   "source": [
    "new_tweets['Sentiment'] = pred"
   ]
  },
  {
   "cell_type": "code",
   "execution_count": 54,
   "metadata": {},
   "outputs": [
    {
     "data": {
      "text/html": [
       "<div>\n",
       "<style scoped>\n",
       "    .dataframe tbody tr th:only-of-type {\n",
       "        vertical-align: middle;\n",
       "    }\n",
       "\n",
       "    .dataframe tbody tr th {\n",
       "        vertical-align: top;\n",
       "    }\n",
       "\n",
       "    .dataframe thead th {\n",
       "        text-align: right;\n",
       "    }\n",
       "</style>\n",
       "<table border=\"1\" class=\"dataframe\">\n",
       "  <thead>\n",
       "    <tr style=\"text-align: right;\">\n",
       "      <th></th>\n",
       "      <th>username</th>\n",
       "      <th>acctdesc</th>\n",
       "      <th>location</th>\n",
       "      <th>following</th>\n",
       "      <th>followers</th>\n",
       "      <th>totaltweets</th>\n",
       "      <th>usercreatedts</th>\n",
       "      <th>tweetcreatedts</th>\n",
       "      <th>retweetcount</th>\n",
       "      <th>text</th>\n",
       "      <th>hashtags</th>\n",
       "      <th>Sentiment</th>\n",
       "    </tr>\n",
       "  </thead>\n",
       "  <tbody>\n",
       "    <tr>\n",
       "      <th>0</th>\n",
       "      <td>PovarezhkaRu</td>\n",
       "      <td>Приветствую всех, на кулинарном портале https:...</td>\n",
       "      <td>NaN</td>\n",
       "      <td>0</td>\n",
       "      <td>0</td>\n",
       "      <td>3</td>\n",
       "      <td>2021-10-25 17:53:01+00:00</td>\n",
       "      <td>2022-01-23 18:55:42+00:00</td>\n",
       "      <td>22</td>\n",
       "      <td>🌎⚠️🔒 Check your VerusID Vault anywhere in the ...</td>\n",
       "      <td>[{'text': 'cryptocurrency', 'indices': [95, 11...</td>\n",
       "      <td>0.001553</td>\n",
       "    </tr>\n",
       "    <tr>\n",
       "      <th>1</th>\n",
       "      <td>Z3roDoG3</td>\n",
       "      <td>NaN</td>\n",
       "      <td>NaN</td>\n",
       "      <td>687</td>\n",
       "      <td>61</td>\n",
       "      <td>1474</td>\n",
       "      <td>2018-09-25 05:18:25+00:00</td>\n",
       "      <td>2022-01-23 18:55:41+00:00</td>\n",
       "      <td>160</td>\n",
       "      <td>One reason I love crypto so much is because ev...</td>\n",
       "      <td>[]</td>\n",
       "      <td>0.001605</td>\n",
       "    </tr>\n",
       "    <tr>\n",
       "      <th>2</th>\n",
       "      <td>jamorantq</td>\n",
       "      <td>NaN</td>\n",
       "      <td>NaN</td>\n",
       "      <td>195</td>\n",
       "      <td>1</td>\n",
       "      <td>47</td>\n",
       "      <td>2020-10-24 17:29:35+00:00</td>\n",
       "      <td>2022-01-23 18:55:40+00:00</td>\n",
       "      <td>24270</td>\n",
       "      <td>🎆🎆Happy New Year in advance!\\nWe will draw 10 ...</td>\n",
       "      <td>[]</td>\n",
       "      <td>0.001617</td>\n",
       "    </tr>\n",
       "    <tr>\n",
       "      <th>3</th>\n",
       "      <td>_Burak_Dogu</td>\n",
       "      <td>$BICO $SXP $HMT $ATLAS $RACA $KIN</td>\n",
       "      <td>Sarıyer</td>\n",
       "      <td>638</td>\n",
       "      <td>52</td>\n",
       "      <td>1435</td>\n",
       "      <td>2013-02-02 19:46:05+00:00</td>\n",
       "      <td>2022-01-23 18:55:37+00:00</td>\n",
       "      <td>25718</td>\n",
       "      <td>🚀 Airdrop continue:Airdrop：https://t.co/NePHh1...</td>\n",
       "      <td>[]</td>\n",
       "      <td>0.001478</td>\n",
       "    </tr>\n",
       "    <tr>\n",
       "      <th>4</th>\n",
       "      <td>EnginSenli1</td>\n",
       "      <td>NaN</td>\n",
       "      <td>Kocaeli</td>\n",
       "      <td>231</td>\n",
       "      <td>52</td>\n",
       "      <td>224</td>\n",
       "      <td>2016-08-04 16:06:39+00:00</td>\n",
       "      <td>2022-01-23 18:55:36+00:00</td>\n",
       "      <td>1</td>\n",
       "      <td>#etalbit\\n#vabeey\\n#denaar\\n#scammer\\n#cryptoc...</td>\n",
       "      <td>[{'text': 'etalbit', 'indices': [16, 24]}, {'t...</td>\n",
       "      <td>0.001501</td>\n",
       "    </tr>\n",
       "  </tbody>\n",
       "</table>\n",
       "</div>"
      ],
      "text/plain": [
       "       username                                           acctdesc location  \\\n",
       "0  PovarezhkaRu  Приветствую всех, на кулинарном портале https:...      NaN   \n",
       "1      Z3roDoG3                                                NaN      NaN   \n",
       "2     jamorantq                                                NaN      NaN   \n",
       "3   _Burak_Dogu                  $BICO $SXP $HMT $ATLAS $RACA $KIN  Sarıyer   \n",
       "4   EnginSenli1                                                NaN  Kocaeli   \n",
       "\n",
       "   following  followers  totaltweets              usercreatedts  \\\n",
       "0          0          0            3  2021-10-25 17:53:01+00:00   \n",
       "1        687         61         1474  2018-09-25 05:18:25+00:00   \n",
       "2        195          1           47  2020-10-24 17:29:35+00:00   \n",
       "3        638         52         1435  2013-02-02 19:46:05+00:00   \n",
       "4        231         52          224  2016-08-04 16:06:39+00:00   \n",
       "\n",
       "              tweetcreatedts  retweetcount  \\\n",
       "0  2022-01-23 18:55:42+00:00            22   \n",
       "1  2022-01-23 18:55:41+00:00           160   \n",
       "2  2022-01-23 18:55:40+00:00         24270   \n",
       "3  2022-01-23 18:55:37+00:00         25718   \n",
       "4  2022-01-23 18:55:36+00:00             1   \n",
       "\n",
       "                                                text  \\\n",
       "0  🌎⚠️🔒 Check your VerusID Vault anywhere in the ...   \n",
       "1  One reason I love crypto so much is because ev...   \n",
       "2  🎆🎆Happy New Year in advance!\\nWe will draw 10 ...   \n",
       "3  🚀 Airdrop continue:Airdrop：https://t.co/NePHh1...   \n",
       "4  #etalbit\\n#vabeey\\n#denaar\\n#scammer\\n#cryptoc...   \n",
       "\n",
       "                                            hashtags  Sentiment  \n",
       "0  [{'text': 'cryptocurrency', 'indices': [95, 11...   0.001553  \n",
       "1                                                 []   0.001605  \n",
       "2                                                 []   0.001617  \n",
       "3                                                 []   0.001478  \n",
       "4  [{'text': 'etalbit', 'indices': [16, 24]}, {'t...   0.001501  "
      ]
     },
     "execution_count": 54,
     "metadata": {},
     "output_type": "execute_result"
    }
   ],
   "source": [
    "new_tweets.head()"
   ]
  },
  {
   "cell_type": "code",
   "execution_count": 55,
   "metadata": {},
   "outputs": [],
   "source": [
    "new_tweets.tweetcreatedts = pd.to_datetime(new_tweets.tweetcreatedts)\n",
    "new_tweets = new_tweets.resample('1T', on='tweetcreatedts').agg({'Sentiment':'mean'})"
   ]
  },
  {
   "cell_type": "code",
   "execution_count": 57,
   "metadata": {},
   "outputs": [
    {
     "data": {
      "text/html": [
       "<div>\n",
       "<style scoped>\n",
       "    .dataframe tbody tr th:only-of-type {\n",
       "        vertical-align: middle;\n",
       "    }\n",
       "\n",
       "    .dataframe tbody tr th {\n",
       "        vertical-align: top;\n",
       "    }\n",
       "\n",
       "    .dataframe thead th {\n",
       "        text-align: right;\n",
       "    }\n",
       "</style>\n",
       "<table border=\"1\" class=\"dataframe\">\n",
       "  <thead>\n",
       "    <tr style=\"text-align: right;\">\n",
       "      <th></th>\n",
       "      <th>Sentiment</th>\n",
       "    </tr>\n",
       "    <tr>\n",
       "      <th>tweetcreatedts</th>\n",
       "      <th></th>\n",
       "    </tr>\n",
       "  </thead>\n",
       "  <tbody>\n",
       "    <tr>\n",
       "      <th>2022-01-23 18:41:00+00:00</th>\n",
       "      <td>0.001575</td>\n",
       "    </tr>\n",
       "    <tr>\n",
       "      <th>2022-01-23 18:42:00+00:00</th>\n",
       "      <td>0.001559</td>\n",
       "    </tr>\n",
       "    <tr>\n",
       "      <th>2022-01-23 18:43:00+00:00</th>\n",
       "      <td>0.001570</td>\n",
       "    </tr>\n",
       "    <tr>\n",
       "      <th>2022-01-23 18:44:00+00:00</th>\n",
       "      <td>0.001564</td>\n",
       "    </tr>\n",
       "    <tr>\n",
       "      <th>2022-01-23 18:45:00+00:00</th>\n",
       "      <td>0.001566</td>\n",
       "    </tr>\n",
       "    <tr>\n",
       "      <th>...</th>\n",
       "      <td>...</td>\n",
       "    </tr>\n",
       "    <tr>\n",
       "      <th>2022-01-23 23:55:00+00:00</th>\n",
       "      <td>0.001526</td>\n",
       "    </tr>\n",
       "    <tr>\n",
       "      <th>2022-01-23 23:56:00+00:00</th>\n",
       "      <td>0.001556</td>\n",
       "    </tr>\n",
       "    <tr>\n",
       "      <th>2022-01-23 23:57:00+00:00</th>\n",
       "      <td>0.001571</td>\n",
       "    </tr>\n",
       "    <tr>\n",
       "      <th>2022-01-23 23:58:00+00:00</th>\n",
       "      <td>0.001577</td>\n",
       "    </tr>\n",
       "    <tr>\n",
       "      <th>2022-01-23 23:59:00+00:00</th>\n",
       "      <td>0.001561</td>\n",
       "    </tr>\n",
       "  </tbody>\n",
       "</table>\n",
       "<p>319 rows × 1 columns</p>\n",
       "</div>"
      ],
      "text/plain": [
       "                           Sentiment\n",
       "tweetcreatedts                      \n",
       "2022-01-23 18:41:00+00:00   0.001575\n",
       "2022-01-23 18:42:00+00:00   0.001559\n",
       "2022-01-23 18:43:00+00:00   0.001570\n",
       "2022-01-23 18:44:00+00:00   0.001564\n",
       "2022-01-23 18:45:00+00:00   0.001566\n",
       "...                              ...\n",
       "2022-01-23 23:55:00+00:00   0.001526\n",
       "2022-01-23 23:56:00+00:00   0.001556\n",
       "2022-01-23 23:57:00+00:00   0.001571\n",
       "2022-01-23 23:58:00+00:00   0.001577\n",
       "2022-01-23 23:59:00+00:00   0.001561\n",
       "\n",
       "[319 rows x 1 columns]"
      ]
     },
     "execution_count": 57,
     "metadata": {},
     "output_type": "execute_result"
    }
   ],
   "source": [
    "new_tweets"
   ]
  },
  {
   "cell_type": "code",
   "execution_count": 61,
   "metadata": {},
   "outputs": [],
   "source": [
    "new_tweets['daily_sentiment_change'] = (new_tweets['Sentiment'].shift(1)-new_tweets['Sentiment'])/new_tweets['Sentiment'].shift(1)"
   ]
  },
  {
   "cell_type": "code",
   "execution_count": 64,
   "metadata": {},
   "outputs": [],
   "source": [
    "new_tweets = new_tweets.dropna()"
   ]
  },
  {
   "cell_type": "code",
   "execution_count": 69,
   "metadata": {},
   "outputs": [
    {
     "data": {
      "application/vnd.plotly.v1+json": {
       "config": {
        "plotlyServerURL": "https://plot.ly"
       },
       "data": [
        {
         "name": "MA Sentiment Change (%)",
         "type": "scatter",
         "x": [
          "2022-01-23T18:42:00+00:00",
          "2022-01-23T18:43:00+00:00",
          "2022-01-23T18:44:00+00:00",
          "2022-01-23T18:45:00+00:00",
          "2022-01-23T18:46:00+00:00",
          "2022-01-23T18:47:00+00:00",
          "2022-01-23T18:48:00+00:00",
          "2022-01-23T18:49:00+00:00",
          "2022-01-23T18:50:00+00:00",
          "2022-01-23T18:51:00+00:00",
          "2022-01-23T18:52:00+00:00",
          "2022-01-23T18:53:00+00:00",
          "2022-01-23T18:54:00+00:00",
          "2022-01-23T18:55:00+00:00",
          "2022-01-23T18:59:00+00:00",
          "2022-01-23T19:00:00+00:00",
          "2022-01-23T19:01:00+00:00",
          "2022-01-23T19:02:00+00:00",
          "2022-01-23T19:03:00+00:00",
          "2022-01-23T19:04:00+00:00",
          "2022-01-23T19:05:00+00:00",
          "2022-01-23T19:06:00+00:00",
          "2022-01-23T19:07:00+00:00",
          "2022-01-23T19:08:00+00:00",
          "2022-01-23T19:09:00+00:00",
          "2022-01-23T19:10:00+00:00",
          "2022-01-23T19:11:00+00:00",
          "2022-01-23T19:12:00+00:00",
          "2022-01-23T19:13:00+00:00",
          "2022-01-23T19:14:00+00:00",
          "2022-01-23T19:15:00+00:00",
          "2022-01-23T19:16:00+00:00",
          "2022-01-23T19:17:00+00:00",
          "2022-01-23T19:18:00+00:00",
          "2022-01-23T19:19:00+00:00",
          "2022-01-23T19:20:00+00:00",
          "2022-01-23T19:21:00+00:00",
          "2022-01-23T19:22:00+00:00",
          "2022-01-23T19:23:00+00:00",
          "2022-01-23T19:24:00+00:00",
          "2022-01-23T19:25:00+00:00",
          "2022-01-23T19:26:00+00:00",
          "2022-01-23T19:27:00+00:00",
          "2022-01-23T19:28:00+00:00",
          "2022-01-23T19:29:00+00:00",
          "2022-01-23T19:30:00+00:00",
          "2022-01-23T19:31:00+00:00",
          "2022-01-23T19:32:00+00:00",
          "2022-01-23T19:33:00+00:00",
          "2022-01-23T19:34:00+00:00",
          "2022-01-23T19:35:00+00:00",
          "2022-01-23T19:36:00+00:00",
          "2022-01-23T19:37:00+00:00",
          "2022-01-23T19:38:00+00:00",
          "2022-01-23T19:39:00+00:00",
          "2022-01-23T19:40:00+00:00",
          "2022-01-23T19:41:00+00:00",
          "2022-01-23T19:42:00+00:00",
          "2022-01-23T19:43:00+00:00",
          "2022-01-23T19:44:00+00:00",
          "2022-01-23T19:45:00+00:00",
          "2022-01-23T19:46:00+00:00",
          "2022-01-23T19:47:00+00:00",
          "2022-01-23T19:48:00+00:00",
          "2022-01-23T19:49:00+00:00",
          "2022-01-23T19:50:00+00:00",
          "2022-01-23T19:51:00+00:00",
          "2022-01-23T19:52:00+00:00",
          "2022-01-23T19:53:00+00:00",
          "2022-01-23T19:54:00+00:00",
          "2022-01-23T19:55:00+00:00",
          "2022-01-23T19:56:00+00:00",
          "2022-01-23T19:57:00+00:00",
          "2022-01-23T19:58:00+00:00",
          "2022-01-23T19:59:00+00:00",
          "2022-01-23T20:00:00+00:00",
          "2022-01-23T20:01:00+00:00",
          "2022-01-23T20:02:00+00:00",
          "2022-01-23T20:03:00+00:00",
          "2022-01-23T20:04:00+00:00",
          "2022-01-23T20:05:00+00:00",
          "2022-01-23T20:06:00+00:00",
          "2022-01-23T20:07:00+00:00",
          "2022-01-23T20:08:00+00:00",
          "2022-01-23T20:09:00+00:00",
          "2022-01-23T20:10:00+00:00",
          "2022-01-23T20:11:00+00:00",
          "2022-01-23T20:12:00+00:00",
          "2022-01-23T20:13:00+00:00",
          "2022-01-23T20:14:00+00:00",
          "2022-01-23T20:15:00+00:00",
          "2022-01-23T20:16:00+00:00",
          "2022-01-23T20:17:00+00:00",
          "2022-01-23T20:18:00+00:00",
          "2022-01-23T20:19:00+00:00",
          "2022-01-23T20:20:00+00:00",
          "2022-01-23T20:21:00+00:00",
          "2022-01-23T20:22:00+00:00",
          "2022-01-23T20:23:00+00:00",
          "2022-01-23T20:24:00+00:00",
          "2022-01-23T20:25:00+00:00",
          "2022-01-23T20:26:00+00:00",
          "2022-01-23T20:27:00+00:00",
          "2022-01-23T20:28:00+00:00",
          "2022-01-23T20:29:00+00:00",
          "2022-01-23T20:30:00+00:00",
          "2022-01-23T20:31:00+00:00",
          "2022-01-23T20:32:00+00:00",
          "2022-01-23T20:33:00+00:00",
          "2022-01-23T20:34:00+00:00",
          "2022-01-23T20:35:00+00:00",
          "2022-01-23T20:36:00+00:00",
          "2022-01-23T20:37:00+00:00",
          "2022-01-23T20:38:00+00:00",
          "2022-01-23T20:39:00+00:00",
          "2022-01-23T20:40:00+00:00",
          "2022-01-23T20:41:00+00:00",
          "2022-01-23T20:42:00+00:00",
          "2022-01-23T20:43:00+00:00",
          "2022-01-23T20:44:00+00:00",
          "2022-01-23T20:45:00+00:00",
          "2022-01-23T20:46:00+00:00",
          "2022-01-23T20:47:00+00:00",
          "2022-01-23T20:48:00+00:00",
          "2022-01-23T20:49:00+00:00",
          "2022-01-23T20:50:00+00:00",
          "2022-01-23T20:51:00+00:00",
          "2022-01-23T20:52:00+00:00",
          "2022-01-23T20:53:00+00:00",
          "2022-01-23T20:54:00+00:00",
          "2022-01-23T20:55:00+00:00",
          "2022-01-23T20:56:00+00:00",
          "2022-01-23T20:57:00+00:00",
          "2022-01-23T20:58:00+00:00",
          "2022-01-23T20:59:00+00:00",
          "2022-01-23T21:00:00+00:00",
          "2022-01-23T21:01:00+00:00",
          "2022-01-23T21:02:00+00:00",
          "2022-01-23T21:03:00+00:00",
          "2022-01-23T21:04:00+00:00",
          "2022-01-23T21:05:00+00:00",
          "2022-01-23T21:06:00+00:00",
          "2022-01-23T21:07:00+00:00",
          "2022-01-23T21:08:00+00:00",
          "2022-01-23T21:09:00+00:00",
          "2022-01-23T21:10:00+00:00",
          "2022-01-23T21:11:00+00:00",
          "2022-01-23T21:12:00+00:00",
          "2022-01-23T21:13:00+00:00",
          "2022-01-23T21:14:00+00:00",
          "2022-01-23T21:15:00+00:00",
          "2022-01-23T21:16:00+00:00",
          "2022-01-23T21:17:00+00:00",
          "2022-01-23T21:18:00+00:00",
          "2022-01-23T21:19:00+00:00",
          "2022-01-23T21:20:00+00:00",
          "2022-01-23T21:21:00+00:00",
          "2022-01-23T21:22:00+00:00",
          "2022-01-23T21:23:00+00:00",
          "2022-01-23T21:24:00+00:00",
          "2022-01-23T21:25:00+00:00",
          "2022-01-23T21:26:00+00:00",
          "2022-01-23T21:27:00+00:00",
          "2022-01-23T21:28:00+00:00",
          "2022-01-23T21:29:00+00:00",
          "2022-01-23T21:30:00+00:00",
          "2022-01-23T21:31:00+00:00",
          "2022-01-23T21:32:00+00:00",
          "2022-01-23T21:33:00+00:00",
          "2022-01-23T21:34:00+00:00",
          "2022-01-23T21:35:00+00:00",
          "2022-01-23T21:38:00+00:00",
          "2022-01-23T21:39:00+00:00",
          "2022-01-23T21:40:00+00:00",
          "2022-01-23T21:41:00+00:00",
          "2022-01-23T21:42:00+00:00",
          "2022-01-23T21:43:00+00:00",
          "2022-01-23T21:44:00+00:00",
          "2022-01-23T21:45:00+00:00",
          "2022-01-23T21:46:00+00:00",
          "2022-01-23T21:47:00+00:00",
          "2022-01-23T21:48:00+00:00",
          "2022-01-23T21:49:00+00:00",
          "2022-01-23T21:50:00+00:00",
          "2022-01-23T21:51:00+00:00",
          "2022-01-23T21:52:00+00:00",
          "2022-01-23T21:53:00+00:00",
          "2022-01-23T21:54:00+00:00",
          "2022-01-23T21:55:00+00:00",
          "2022-01-23T21:56:00+00:00",
          "2022-01-23T21:57:00+00:00",
          "2022-01-23T21:58:00+00:00",
          "2022-01-23T21:59:00+00:00",
          "2022-01-23T22:00:00+00:00",
          "2022-01-23T22:01:00+00:00",
          "2022-01-23T22:02:00+00:00",
          "2022-01-23T22:03:00+00:00",
          "2022-01-23T22:04:00+00:00",
          "2022-01-23T22:05:00+00:00",
          "2022-01-23T22:06:00+00:00",
          "2022-01-23T22:07:00+00:00",
          "2022-01-23T22:08:00+00:00",
          "2022-01-23T22:09:00+00:00",
          "2022-01-23T22:10:00+00:00",
          "2022-01-23T22:11:00+00:00",
          "2022-01-23T22:12:00+00:00",
          "2022-01-23T22:13:00+00:00",
          "2022-01-23T22:14:00+00:00",
          "2022-01-23T22:15:00+00:00",
          "2022-01-23T22:16:00+00:00",
          "2022-01-23T22:17:00+00:00",
          "2022-01-23T22:18:00+00:00",
          "2022-01-23T22:19:00+00:00",
          "2022-01-23T22:20:00+00:00",
          "2022-01-23T22:21:00+00:00",
          "2022-01-23T22:22:00+00:00",
          "2022-01-23T22:23:00+00:00",
          "2022-01-23T22:24:00+00:00",
          "2022-01-23T22:25:00+00:00",
          "2022-01-23T22:26:00+00:00",
          "2022-01-23T22:27:00+00:00",
          "2022-01-23T22:28:00+00:00",
          "2022-01-23T22:29:00+00:00",
          "2022-01-23T22:30:00+00:00",
          "2022-01-23T22:31:00+00:00",
          "2022-01-23T22:32:00+00:00",
          "2022-01-23T22:33:00+00:00",
          "2022-01-23T22:34:00+00:00",
          "2022-01-23T22:35:00+00:00",
          "2022-01-23T22:36:00+00:00",
          "2022-01-23T22:37:00+00:00",
          "2022-01-23T22:38:00+00:00",
          "2022-01-23T22:39:00+00:00",
          "2022-01-23T22:40:00+00:00",
          "2022-01-23T22:41:00+00:00",
          "2022-01-23T22:42:00+00:00",
          "2022-01-23T22:43:00+00:00",
          "2022-01-23T22:44:00+00:00",
          "2022-01-23T22:45:00+00:00",
          "2022-01-23T22:46:00+00:00",
          "2022-01-23T22:47:00+00:00",
          "2022-01-23T22:48:00+00:00",
          "2022-01-23T22:49:00+00:00",
          "2022-01-23T22:50:00+00:00",
          "2022-01-23T22:51:00+00:00",
          "2022-01-23T22:52:00+00:00",
          "2022-01-23T22:53:00+00:00",
          "2022-01-23T22:54:00+00:00",
          "2022-01-23T22:55:00+00:00",
          "2022-01-23T22:56:00+00:00",
          "2022-01-23T22:57:00+00:00",
          "2022-01-23T22:58:00+00:00",
          "2022-01-23T22:59:00+00:00",
          "2022-01-23T23:00:00+00:00",
          "2022-01-23T23:01:00+00:00",
          "2022-01-23T23:02:00+00:00",
          "2022-01-23T23:03:00+00:00",
          "2022-01-23T23:04:00+00:00",
          "2022-01-23T23:05:00+00:00",
          "2022-01-23T23:06:00+00:00",
          "2022-01-23T23:07:00+00:00",
          "2022-01-23T23:08:00+00:00",
          "2022-01-23T23:09:00+00:00",
          "2022-01-23T23:10:00+00:00",
          "2022-01-23T23:11:00+00:00",
          "2022-01-23T23:12:00+00:00",
          "2022-01-23T23:13:00+00:00",
          "2022-01-23T23:14:00+00:00",
          "2022-01-23T23:15:00+00:00",
          "2022-01-23T23:16:00+00:00",
          "2022-01-23T23:17:00+00:00",
          "2022-01-23T23:18:00+00:00",
          "2022-01-23T23:19:00+00:00",
          "2022-01-23T23:20:00+00:00",
          "2022-01-23T23:21:00+00:00",
          "2022-01-23T23:22:00+00:00",
          "2022-01-23T23:23:00+00:00",
          "2022-01-23T23:24:00+00:00",
          "2022-01-23T23:25:00+00:00",
          "2022-01-23T23:26:00+00:00",
          "2022-01-23T23:27:00+00:00",
          "2022-01-23T23:28:00+00:00",
          "2022-01-23T23:29:00+00:00",
          "2022-01-23T23:30:00+00:00",
          "2022-01-23T23:31:00+00:00",
          "2022-01-23T23:32:00+00:00",
          "2022-01-23T23:33:00+00:00",
          "2022-01-23T23:34:00+00:00",
          "2022-01-23T23:35:00+00:00",
          "2022-01-23T23:36:00+00:00",
          "2022-01-23T23:37:00+00:00",
          "2022-01-23T23:38:00+00:00",
          "2022-01-23T23:39:00+00:00",
          "2022-01-23T23:40:00+00:00",
          "2022-01-23T23:41:00+00:00",
          "2022-01-23T23:42:00+00:00",
          "2022-01-23T23:43:00+00:00",
          "2022-01-23T23:44:00+00:00",
          "2022-01-23T23:45:00+00:00",
          "2022-01-23T23:46:00+00:00",
          "2022-01-23T23:47:00+00:00",
          "2022-01-23T23:48:00+00:00",
          "2022-01-23T23:49:00+00:00",
          "2022-01-23T23:50:00+00:00",
          "2022-01-23T23:51:00+00:00",
          "2022-01-23T23:52:00+00:00",
          "2022-01-23T23:53:00+00:00",
          "2022-01-23T23:54:00+00:00",
          "2022-01-23T23:55:00+00:00",
          "2022-01-23T23:56:00+00:00",
          "2022-01-23T23:57:00+00:00",
          "2022-01-23T23:58:00+00:00",
          "2022-01-23T23:59:00+00:00"
         ],
         "y": [
          0.010428800247609615,
          -0.007528223562985659,
          0.0038363621570169926,
          -0.0010120116639882326,
          -0.010499813593924046,
          0.011771188117563725,
          -0.0008271773695014417,
          0.0021026458125561476,
          0.006006960291415453,
          -0.005127904936671257,
          -0.0013500642962753773,
          0.0023049423471093178,
          -0.006961720064282417,
          0.013118458911776543,
          0.005511270370334387,
          -0.00034359045093879104,
          -0.0025599428918212652,
          -0.000985036138445139,
          0.007205472327768803,
          0.0015459537971764803,
          -0.005535207223147154,
          -0.00006371223571477458,
          0.004691679030656815,
          0.0034346729516983032,
          -0.0048308540135622025,
          0.0014986507594585419,
          0.0030085386242717505,
          -0.003077846486121416,
          -0.0008302145870402455,
          -0.001509888214059174,
          -0.0016009786631911993,
          0.0012419557897374034,
          -0.0066620665602386,
          0.0024396113585680723,
          0.010401828214526176,
          -0.0050611309707164764,
          0.004985707346349955,
          -0.01167037058621645,
          0.007961365394294262,
          0.0070731742307543755,
          -0.016261054202914238,
          0.014894498512148857,
          -0.015675785019993782,
          0.013986936770379543,
          -0.004693781957030296,
          0.0003142112691421062,
          -0.006840249057859182,
          0.00933653675019741,
          -0.015562551096081734,
          0.01831105165183544,
          -0.016444889828562737,
          0.018543045967817307,
          -0.004078426863998175,
          -0.017389528453350067,
          0.0023597166873514652,
          0.01229756511747837,
          0.0004178567905910313,
          -0.001576862996444106,
          -0.0027278675697743893,
          0.009305265732109547,
          -0.00833653099834919,
          -0.0010591426398605108,
          -0.010531598702073097,
          0.006673690862953663,
          0.0015858809929341078,
          -0.0070013608783483505,
          -0.00024229449627455324,
          0.0015587733360007405,
          0.0053149061277508736,
          0.0032264108303934336,
          -0.002791476668789983,
          -0.005934557877480984,
          0.011654390953481197,
          -0.017832448706030846,
          0.012829368002712727,
          -0.010343115776777267,
          0.006234026048332453,
          0.001579745439812541,
          0.006459227297455072,
          -0.008416692726314068,
          0.012075807899236679,
          0.0003446128102950752,
          -0.021507326513528824,
          0.005664591211825609,
          -0.0072064814157783985,
          0.009538250975310802,
          0.005672487895935774,
          -0.002686610911041498,
          0.005525087472051382,
          0.0007538734935224056,
          0.0022151486482471228,
          -0.007104978431016207,
          0.0017537404783070087,
          -0.006567016709595919,
          0.008754477836191654,
          -0.006336841266602278,
          0.0017052007606253028,
          0.0010176993673667312,
          0.004792244639247656,
          0.0023127691820263863,
          -0.005553866736590862,
          0.008163081482052803,
          -0.0176023431122303,
          0.0026951523032039404,
          0.0024318136274814606,
          0.006596850696951151,
          -0.008944264613091946,
          0.016252439469099045,
          -0.00991735141724348,
          -0.000889327609911561,
          0.003906966652721167,
          0.007553111761808395,
          -0.016789540648460388,
          0.0036844208370894194,
          -0.003348801052197814,
          0.003786226501688361,
          0.0032082360703498125,
          0.0004135992203373462,
          -0.0013607714790850878,
          0.007195037789642811,
          -0.016107073053717613,
          0.004627100192010403,
          0.015220778994262218,
          -0.014003239572048187,
          -0.006622877903282642,
          0.007434440776705742,
          -0.004237948451191187,
          0.001977040432393551,
          -0.004699580371379852,
          0.006209751591086388,
          -0.002851279452443123,
          0.00904169399291277,
          -0.01038446556776762,
          0.006898134481161833,
          -0.0036303033120930195,
          -0.0055542318150401115,
          0.005490361247211695,
          -0.006937157362699509,
          0.005364263895899057,
          -0.013025011867284775,
          0.007018237840384245,
          -0.003428179072216153,
          0.002806291216984391,
          0.00047148248995654285,
          0.002969300840049982,
          0.0008524131262674928,
          -0.0038253641687333584,
          0.004731062334030867,
          -0.011532241478562355,
          0.0202375166118145,
          -0.006173086352646351,
          -0.007590440101921558,
          0.013027957640588284,
          -0.011914212256669998,
          -0.00847464520484209,
          0.0072322082705795765,
          0.0007550273439846933,
          -0.002051976276561618,
          0.010118500329554081,
          0.00017016658966895193,
          -0.006427736021578312,
          -0.004038291517645121,
          0.0005485552828758955,
          0.0016216713702306151,
          0.01936645805835724,
          -0.01684213988482952,
          -0.0012921757297590375,
          0.0023807547986507416,
          0.006346173118799925,
          -0.002599886152893305,
          0.0064682066440582275,
          -0.007590682711452246,
          -0.0002902261621784419,
          0.0013274498051032424,
          -0.003133233170956373,
          -0.0062000746838748455,
          0.007798634935170412,
          -0.0001671548670856282,
          -0.002818123670294881,
          -0.003207446075975895,
          -0.0014211714733392,
          0.004239039961248636,
          0.00895659253001213,
          -0.0063880430534482,
          0.0059992726892232895,
          -0.01233726553618908,
          0.005057846661657095,
          -0.0007354394183494151,
          0.0013292577350512147,
          0.007455046754330397,
          -0.00023600709391757846,
          -0.006294562481343746,
          -0.0006920231389813125,
          0.0004139585071243346,
          0.005424446891993284,
          -0.006455746944993734,
          0.00359676918014884,
          -0.006648235023021698,
          -0.001334772794507444,
          0.006284176371991634,
          0.003214240074157715,
          -0.003964669536799192,
          -0.005333418026566505,
          0.015563173219561577,
          -0.015975935384631157,
          0.013237804174423218,
          -0.014470736496150494,
          0.00521788140758872,
          0.003865759586915374,
          -0.007126261480152607,
          0.020557573065161705,
          -0.005020400043576956,
          -0.0025611217133700848,
          0.002300857799127698,
          -0.00495871203020215,
          -0.007909157313406467,
          0.0020208016503602266,
          -0.008528703823685646,
          0.0099955378100276,
          -0.004255340434610844,
          0.006019017659127712,
          -0.008010257966816425,
          -0.003493810538202524,
          0.006715897936373949,
          -0.006071047391742468,
          0.008148849941790104,
          0.005116850137710571,
          -0.01999269798398018,
          0.014463420026004314,
          0.003933972213417292,
          -0.009571917355060577,
          0.014315650798380375,
          -0.017399651929736137,
          0.004774074070155621,
          -0.0004103879036847502,
          0.0065716104581952095,
          -0.004756807815283537,
          -0.004057163838297129,
          0.00799436867237091,
          -0.009342147968709469,
          -0.00039658209425397217,
          -0.0015241304645314813,
          -0.0009537549340166152,
          0.021093789488077164,
          -0.010336527600884438,
          -0.012112162075936794,
          0.009974054992198944,
          0.009547690860927105,
          -0.00859204400330782,
          0.010145400650799274,
          -0.007326929364353418,
          -0.014412965625524521,
          0.0014523256104439497,
          0.012223080731928349,
          -0.012351762503385544,
          0.0031494698487222195,
          0.007812344469130039,
          -0.005435548722743988,
          -0.00012078863073838875,
          -0.0010145168052986264,
          -0.007282331120222807,
          0.00590364309027791,
          0.004566427320241928,
          -0.009420258924365044,
          0.00695610698312521,
          -0.004425585735589266,
          -0.005447884555906057,
          0.004155712202191353,
          0.0007817419827915728,
          0.0031141999643296003,
          -0.007126670330762863,
          0.004684071987867355,
          -0.007038441952317953,
          0.01262698695063591,
          -0.009914333932101727,
          -0.00020564028818625957,
          0.005511042196303606,
          -0.0007701225113123655,
          -0.00646958127617836,
          0.013822590932250023,
          -0.014028103090822697,
          0.0017080981051549315,
          -0.008312932215631008,
          0.017629971727728844,
          -0.002677969867363572,
          0.012021346017718315,
          0.001402052235789597,
          -0.02134598046541214,
          0.017360590398311615,
          -0.00006046013368177228,
          -0.0069907293654978275,
          -0.003840793389827013,
          -0.008101637475192547,
          0.02113526128232479,
          -0.014952396973967552,
          0.01046903245151043,
          0.007954953238368034,
          -0.008027174510061741,
          -0.004416742827743292,
          -0.008778952993452549,
          0.008121646009385586,
          0.012939002364873886,
          -0.015270647592842579,
          -0.00139048311393708,
          -0.0035714623518288136,
          0.003797384910285473,
          0.004580779932439327,
          0.021354181692004204,
          0.0030072375666350126,
          -0.01923227310180664,
          -0.009519575163722038,
          -0.004169868770986795,
          0.010288712568581104
         ]
        }
       ],
       "layout": {
        "template": {
         "data": {
          "bar": [
           {
            "error_x": {
             "color": "#2a3f5f"
            },
            "error_y": {
             "color": "#2a3f5f"
            },
            "marker": {
             "line": {
              "color": "#E5ECF6",
              "width": 0.5
             },
             "pattern": {
              "fillmode": "overlay",
              "size": 10,
              "solidity": 0.2
             }
            },
            "type": "bar"
           }
          ],
          "barpolar": [
           {
            "marker": {
             "line": {
              "color": "#E5ECF6",
              "width": 0.5
             },
             "pattern": {
              "fillmode": "overlay",
              "size": 10,
              "solidity": 0.2
             }
            },
            "type": "barpolar"
           }
          ],
          "carpet": [
           {
            "aaxis": {
             "endlinecolor": "#2a3f5f",
             "gridcolor": "white",
             "linecolor": "white",
             "minorgridcolor": "white",
             "startlinecolor": "#2a3f5f"
            },
            "baxis": {
             "endlinecolor": "#2a3f5f",
             "gridcolor": "white",
             "linecolor": "white",
             "minorgridcolor": "white",
             "startlinecolor": "#2a3f5f"
            },
            "type": "carpet"
           }
          ],
          "choropleth": [
           {
            "colorbar": {
             "outlinewidth": 0,
             "ticks": ""
            },
            "type": "choropleth"
           }
          ],
          "contour": [
           {
            "colorbar": {
             "outlinewidth": 0,
             "ticks": ""
            },
            "colorscale": [
             [
              0,
              "#0d0887"
             ],
             [
              0.1111111111111111,
              "#46039f"
             ],
             [
              0.2222222222222222,
              "#7201a8"
             ],
             [
              0.3333333333333333,
              "#9c179e"
             ],
             [
              0.4444444444444444,
              "#bd3786"
             ],
             [
              0.5555555555555556,
              "#d8576b"
             ],
             [
              0.6666666666666666,
              "#ed7953"
             ],
             [
              0.7777777777777778,
              "#fb9f3a"
             ],
             [
              0.8888888888888888,
              "#fdca26"
             ],
             [
              1,
              "#f0f921"
             ]
            ],
            "type": "contour"
           }
          ],
          "contourcarpet": [
           {
            "colorbar": {
             "outlinewidth": 0,
             "ticks": ""
            },
            "type": "contourcarpet"
           }
          ],
          "heatmap": [
           {
            "colorbar": {
             "outlinewidth": 0,
             "ticks": ""
            },
            "colorscale": [
             [
              0,
              "#0d0887"
             ],
             [
              0.1111111111111111,
              "#46039f"
             ],
             [
              0.2222222222222222,
              "#7201a8"
             ],
             [
              0.3333333333333333,
              "#9c179e"
             ],
             [
              0.4444444444444444,
              "#bd3786"
             ],
             [
              0.5555555555555556,
              "#d8576b"
             ],
             [
              0.6666666666666666,
              "#ed7953"
             ],
             [
              0.7777777777777778,
              "#fb9f3a"
             ],
             [
              0.8888888888888888,
              "#fdca26"
             ],
             [
              1,
              "#f0f921"
             ]
            ],
            "type": "heatmap"
           }
          ],
          "heatmapgl": [
           {
            "colorbar": {
             "outlinewidth": 0,
             "ticks": ""
            },
            "colorscale": [
             [
              0,
              "#0d0887"
             ],
             [
              0.1111111111111111,
              "#46039f"
             ],
             [
              0.2222222222222222,
              "#7201a8"
             ],
             [
              0.3333333333333333,
              "#9c179e"
             ],
             [
              0.4444444444444444,
              "#bd3786"
             ],
             [
              0.5555555555555556,
              "#d8576b"
             ],
             [
              0.6666666666666666,
              "#ed7953"
             ],
             [
              0.7777777777777778,
              "#fb9f3a"
             ],
             [
              0.8888888888888888,
              "#fdca26"
             ],
             [
              1,
              "#f0f921"
             ]
            ],
            "type": "heatmapgl"
           }
          ],
          "histogram": [
           {
            "marker": {
             "pattern": {
              "fillmode": "overlay",
              "size": 10,
              "solidity": 0.2
             }
            },
            "type": "histogram"
           }
          ],
          "histogram2d": [
           {
            "colorbar": {
             "outlinewidth": 0,
             "ticks": ""
            },
            "colorscale": [
             [
              0,
              "#0d0887"
             ],
             [
              0.1111111111111111,
              "#46039f"
             ],
             [
              0.2222222222222222,
              "#7201a8"
             ],
             [
              0.3333333333333333,
              "#9c179e"
             ],
             [
              0.4444444444444444,
              "#bd3786"
             ],
             [
              0.5555555555555556,
              "#d8576b"
             ],
             [
              0.6666666666666666,
              "#ed7953"
             ],
             [
              0.7777777777777778,
              "#fb9f3a"
             ],
             [
              0.8888888888888888,
              "#fdca26"
             ],
             [
              1,
              "#f0f921"
             ]
            ],
            "type": "histogram2d"
           }
          ],
          "histogram2dcontour": [
           {
            "colorbar": {
             "outlinewidth": 0,
             "ticks": ""
            },
            "colorscale": [
             [
              0,
              "#0d0887"
             ],
             [
              0.1111111111111111,
              "#46039f"
             ],
             [
              0.2222222222222222,
              "#7201a8"
             ],
             [
              0.3333333333333333,
              "#9c179e"
             ],
             [
              0.4444444444444444,
              "#bd3786"
             ],
             [
              0.5555555555555556,
              "#d8576b"
             ],
             [
              0.6666666666666666,
              "#ed7953"
             ],
             [
              0.7777777777777778,
              "#fb9f3a"
             ],
             [
              0.8888888888888888,
              "#fdca26"
             ],
             [
              1,
              "#f0f921"
             ]
            ],
            "type": "histogram2dcontour"
           }
          ],
          "mesh3d": [
           {
            "colorbar": {
             "outlinewidth": 0,
             "ticks": ""
            },
            "type": "mesh3d"
           }
          ],
          "parcoords": [
           {
            "line": {
             "colorbar": {
              "outlinewidth": 0,
              "ticks": ""
             }
            },
            "type": "parcoords"
           }
          ],
          "pie": [
           {
            "automargin": true,
            "type": "pie"
           }
          ],
          "scatter": [
           {
            "marker": {
             "colorbar": {
              "outlinewidth": 0,
              "ticks": ""
             }
            },
            "type": "scatter"
           }
          ],
          "scatter3d": [
           {
            "line": {
             "colorbar": {
              "outlinewidth": 0,
              "ticks": ""
             }
            },
            "marker": {
             "colorbar": {
              "outlinewidth": 0,
              "ticks": ""
             }
            },
            "type": "scatter3d"
           }
          ],
          "scattercarpet": [
           {
            "marker": {
             "colorbar": {
              "outlinewidth": 0,
              "ticks": ""
             }
            },
            "type": "scattercarpet"
           }
          ],
          "scattergeo": [
           {
            "marker": {
             "colorbar": {
              "outlinewidth": 0,
              "ticks": ""
             }
            },
            "type": "scattergeo"
           }
          ],
          "scattergl": [
           {
            "marker": {
             "colorbar": {
              "outlinewidth": 0,
              "ticks": ""
             }
            },
            "type": "scattergl"
           }
          ],
          "scattermapbox": [
           {
            "marker": {
             "colorbar": {
              "outlinewidth": 0,
              "ticks": ""
             }
            },
            "type": "scattermapbox"
           }
          ],
          "scatterpolar": [
           {
            "marker": {
             "colorbar": {
              "outlinewidth": 0,
              "ticks": ""
             }
            },
            "type": "scatterpolar"
           }
          ],
          "scatterpolargl": [
           {
            "marker": {
             "colorbar": {
              "outlinewidth": 0,
              "ticks": ""
             }
            },
            "type": "scatterpolargl"
           }
          ],
          "scatterternary": [
           {
            "marker": {
             "colorbar": {
              "outlinewidth": 0,
              "ticks": ""
             }
            },
            "type": "scatterternary"
           }
          ],
          "surface": [
           {
            "colorbar": {
             "outlinewidth": 0,
             "ticks": ""
            },
            "colorscale": [
             [
              0,
              "#0d0887"
             ],
             [
              0.1111111111111111,
              "#46039f"
             ],
             [
              0.2222222222222222,
              "#7201a8"
             ],
             [
              0.3333333333333333,
              "#9c179e"
             ],
             [
              0.4444444444444444,
              "#bd3786"
             ],
             [
              0.5555555555555556,
              "#d8576b"
             ],
             [
              0.6666666666666666,
              "#ed7953"
             ],
             [
              0.7777777777777778,
              "#fb9f3a"
             ],
             [
              0.8888888888888888,
              "#fdca26"
             ],
             [
              1,
              "#f0f921"
             ]
            ],
            "type": "surface"
           }
          ],
          "table": [
           {
            "cells": {
             "fill": {
              "color": "#EBF0F8"
             },
             "line": {
              "color": "white"
             }
            },
            "header": {
             "fill": {
              "color": "#C8D4E3"
             },
             "line": {
              "color": "white"
             }
            },
            "type": "table"
           }
          ]
         },
         "layout": {
          "annotationdefaults": {
           "arrowcolor": "#2a3f5f",
           "arrowhead": 0,
           "arrowwidth": 1
          },
          "autotypenumbers": "strict",
          "coloraxis": {
           "colorbar": {
            "outlinewidth": 0,
            "ticks": ""
           }
          },
          "colorscale": {
           "diverging": [
            [
             0,
             "#8e0152"
            ],
            [
             0.1,
             "#c51b7d"
            ],
            [
             0.2,
             "#de77ae"
            ],
            [
             0.3,
             "#f1b6da"
            ],
            [
             0.4,
             "#fde0ef"
            ],
            [
             0.5,
             "#f7f7f7"
            ],
            [
             0.6,
             "#e6f5d0"
            ],
            [
             0.7,
             "#b8e186"
            ],
            [
             0.8,
             "#7fbc41"
            ],
            [
             0.9,
             "#4d9221"
            ],
            [
             1,
             "#276419"
            ]
           ],
           "sequential": [
            [
             0,
             "#0d0887"
            ],
            [
             0.1111111111111111,
             "#46039f"
            ],
            [
             0.2222222222222222,
             "#7201a8"
            ],
            [
             0.3333333333333333,
             "#9c179e"
            ],
            [
             0.4444444444444444,
             "#bd3786"
            ],
            [
             0.5555555555555556,
             "#d8576b"
            ],
            [
             0.6666666666666666,
             "#ed7953"
            ],
            [
             0.7777777777777778,
             "#fb9f3a"
            ],
            [
             0.8888888888888888,
             "#fdca26"
            ],
            [
             1,
             "#f0f921"
            ]
           ],
           "sequentialminus": [
            [
             0,
             "#0d0887"
            ],
            [
             0.1111111111111111,
             "#46039f"
            ],
            [
             0.2222222222222222,
             "#7201a8"
            ],
            [
             0.3333333333333333,
             "#9c179e"
            ],
            [
             0.4444444444444444,
             "#bd3786"
            ],
            [
             0.5555555555555556,
             "#d8576b"
            ],
            [
             0.6666666666666666,
             "#ed7953"
            ],
            [
             0.7777777777777778,
             "#fb9f3a"
            ],
            [
             0.8888888888888888,
             "#fdca26"
            ],
            [
             1,
             "#f0f921"
            ]
           ]
          },
          "colorway": [
           "#636efa",
           "#EF553B",
           "#00cc96",
           "#ab63fa",
           "#FFA15A",
           "#19d3f3",
           "#FF6692",
           "#B6E880",
           "#FF97FF",
           "#FECB52"
          ],
          "font": {
           "color": "#2a3f5f"
          },
          "geo": {
           "bgcolor": "white",
           "lakecolor": "white",
           "landcolor": "#E5ECF6",
           "showlakes": true,
           "showland": true,
           "subunitcolor": "white"
          },
          "hoverlabel": {
           "align": "left"
          },
          "hovermode": "closest",
          "mapbox": {
           "style": "light"
          },
          "paper_bgcolor": "white",
          "plot_bgcolor": "#E5ECF6",
          "polar": {
           "angularaxis": {
            "gridcolor": "white",
            "linecolor": "white",
            "ticks": ""
           },
           "bgcolor": "#E5ECF6",
           "radialaxis": {
            "gridcolor": "white",
            "linecolor": "white",
            "ticks": ""
           }
          },
          "scene": {
           "xaxis": {
            "backgroundcolor": "#E5ECF6",
            "gridcolor": "white",
            "gridwidth": 2,
            "linecolor": "white",
            "showbackground": true,
            "ticks": "",
            "zerolinecolor": "white"
           },
           "yaxis": {
            "backgroundcolor": "#E5ECF6",
            "gridcolor": "white",
            "gridwidth": 2,
            "linecolor": "white",
            "showbackground": true,
            "ticks": "",
            "zerolinecolor": "white"
           },
           "zaxis": {
            "backgroundcolor": "#E5ECF6",
            "gridcolor": "white",
            "gridwidth": 2,
            "linecolor": "white",
            "showbackground": true,
            "ticks": "",
            "zerolinecolor": "white"
           }
          },
          "shapedefaults": {
           "line": {
            "color": "#2a3f5f"
           }
          },
          "ternary": {
           "aaxis": {
            "gridcolor": "white",
            "linecolor": "white",
            "ticks": ""
           },
           "baxis": {
            "gridcolor": "white",
            "linecolor": "white",
            "ticks": ""
           },
           "bgcolor": "#E5ECF6",
           "caxis": {
            "gridcolor": "white",
            "linecolor": "white",
            "ticks": ""
           }
          },
          "title": {
           "x": 0.05
          },
          "xaxis": {
           "automargin": true,
           "gridcolor": "white",
           "linecolor": "white",
           "ticks": "",
           "title": {
            "standoff": 15
           },
           "zerolinecolor": "white",
           "zerolinewidth": 2
          },
          "yaxis": {
           "automargin": true,
           "gridcolor": "white",
           "linecolor": "white",
           "ticks": "",
           "title": {
            "standoff": 15
           },
           "zerolinecolor": "white",
           "zerolinewidth": 2
          }
         }
        },
        "title": {
         "text": "Bitcoin Price vs Sentiment"
        }
       }
      }
     },
     "metadata": {},
     "output_type": "display_data"
    }
   ],
   "source": [
    "import plotly.graph_objects as go\n",
    "fig = go.Figure([go.Scatter(x=new_tweets.index, y=new_tweets.daily_sentiment_change,name='MA Sentiment Change (%)')])\n",
    "fig.update_layout(title=\"Bitcoin Price vs Sentiment\")\n",
    "fig.show()"
   ]
  },
  {
   "cell_type": "code",
   "execution_count": 70,
   "metadata": {},
   "outputs": [
    {
     "name": "stdout",
     "output_type": "stream",
     "text": [
      "[*********************100%***********************]  1 of 1 completed\n"
     ]
    }
   ],
   "source": [
    "import yfinance as yf\n",
    "import pendulum\n",
    "\n",
    "pd.options.display.max_rows=10  # To decrease printouts\n",
    "start = pendulum.parse('2022-01-23 18:00').add(hours=8)  # My tz is UTC+08:00, original TZ UTC-04:00. So adds to my local time 7 hours\n",
    "end = pendulum.parse('2022-01-23 23:59').add(hours=8) # Same\n",
    "eth = yf.download(tickers=\"ETH-USD\", interval=\"1m\", start=start, end=end)"
   ]
  },
  {
   "cell_type": "code",
   "execution_count": 71,
   "metadata": {},
   "outputs": [],
   "source": [
    "eth['percent_change_daily_close'] = (eth['Close'].shift(1)-eth['Close'])/eth['Close'].shift(1)\n"
   ]
  },
  {
   "cell_type": "code",
   "execution_count": 72,
   "metadata": {},
   "outputs": [
    {
     "data": {
      "application/vnd.plotly.v1+json": {
       "config": {
        "plotlyServerURL": "https://plot.ly"
       },
       "data": [
        {
         "name": "MA Sentiment Change (%)",
         "type": "scatter",
         "x": [
          "2022-01-23T18:42:00+00:00",
          "2022-01-23T18:43:00+00:00",
          "2022-01-23T18:44:00+00:00",
          "2022-01-23T18:45:00+00:00",
          "2022-01-23T18:46:00+00:00",
          "2022-01-23T18:47:00+00:00",
          "2022-01-23T18:48:00+00:00",
          "2022-01-23T18:49:00+00:00",
          "2022-01-23T18:50:00+00:00",
          "2022-01-23T18:51:00+00:00",
          "2022-01-23T18:52:00+00:00",
          "2022-01-23T18:53:00+00:00",
          "2022-01-23T18:54:00+00:00",
          "2022-01-23T18:55:00+00:00",
          "2022-01-23T18:59:00+00:00",
          "2022-01-23T19:00:00+00:00",
          "2022-01-23T19:01:00+00:00",
          "2022-01-23T19:02:00+00:00",
          "2022-01-23T19:03:00+00:00",
          "2022-01-23T19:04:00+00:00",
          "2022-01-23T19:05:00+00:00",
          "2022-01-23T19:06:00+00:00",
          "2022-01-23T19:07:00+00:00",
          "2022-01-23T19:08:00+00:00",
          "2022-01-23T19:09:00+00:00",
          "2022-01-23T19:10:00+00:00",
          "2022-01-23T19:11:00+00:00",
          "2022-01-23T19:12:00+00:00",
          "2022-01-23T19:13:00+00:00",
          "2022-01-23T19:14:00+00:00",
          "2022-01-23T19:15:00+00:00",
          "2022-01-23T19:16:00+00:00",
          "2022-01-23T19:17:00+00:00",
          "2022-01-23T19:18:00+00:00",
          "2022-01-23T19:19:00+00:00",
          "2022-01-23T19:20:00+00:00",
          "2022-01-23T19:21:00+00:00",
          "2022-01-23T19:22:00+00:00",
          "2022-01-23T19:23:00+00:00",
          "2022-01-23T19:24:00+00:00",
          "2022-01-23T19:25:00+00:00",
          "2022-01-23T19:26:00+00:00",
          "2022-01-23T19:27:00+00:00",
          "2022-01-23T19:28:00+00:00",
          "2022-01-23T19:29:00+00:00",
          "2022-01-23T19:30:00+00:00",
          "2022-01-23T19:31:00+00:00",
          "2022-01-23T19:32:00+00:00",
          "2022-01-23T19:33:00+00:00",
          "2022-01-23T19:34:00+00:00",
          "2022-01-23T19:35:00+00:00",
          "2022-01-23T19:36:00+00:00",
          "2022-01-23T19:37:00+00:00",
          "2022-01-23T19:38:00+00:00",
          "2022-01-23T19:39:00+00:00",
          "2022-01-23T19:40:00+00:00",
          "2022-01-23T19:41:00+00:00",
          "2022-01-23T19:42:00+00:00",
          "2022-01-23T19:43:00+00:00",
          "2022-01-23T19:44:00+00:00",
          "2022-01-23T19:45:00+00:00",
          "2022-01-23T19:46:00+00:00",
          "2022-01-23T19:47:00+00:00",
          "2022-01-23T19:48:00+00:00",
          "2022-01-23T19:49:00+00:00",
          "2022-01-23T19:50:00+00:00",
          "2022-01-23T19:51:00+00:00",
          "2022-01-23T19:52:00+00:00",
          "2022-01-23T19:53:00+00:00",
          "2022-01-23T19:54:00+00:00",
          "2022-01-23T19:55:00+00:00",
          "2022-01-23T19:56:00+00:00",
          "2022-01-23T19:57:00+00:00",
          "2022-01-23T19:58:00+00:00",
          "2022-01-23T19:59:00+00:00",
          "2022-01-23T20:00:00+00:00",
          "2022-01-23T20:01:00+00:00",
          "2022-01-23T20:02:00+00:00",
          "2022-01-23T20:03:00+00:00",
          "2022-01-23T20:04:00+00:00",
          "2022-01-23T20:05:00+00:00",
          "2022-01-23T20:06:00+00:00",
          "2022-01-23T20:07:00+00:00",
          "2022-01-23T20:08:00+00:00",
          "2022-01-23T20:09:00+00:00",
          "2022-01-23T20:10:00+00:00",
          "2022-01-23T20:11:00+00:00",
          "2022-01-23T20:12:00+00:00",
          "2022-01-23T20:13:00+00:00",
          "2022-01-23T20:14:00+00:00",
          "2022-01-23T20:15:00+00:00",
          "2022-01-23T20:16:00+00:00",
          "2022-01-23T20:17:00+00:00",
          "2022-01-23T20:18:00+00:00",
          "2022-01-23T20:19:00+00:00",
          "2022-01-23T20:20:00+00:00",
          "2022-01-23T20:21:00+00:00",
          "2022-01-23T20:22:00+00:00",
          "2022-01-23T20:23:00+00:00",
          "2022-01-23T20:24:00+00:00",
          "2022-01-23T20:25:00+00:00",
          "2022-01-23T20:26:00+00:00",
          "2022-01-23T20:27:00+00:00",
          "2022-01-23T20:28:00+00:00",
          "2022-01-23T20:29:00+00:00",
          "2022-01-23T20:30:00+00:00",
          "2022-01-23T20:31:00+00:00",
          "2022-01-23T20:32:00+00:00",
          "2022-01-23T20:33:00+00:00",
          "2022-01-23T20:34:00+00:00",
          "2022-01-23T20:35:00+00:00",
          "2022-01-23T20:36:00+00:00",
          "2022-01-23T20:37:00+00:00",
          "2022-01-23T20:38:00+00:00",
          "2022-01-23T20:39:00+00:00",
          "2022-01-23T20:40:00+00:00",
          "2022-01-23T20:41:00+00:00",
          "2022-01-23T20:42:00+00:00",
          "2022-01-23T20:43:00+00:00",
          "2022-01-23T20:44:00+00:00",
          "2022-01-23T20:45:00+00:00",
          "2022-01-23T20:46:00+00:00",
          "2022-01-23T20:47:00+00:00",
          "2022-01-23T20:48:00+00:00",
          "2022-01-23T20:49:00+00:00",
          "2022-01-23T20:50:00+00:00",
          "2022-01-23T20:51:00+00:00",
          "2022-01-23T20:52:00+00:00",
          "2022-01-23T20:53:00+00:00",
          "2022-01-23T20:54:00+00:00",
          "2022-01-23T20:55:00+00:00",
          "2022-01-23T20:56:00+00:00",
          "2022-01-23T20:57:00+00:00",
          "2022-01-23T20:58:00+00:00",
          "2022-01-23T20:59:00+00:00",
          "2022-01-23T21:00:00+00:00",
          "2022-01-23T21:01:00+00:00",
          "2022-01-23T21:02:00+00:00",
          "2022-01-23T21:03:00+00:00",
          "2022-01-23T21:04:00+00:00",
          "2022-01-23T21:05:00+00:00",
          "2022-01-23T21:06:00+00:00",
          "2022-01-23T21:07:00+00:00",
          "2022-01-23T21:08:00+00:00",
          "2022-01-23T21:09:00+00:00",
          "2022-01-23T21:10:00+00:00",
          "2022-01-23T21:11:00+00:00",
          "2022-01-23T21:12:00+00:00",
          "2022-01-23T21:13:00+00:00",
          "2022-01-23T21:14:00+00:00",
          "2022-01-23T21:15:00+00:00",
          "2022-01-23T21:16:00+00:00",
          "2022-01-23T21:17:00+00:00",
          "2022-01-23T21:18:00+00:00",
          "2022-01-23T21:19:00+00:00",
          "2022-01-23T21:20:00+00:00",
          "2022-01-23T21:21:00+00:00",
          "2022-01-23T21:22:00+00:00",
          "2022-01-23T21:23:00+00:00",
          "2022-01-23T21:24:00+00:00",
          "2022-01-23T21:25:00+00:00",
          "2022-01-23T21:26:00+00:00",
          "2022-01-23T21:27:00+00:00",
          "2022-01-23T21:28:00+00:00",
          "2022-01-23T21:29:00+00:00",
          "2022-01-23T21:30:00+00:00",
          "2022-01-23T21:31:00+00:00",
          "2022-01-23T21:32:00+00:00",
          "2022-01-23T21:33:00+00:00",
          "2022-01-23T21:34:00+00:00",
          "2022-01-23T21:35:00+00:00",
          "2022-01-23T21:38:00+00:00",
          "2022-01-23T21:39:00+00:00",
          "2022-01-23T21:40:00+00:00",
          "2022-01-23T21:41:00+00:00",
          "2022-01-23T21:42:00+00:00",
          "2022-01-23T21:43:00+00:00",
          "2022-01-23T21:44:00+00:00",
          "2022-01-23T21:45:00+00:00",
          "2022-01-23T21:46:00+00:00",
          "2022-01-23T21:47:00+00:00",
          "2022-01-23T21:48:00+00:00",
          "2022-01-23T21:49:00+00:00",
          "2022-01-23T21:50:00+00:00",
          "2022-01-23T21:51:00+00:00",
          "2022-01-23T21:52:00+00:00",
          "2022-01-23T21:53:00+00:00",
          "2022-01-23T21:54:00+00:00",
          "2022-01-23T21:55:00+00:00",
          "2022-01-23T21:56:00+00:00",
          "2022-01-23T21:57:00+00:00",
          "2022-01-23T21:58:00+00:00",
          "2022-01-23T21:59:00+00:00",
          "2022-01-23T22:00:00+00:00",
          "2022-01-23T22:01:00+00:00",
          "2022-01-23T22:02:00+00:00",
          "2022-01-23T22:03:00+00:00",
          "2022-01-23T22:04:00+00:00",
          "2022-01-23T22:05:00+00:00",
          "2022-01-23T22:06:00+00:00",
          "2022-01-23T22:07:00+00:00",
          "2022-01-23T22:08:00+00:00",
          "2022-01-23T22:09:00+00:00",
          "2022-01-23T22:10:00+00:00",
          "2022-01-23T22:11:00+00:00",
          "2022-01-23T22:12:00+00:00",
          "2022-01-23T22:13:00+00:00",
          "2022-01-23T22:14:00+00:00",
          "2022-01-23T22:15:00+00:00",
          "2022-01-23T22:16:00+00:00",
          "2022-01-23T22:17:00+00:00",
          "2022-01-23T22:18:00+00:00",
          "2022-01-23T22:19:00+00:00",
          "2022-01-23T22:20:00+00:00",
          "2022-01-23T22:21:00+00:00",
          "2022-01-23T22:22:00+00:00",
          "2022-01-23T22:23:00+00:00",
          "2022-01-23T22:24:00+00:00",
          "2022-01-23T22:25:00+00:00",
          "2022-01-23T22:26:00+00:00",
          "2022-01-23T22:27:00+00:00",
          "2022-01-23T22:28:00+00:00",
          "2022-01-23T22:29:00+00:00",
          "2022-01-23T22:30:00+00:00",
          "2022-01-23T22:31:00+00:00",
          "2022-01-23T22:32:00+00:00",
          "2022-01-23T22:33:00+00:00",
          "2022-01-23T22:34:00+00:00",
          "2022-01-23T22:35:00+00:00",
          "2022-01-23T22:36:00+00:00",
          "2022-01-23T22:37:00+00:00",
          "2022-01-23T22:38:00+00:00",
          "2022-01-23T22:39:00+00:00",
          "2022-01-23T22:40:00+00:00",
          "2022-01-23T22:41:00+00:00",
          "2022-01-23T22:42:00+00:00",
          "2022-01-23T22:43:00+00:00",
          "2022-01-23T22:44:00+00:00",
          "2022-01-23T22:45:00+00:00",
          "2022-01-23T22:46:00+00:00",
          "2022-01-23T22:47:00+00:00",
          "2022-01-23T22:48:00+00:00",
          "2022-01-23T22:49:00+00:00",
          "2022-01-23T22:50:00+00:00",
          "2022-01-23T22:51:00+00:00",
          "2022-01-23T22:52:00+00:00",
          "2022-01-23T22:53:00+00:00",
          "2022-01-23T22:54:00+00:00",
          "2022-01-23T22:55:00+00:00",
          "2022-01-23T22:56:00+00:00",
          "2022-01-23T22:57:00+00:00",
          "2022-01-23T22:58:00+00:00",
          "2022-01-23T22:59:00+00:00",
          "2022-01-23T23:00:00+00:00",
          "2022-01-23T23:01:00+00:00",
          "2022-01-23T23:02:00+00:00",
          "2022-01-23T23:03:00+00:00",
          "2022-01-23T23:04:00+00:00",
          "2022-01-23T23:05:00+00:00",
          "2022-01-23T23:06:00+00:00",
          "2022-01-23T23:07:00+00:00",
          "2022-01-23T23:08:00+00:00",
          "2022-01-23T23:09:00+00:00",
          "2022-01-23T23:10:00+00:00",
          "2022-01-23T23:11:00+00:00",
          "2022-01-23T23:12:00+00:00",
          "2022-01-23T23:13:00+00:00",
          "2022-01-23T23:14:00+00:00",
          "2022-01-23T23:15:00+00:00",
          "2022-01-23T23:16:00+00:00",
          "2022-01-23T23:17:00+00:00",
          "2022-01-23T23:18:00+00:00",
          "2022-01-23T23:19:00+00:00",
          "2022-01-23T23:20:00+00:00",
          "2022-01-23T23:21:00+00:00",
          "2022-01-23T23:22:00+00:00",
          "2022-01-23T23:23:00+00:00",
          "2022-01-23T23:24:00+00:00",
          "2022-01-23T23:25:00+00:00",
          "2022-01-23T23:26:00+00:00",
          "2022-01-23T23:27:00+00:00",
          "2022-01-23T23:28:00+00:00",
          "2022-01-23T23:29:00+00:00",
          "2022-01-23T23:30:00+00:00",
          "2022-01-23T23:31:00+00:00",
          "2022-01-23T23:32:00+00:00",
          "2022-01-23T23:33:00+00:00",
          "2022-01-23T23:34:00+00:00",
          "2022-01-23T23:35:00+00:00",
          "2022-01-23T23:36:00+00:00",
          "2022-01-23T23:37:00+00:00",
          "2022-01-23T23:38:00+00:00",
          "2022-01-23T23:39:00+00:00",
          "2022-01-23T23:40:00+00:00",
          "2022-01-23T23:41:00+00:00",
          "2022-01-23T23:42:00+00:00",
          "2022-01-23T23:43:00+00:00",
          "2022-01-23T23:44:00+00:00",
          "2022-01-23T23:45:00+00:00",
          "2022-01-23T23:46:00+00:00",
          "2022-01-23T23:47:00+00:00",
          "2022-01-23T23:48:00+00:00",
          "2022-01-23T23:49:00+00:00",
          "2022-01-23T23:50:00+00:00",
          "2022-01-23T23:51:00+00:00",
          "2022-01-23T23:52:00+00:00",
          "2022-01-23T23:53:00+00:00",
          "2022-01-23T23:54:00+00:00",
          "2022-01-23T23:55:00+00:00",
          "2022-01-23T23:56:00+00:00",
          "2022-01-23T23:57:00+00:00",
          "2022-01-23T23:58:00+00:00",
          "2022-01-23T23:59:00+00:00"
         ],
         "y": [
          0.010428800247609615,
          -0.007528223562985659,
          0.0038363621570169926,
          -0.0010120116639882326,
          -0.010499813593924046,
          0.011771188117563725,
          -0.0008271773695014417,
          0.0021026458125561476,
          0.006006960291415453,
          -0.005127904936671257,
          -0.0013500642962753773,
          0.0023049423471093178,
          -0.006961720064282417,
          0.013118458911776543,
          0.005511270370334387,
          -0.00034359045093879104,
          -0.0025599428918212652,
          -0.000985036138445139,
          0.007205472327768803,
          0.0015459537971764803,
          -0.005535207223147154,
          -0.00006371223571477458,
          0.004691679030656815,
          0.0034346729516983032,
          -0.0048308540135622025,
          0.0014986507594585419,
          0.0030085386242717505,
          -0.003077846486121416,
          -0.0008302145870402455,
          -0.001509888214059174,
          -0.0016009786631911993,
          0.0012419557897374034,
          -0.0066620665602386,
          0.0024396113585680723,
          0.010401828214526176,
          -0.0050611309707164764,
          0.004985707346349955,
          -0.01167037058621645,
          0.007961365394294262,
          0.0070731742307543755,
          -0.016261054202914238,
          0.014894498512148857,
          -0.015675785019993782,
          0.013986936770379543,
          -0.004693781957030296,
          0.0003142112691421062,
          -0.006840249057859182,
          0.00933653675019741,
          -0.015562551096081734,
          0.01831105165183544,
          -0.016444889828562737,
          0.018543045967817307,
          -0.004078426863998175,
          -0.017389528453350067,
          0.0023597166873514652,
          0.01229756511747837,
          0.0004178567905910313,
          -0.001576862996444106,
          -0.0027278675697743893,
          0.009305265732109547,
          -0.00833653099834919,
          -0.0010591426398605108,
          -0.010531598702073097,
          0.006673690862953663,
          0.0015858809929341078,
          -0.0070013608783483505,
          -0.00024229449627455324,
          0.0015587733360007405,
          0.0053149061277508736,
          0.0032264108303934336,
          -0.002791476668789983,
          -0.005934557877480984,
          0.011654390953481197,
          -0.017832448706030846,
          0.012829368002712727,
          -0.010343115776777267,
          0.006234026048332453,
          0.001579745439812541,
          0.006459227297455072,
          -0.008416692726314068,
          0.012075807899236679,
          0.0003446128102950752,
          -0.021507326513528824,
          0.005664591211825609,
          -0.0072064814157783985,
          0.009538250975310802,
          0.005672487895935774,
          -0.002686610911041498,
          0.005525087472051382,
          0.0007538734935224056,
          0.0022151486482471228,
          -0.007104978431016207,
          0.0017537404783070087,
          -0.006567016709595919,
          0.008754477836191654,
          -0.006336841266602278,
          0.0017052007606253028,
          0.0010176993673667312,
          0.004792244639247656,
          0.0023127691820263863,
          -0.005553866736590862,
          0.008163081482052803,
          -0.0176023431122303,
          0.0026951523032039404,
          0.0024318136274814606,
          0.006596850696951151,
          -0.008944264613091946,
          0.016252439469099045,
          -0.00991735141724348,
          -0.000889327609911561,
          0.003906966652721167,
          0.007553111761808395,
          -0.016789540648460388,
          0.0036844208370894194,
          -0.003348801052197814,
          0.003786226501688361,
          0.0032082360703498125,
          0.0004135992203373462,
          -0.0013607714790850878,
          0.007195037789642811,
          -0.016107073053717613,
          0.004627100192010403,
          0.015220778994262218,
          -0.014003239572048187,
          -0.006622877903282642,
          0.007434440776705742,
          -0.004237948451191187,
          0.001977040432393551,
          -0.004699580371379852,
          0.006209751591086388,
          -0.002851279452443123,
          0.00904169399291277,
          -0.01038446556776762,
          0.006898134481161833,
          -0.0036303033120930195,
          -0.0055542318150401115,
          0.005490361247211695,
          -0.006937157362699509,
          0.005364263895899057,
          -0.013025011867284775,
          0.007018237840384245,
          -0.003428179072216153,
          0.002806291216984391,
          0.00047148248995654285,
          0.002969300840049982,
          0.0008524131262674928,
          -0.0038253641687333584,
          0.004731062334030867,
          -0.011532241478562355,
          0.0202375166118145,
          -0.006173086352646351,
          -0.007590440101921558,
          0.013027957640588284,
          -0.011914212256669998,
          -0.00847464520484209,
          0.0072322082705795765,
          0.0007550273439846933,
          -0.002051976276561618,
          0.010118500329554081,
          0.00017016658966895193,
          -0.006427736021578312,
          -0.004038291517645121,
          0.0005485552828758955,
          0.0016216713702306151,
          0.01936645805835724,
          -0.01684213988482952,
          -0.0012921757297590375,
          0.0023807547986507416,
          0.006346173118799925,
          -0.002599886152893305,
          0.0064682066440582275,
          -0.007590682711452246,
          -0.0002902261621784419,
          0.0013274498051032424,
          -0.003133233170956373,
          -0.0062000746838748455,
          0.007798634935170412,
          -0.0001671548670856282,
          -0.002818123670294881,
          -0.003207446075975895,
          -0.0014211714733392,
          0.004239039961248636,
          0.00895659253001213,
          -0.0063880430534482,
          0.0059992726892232895,
          -0.01233726553618908,
          0.005057846661657095,
          -0.0007354394183494151,
          0.0013292577350512147,
          0.007455046754330397,
          -0.00023600709391757846,
          -0.006294562481343746,
          -0.0006920231389813125,
          0.0004139585071243346,
          0.005424446891993284,
          -0.006455746944993734,
          0.00359676918014884,
          -0.006648235023021698,
          -0.001334772794507444,
          0.006284176371991634,
          0.003214240074157715,
          -0.003964669536799192,
          -0.005333418026566505,
          0.015563173219561577,
          -0.015975935384631157,
          0.013237804174423218,
          -0.014470736496150494,
          0.00521788140758872,
          0.003865759586915374,
          -0.007126261480152607,
          0.020557573065161705,
          -0.005020400043576956,
          -0.0025611217133700848,
          0.002300857799127698,
          -0.00495871203020215,
          -0.007909157313406467,
          0.0020208016503602266,
          -0.008528703823685646,
          0.0099955378100276,
          -0.004255340434610844,
          0.006019017659127712,
          -0.008010257966816425,
          -0.003493810538202524,
          0.006715897936373949,
          -0.006071047391742468,
          0.008148849941790104,
          0.005116850137710571,
          -0.01999269798398018,
          0.014463420026004314,
          0.003933972213417292,
          -0.009571917355060577,
          0.014315650798380375,
          -0.017399651929736137,
          0.004774074070155621,
          -0.0004103879036847502,
          0.0065716104581952095,
          -0.004756807815283537,
          -0.004057163838297129,
          0.00799436867237091,
          -0.009342147968709469,
          -0.00039658209425397217,
          -0.0015241304645314813,
          -0.0009537549340166152,
          0.021093789488077164,
          -0.010336527600884438,
          -0.012112162075936794,
          0.009974054992198944,
          0.009547690860927105,
          -0.00859204400330782,
          0.010145400650799274,
          -0.007326929364353418,
          -0.014412965625524521,
          0.0014523256104439497,
          0.012223080731928349,
          -0.012351762503385544,
          0.0031494698487222195,
          0.007812344469130039,
          -0.005435548722743988,
          -0.00012078863073838875,
          -0.0010145168052986264,
          -0.007282331120222807,
          0.00590364309027791,
          0.004566427320241928,
          -0.009420258924365044,
          0.00695610698312521,
          -0.004425585735589266,
          -0.005447884555906057,
          0.004155712202191353,
          0.0007817419827915728,
          0.0031141999643296003,
          -0.007126670330762863,
          0.004684071987867355,
          -0.007038441952317953,
          0.01262698695063591,
          -0.009914333932101727,
          -0.00020564028818625957,
          0.005511042196303606,
          -0.0007701225113123655,
          -0.00646958127617836,
          0.013822590932250023,
          -0.014028103090822697,
          0.0017080981051549315,
          -0.008312932215631008,
          0.017629971727728844,
          -0.002677969867363572,
          0.012021346017718315,
          0.001402052235789597,
          -0.02134598046541214,
          0.017360590398311615,
          -0.00006046013368177228,
          -0.0069907293654978275,
          -0.003840793389827013,
          -0.008101637475192547,
          0.02113526128232479,
          -0.014952396973967552,
          0.01046903245151043,
          0.007954953238368034,
          -0.008027174510061741,
          -0.004416742827743292,
          -0.008778952993452549,
          0.008121646009385586,
          0.012939002364873886,
          -0.015270647592842579,
          -0.00139048311393708,
          -0.0035714623518288136,
          0.003797384910285473,
          0.004580779932439327,
          0.021354181692004204,
          0.0030072375666350126,
          -0.01923227310180664,
          -0.009519575163722038,
          -0.004169868770986795,
          0.010288712568581104
         ]
        },
        {
         "line": {
          "color": "orange",
          "width": 2
         },
         "name": "Bitcoin Price Change(%)",
         "opacity": 0.7,
         "type": "scatter",
         "x": [
          "2022-01-23T18:00:00+00:00",
          "2022-01-23T18:01:00+00:00",
          "2022-01-23T18:02:00+00:00",
          "2022-01-23T18:03:00+00:00",
          "2022-01-23T18:04:00+00:00",
          "2022-01-23T18:05:00+00:00",
          "2022-01-23T18:06:00+00:00",
          "2022-01-23T18:07:00+00:00",
          "2022-01-23T18:08:00+00:00",
          "2022-01-23T18:09:00+00:00",
          "2022-01-23T18:10:00+00:00",
          "2022-01-23T18:11:00+00:00",
          "2022-01-23T18:12:00+00:00",
          "2022-01-23T18:13:00+00:00",
          "2022-01-23T18:14:00+00:00",
          "2022-01-23T18:15:00+00:00",
          "2022-01-23T18:16:00+00:00",
          "2022-01-23T18:17:00+00:00",
          "2022-01-23T18:18:00+00:00",
          "2022-01-23T18:19:00+00:00",
          "2022-01-23T18:20:00+00:00",
          "2022-01-23T18:21:00+00:00",
          "2022-01-23T18:22:00+00:00",
          "2022-01-23T18:23:00+00:00",
          "2022-01-23T18:24:00+00:00",
          "2022-01-23T18:25:00+00:00",
          "2022-01-23T18:26:00+00:00",
          "2022-01-23T18:27:00+00:00",
          "2022-01-23T18:28:00+00:00",
          "2022-01-23T18:29:00+00:00",
          "2022-01-23T18:30:00+00:00",
          "2022-01-23T18:31:00+00:00",
          "2022-01-23T18:32:00+00:00",
          "2022-01-23T18:33:00+00:00",
          "2022-01-23T18:34:00+00:00",
          "2022-01-23T18:35:00+00:00",
          "2022-01-23T18:36:00+00:00",
          "2022-01-23T18:37:00+00:00",
          "2022-01-23T18:38:00+00:00",
          "2022-01-23T18:39:00+00:00",
          "2022-01-23T18:40:00+00:00",
          "2022-01-23T18:41:00+00:00",
          "2022-01-23T18:42:00+00:00",
          "2022-01-23T18:43:00+00:00",
          "2022-01-23T18:44:00+00:00",
          "2022-01-23T18:45:00+00:00",
          "2022-01-23T18:46:00+00:00",
          "2022-01-23T18:47:00+00:00",
          "2022-01-23T18:48:00+00:00",
          "2022-01-23T18:49:00+00:00",
          "2022-01-23T18:50:00+00:00",
          "2022-01-23T18:51:00+00:00",
          "2022-01-23T18:52:00+00:00",
          "2022-01-23T18:53:00+00:00",
          "2022-01-23T18:54:00+00:00",
          "2022-01-23T18:55:00+00:00",
          "2022-01-23T18:56:00+00:00",
          "2022-01-23T18:57:00+00:00",
          "2022-01-23T18:58:00+00:00",
          "2022-01-23T18:59:00+00:00",
          "2022-01-23T19:00:00+00:00",
          "2022-01-23T19:01:00+00:00",
          "2022-01-23T19:02:00+00:00",
          "2022-01-23T19:03:00+00:00",
          "2022-01-23T19:04:00+00:00",
          "2022-01-23T19:05:00+00:00",
          "2022-01-23T19:06:00+00:00",
          "2022-01-23T19:07:00+00:00",
          "2022-01-23T19:08:00+00:00",
          "2022-01-23T19:09:00+00:00",
          "2022-01-23T19:10:00+00:00",
          "2022-01-23T19:11:00+00:00",
          "2022-01-23T19:12:00+00:00",
          "2022-01-23T19:13:00+00:00",
          "2022-01-23T19:14:00+00:00",
          "2022-01-23T19:15:00+00:00",
          "2022-01-23T19:16:00+00:00",
          "2022-01-23T19:17:00+00:00",
          "2022-01-23T19:18:00+00:00",
          "2022-01-23T19:19:00+00:00",
          "2022-01-23T19:20:00+00:00",
          "2022-01-23T19:21:00+00:00",
          "2022-01-23T19:22:00+00:00",
          "2022-01-23T19:23:00+00:00",
          "2022-01-23T19:24:00+00:00",
          "2022-01-23T19:25:00+00:00",
          "2022-01-23T19:26:00+00:00",
          "2022-01-23T19:27:00+00:00",
          "2022-01-23T19:28:00+00:00",
          "2022-01-23T19:29:00+00:00",
          "2022-01-23T19:30:00+00:00",
          "2022-01-23T19:31:00+00:00",
          "2022-01-23T19:32:00+00:00",
          "2022-01-23T19:33:00+00:00",
          "2022-01-23T19:34:00+00:00",
          "2022-01-23T19:35:00+00:00",
          "2022-01-23T19:36:00+00:00",
          "2022-01-23T19:37:00+00:00",
          "2022-01-23T19:38:00+00:00",
          "2022-01-23T19:39:00+00:00",
          "2022-01-23T19:40:00+00:00",
          "2022-01-23T19:41:00+00:00",
          "2022-01-23T19:42:00+00:00",
          "2022-01-23T19:43:00+00:00",
          "2022-01-23T19:44:00+00:00",
          "2022-01-23T19:45:00+00:00",
          "2022-01-23T19:46:00+00:00",
          "2022-01-23T19:47:00+00:00",
          "2022-01-23T19:48:00+00:00",
          "2022-01-23T19:49:00+00:00",
          "2022-01-23T19:50:00+00:00",
          "2022-01-23T19:51:00+00:00",
          "2022-01-23T19:52:00+00:00",
          "2022-01-23T19:53:00+00:00",
          "2022-01-23T19:54:00+00:00",
          "2022-01-23T19:55:00+00:00",
          "2022-01-23T19:56:00+00:00",
          "2022-01-23T19:57:00+00:00",
          "2022-01-23T19:58:00+00:00",
          "2022-01-23T19:59:00+00:00",
          "2022-01-23T20:00:00+00:00",
          "2022-01-23T20:01:00+00:00",
          "2022-01-23T20:02:00+00:00",
          "2022-01-23T20:03:00+00:00",
          "2022-01-23T20:04:00+00:00",
          "2022-01-23T20:05:00+00:00",
          "2022-01-23T20:06:00+00:00",
          "2022-01-23T20:07:00+00:00",
          "2022-01-23T20:08:00+00:00",
          "2022-01-23T20:09:00+00:00",
          "2022-01-23T20:10:00+00:00",
          "2022-01-23T20:11:00+00:00",
          "2022-01-23T20:12:00+00:00",
          "2022-01-23T20:13:00+00:00",
          "2022-01-23T20:14:00+00:00",
          "2022-01-23T20:15:00+00:00",
          "2022-01-23T20:16:00+00:00",
          "2022-01-23T20:17:00+00:00",
          "2022-01-23T20:18:00+00:00",
          "2022-01-23T20:19:00+00:00",
          "2022-01-23T20:20:00+00:00",
          "2022-01-23T20:21:00+00:00",
          "2022-01-23T20:22:00+00:00",
          "2022-01-23T20:23:00+00:00",
          "2022-01-23T20:24:00+00:00",
          "2022-01-23T20:25:00+00:00",
          "2022-01-23T20:26:00+00:00",
          "2022-01-23T20:27:00+00:00",
          "2022-01-23T20:28:00+00:00",
          "2022-01-23T20:29:00+00:00",
          "2022-01-23T20:30:00+00:00",
          "2022-01-23T20:31:00+00:00",
          "2022-01-23T20:32:00+00:00",
          "2022-01-23T20:33:00+00:00",
          "2022-01-23T20:34:00+00:00",
          "2022-01-23T20:35:00+00:00",
          "2022-01-23T20:36:00+00:00",
          "2022-01-23T20:37:00+00:00",
          "2022-01-23T20:38:00+00:00",
          "2022-01-23T20:39:00+00:00",
          "2022-01-23T20:40:00+00:00",
          "2022-01-23T20:41:00+00:00",
          "2022-01-23T20:42:00+00:00",
          "2022-01-23T20:43:00+00:00",
          "2022-01-23T20:44:00+00:00",
          "2022-01-23T20:45:00+00:00",
          "2022-01-23T20:46:00+00:00",
          "2022-01-23T20:47:00+00:00",
          "2022-01-23T20:48:00+00:00",
          "2022-01-23T20:49:00+00:00",
          "2022-01-23T20:50:00+00:00",
          "2022-01-23T20:51:00+00:00",
          "2022-01-23T20:52:00+00:00",
          "2022-01-23T20:53:00+00:00",
          "2022-01-23T20:54:00+00:00",
          "2022-01-23T20:55:00+00:00",
          "2022-01-23T20:56:00+00:00",
          "2022-01-23T20:57:00+00:00",
          "2022-01-23T20:58:00+00:00",
          "2022-01-23T20:59:00+00:00",
          "2022-01-23T21:00:00+00:00",
          "2022-01-23T21:01:00+00:00",
          "2022-01-23T21:02:00+00:00",
          "2022-01-23T21:03:00+00:00",
          "2022-01-23T21:04:00+00:00",
          "2022-01-23T21:05:00+00:00",
          "2022-01-23T21:06:00+00:00",
          "2022-01-23T21:07:00+00:00",
          "2022-01-23T21:08:00+00:00",
          "2022-01-23T21:09:00+00:00",
          "2022-01-23T21:10:00+00:00",
          "2022-01-23T21:11:00+00:00",
          "2022-01-23T21:12:00+00:00",
          "2022-01-23T21:13:00+00:00",
          "2022-01-23T21:14:00+00:00",
          "2022-01-23T21:15:00+00:00",
          "2022-01-23T21:16:00+00:00",
          "2022-01-23T21:17:00+00:00",
          "2022-01-23T21:18:00+00:00",
          "2022-01-23T21:19:00+00:00",
          "2022-01-23T21:20:00+00:00",
          "2022-01-23T21:21:00+00:00",
          "2022-01-23T21:22:00+00:00",
          "2022-01-23T21:23:00+00:00",
          "2022-01-23T21:24:00+00:00",
          "2022-01-23T21:25:00+00:00",
          "2022-01-23T21:26:00+00:00",
          "2022-01-23T21:27:00+00:00",
          "2022-01-23T21:28:00+00:00",
          "2022-01-23T21:29:00+00:00",
          "2022-01-23T21:30:00+00:00",
          "2022-01-23T21:31:00+00:00",
          "2022-01-23T21:32:00+00:00",
          "2022-01-23T21:33:00+00:00",
          "2022-01-23T21:34:00+00:00",
          "2022-01-23T21:35:00+00:00",
          "2022-01-23T21:36:00+00:00",
          "2022-01-23T21:37:00+00:00",
          "2022-01-23T21:38:00+00:00",
          "2022-01-23T21:39:00+00:00",
          "2022-01-23T21:40:00+00:00",
          "2022-01-23T21:41:00+00:00",
          "2022-01-23T21:42:00+00:00",
          "2022-01-23T21:43:00+00:00",
          "2022-01-23T21:44:00+00:00",
          "2022-01-23T21:45:00+00:00",
          "2022-01-23T21:46:00+00:00",
          "2022-01-23T21:47:00+00:00",
          "2022-01-23T21:48:00+00:00",
          "2022-01-23T21:49:00+00:00",
          "2022-01-23T21:50:00+00:00",
          "2022-01-23T21:51:00+00:00",
          "2022-01-23T21:53:00+00:00",
          "2022-01-23T21:54:00+00:00",
          "2022-01-23T21:55:00+00:00",
          "2022-01-23T21:56:00+00:00",
          "2022-01-23T21:57:00+00:00",
          "2022-01-23T21:58:00+00:00",
          "2022-01-23T21:59:00+00:00",
          "2022-01-23T22:00:00+00:00",
          "2022-01-23T22:01:00+00:00",
          "2022-01-23T22:02:00+00:00",
          "2022-01-23T22:03:00+00:00",
          "2022-01-23T22:04:00+00:00",
          "2022-01-23T22:05:00+00:00",
          "2022-01-23T22:06:00+00:00",
          "2022-01-23T22:07:00+00:00",
          "2022-01-23T22:08:00+00:00",
          "2022-01-23T22:09:00+00:00",
          "2022-01-23T22:11:00+00:00",
          "2022-01-23T22:12:00+00:00",
          "2022-01-23T22:13:00+00:00",
          "2022-01-23T22:14:00+00:00",
          "2022-01-23T22:15:00+00:00",
          "2022-01-23T22:16:00+00:00",
          "2022-01-23T22:17:00+00:00",
          "2022-01-23T22:18:00+00:00",
          "2022-01-23T22:19:00+00:00",
          "2022-01-23T22:21:00+00:00",
          "2022-01-23T22:22:00+00:00",
          "2022-01-23T22:23:00+00:00",
          "2022-01-23T22:24:00+00:00",
          "2022-01-23T22:25:00+00:00",
          "2022-01-23T22:26:00+00:00",
          "2022-01-23T22:27:00+00:00",
          "2022-01-23T22:28:00+00:00",
          "2022-01-23T22:29:00+00:00",
          "2022-01-23T22:30:00+00:00",
          "2022-01-23T22:31:00+00:00",
          "2022-01-23T22:32:00+00:00",
          "2022-01-23T22:33:00+00:00",
          "2022-01-23T22:34:00+00:00",
          "2022-01-23T22:35:00+00:00",
          "2022-01-23T22:36:00+00:00",
          "2022-01-23T22:37:00+00:00",
          "2022-01-23T22:38:00+00:00",
          "2022-01-23T22:39:00+00:00",
          "2022-01-23T22:40:00+00:00",
          "2022-01-23T22:41:00+00:00",
          "2022-01-23T22:42:00+00:00",
          "2022-01-23T22:43:00+00:00",
          "2022-01-23T22:44:00+00:00",
          "2022-01-23T22:45:00+00:00",
          "2022-01-23T22:46:00+00:00",
          "2022-01-23T22:47:00+00:00",
          "2022-01-23T22:48:00+00:00",
          "2022-01-23T22:49:00+00:00",
          "2022-01-23T22:50:00+00:00",
          "2022-01-23T22:51:00+00:00",
          "2022-01-23T22:52:00+00:00",
          "2022-01-23T22:53:00+00:00",
          "2022-01-23T22:54:00+00:00",
          "2022-01-23T22:55:00+00:00",
          "2022-01-23T22:56:00+00:00",
          "2022-01-23T22:57:00+00:00",
          "2022-01-23T22:58:00+00:00",
          "2022-01-23T22:59:00+00:00",
          "2022-01-23T23:00:00+00:00",
          "2022-01-23T23:01:00+00:00",
          "2022-01-23T23:02:00+00:00",
          "2022-01-23T23:03:00+00:00",
          "2022-01-23T23:04:00+00:00",
          "2022-01-23T23:05:00+00:00",
          "2022-01-23T23:06:00+00:00",
          "2022-01-23T23:07:00+00:00",
          "2022-01-23T23:08:00+00:00",
          "2022-01-23T23:09:00+00:00",
          "2022-01-23T23:10:00+00:00",
          "2022-01-23T23:11:00+00:00",
          "2022-01-23T23:12:00+00:00",
          "2022-01-23T23:13:00+00:00",
          "2022-01-23T23:14:00+00:00",
          "2022-01-23T23:15:00+00:00",
          "2022-01-23T23:16:00+00:00",
          "2022-01-23T23:17:00+00:00",
          "2022-01-23T23:18:00+00:00",
          "2022-01-23T23:19:00+00:00",
          "2022-01-23T23:20:00+00:00",
          "2022-01-23T23:21:00+00:00",
          "2022-01-23T23:22:00+00:00",
          "2022-01-23T23:23:00+00:00",
          "2022-01-23T23:24:00+00:00",
          "2022-01-23T23:25:00+00:00",
          "2022-01-23T23:26:00+00:00",
          "2022-01-23T23:27:00+00:00",
          "2022-01-23T23:28:00+00:00",
          "2022-01-23T23:29:00+00:00",
          "2022-01-23T23:30:00+00:00",
          "2022-01-23T23:31:00+00:00",
          "2022-01-23T23:32:00+00:00",
          "2022-01-23T23:33:00+00:00",
          "2022-01-23T23:34:00+00:00",
          "2022-01-23T23:35:00+00:00",
          "2022-01-23T23:36:00+00:00",
          "2022-01-23T23:37:00+00:00",
          "2022-01-23T23:38:00+00:00",
          "2022-01-23T23:39:00+00:00",
          "2022-01-23T23:40:00+00:00",
          "2022-01-23T23:41:00+00:00",
          "2022-01-23T23:42:00+00:00",
          "2022-01-23T23:43:00+00:00",
          "2022-01-23T23:44:00+00:00",
          "2022-01-23T23:45:00+00:00",
          "2022-01-23T23:46:00+00:00",
          "2022-01-23T23:47:00+00:00",
          "2022-01-23T23:48:00+00:00",
          "2022-01-23T23:49:00+00:00",
          "2022-01-23T23:50:00+00:00",
          "2022-01-23T23:51:00+00:00",
          "2022-01-23T23:52:00+00:00",
          "2022-01-23T23:53:00+00:00",
          "2022-01-23T23:54:00+00:00",
          "2022-01-23T23:55:00+00:00",
          "2022-01-23T23:56:00+00:00",
          "2022-01-23T23:57:00+00:00",
          "2022-01-23T23:58:00+00:00"
         ],
         "y": [
          null,
          0.0006031046989757422,
          -0.00019675279822310005,
          -0.00010856296652058193,
          -0.0006423028457917909,
          -0.0001395762022575151,
          -0.00020173744121947785,
          -0.0005609128687025112,
          0.00020268250140773937,
          0.000562910155582612,
          0.0019948879683713036,
          0.0006392795513784127,
          0.00020828465756969893,
          0.00011709680527232376,
          -0.000011430307460230802,
          0.00006336729599816476,
          0.0002088646237373492,
          -0.00007923068807138866,
          0.00008724713623810806,
          0.0005827012545828802,
          0.00042900176357356563,
          0.00030730713314972545,
          0.00025015922418705283,
          0.000011551790140737971,
          0.0002624797941788752,
          0.0003359980402793727,
          0.0002200200118704264,
          0.0003651386672398432,
          0.0008502229748471177,
          0.00015038017800020535,
          -0.000031711432807098044,
          -0.00114097137192697,
          0.00022252444073514514,
          -0.0001333633451147679,
          0.00017698958416297202,
          -0.0006615150898260447,
          -0.00019600146950845345,
          -0.0005806536222264318,
          0.0000656848555129028,
          0.00008025328297699303,
          0.000016473835731749704,
          0.0002620789358851859,
          0.0004340658495979917,
          0.0006090618226398703,
          -0.00007664432246620106,
          -0.00007110680201432395,
          0.00013264950952366155,
          0.0000015087237424234409,
          0.0006090224028714879,
          0.0009603357773486359,
          0.0005862047358572945,
          0.0006943025560474428,
          0.0018179600900113668,
          0.0000407241995522157,
          -0.0001344054373365976,
          0.0003289964607619683,
          0.00040723678671274,
          0.0001031399230576174,
          -0.00018465973157796696,
          -0.0005294084578359934,
          -0.00008953546655456206,
          -0.0000703285617020967,
          -0.0012379381358300643,
          0.00005883330033420948,
          -0.0009342228213771415,
          0.00021647448464553638,
          0.0001772913571673561,
          0.00047013739894088464,
          0.0002530914392728889,
          -0.00016594404294195775,
          0.0003605959188171727,
          0.0007871762060166431,
          0.00022753845824305554,
          0.0006941906680723632,
          0.000013753896473814452,
          0.00022269482788733907,
          0.0001355483827307719,
          0.0005791938006737667,
          0.00036047238585142343,
          0.0009193790915230291,
          -0.0007870413165777153,
          0.000018331287689912394,
          -0.0013147116445714896,
          -0.0007456535488486521,
          -0.00040287038580246755,
          -0.0011153783087409592,
          -0.00003774336269343095,
          0.00011433587156277155,
          -0.001117349672011294,
          -0.0004362185827099971,
          -0.00024668303024305734,
          -0.0005853247303023117,
          -0.00009736280704524119,
          0.00012524047631248545,
          -0.0003284450202468936,
          0.0002907927994106438,
          0.0003810906542677119,
          0.0006744401195177189,
          0.0007034190965736263,
          0.0008448181260691347,
          0.003335290360041768,
          0.002076035759227253,
          0.0006478462082321634,
          0.004269335049314136,
          0.00018400226759335538,
          -0.00009456845516664604,
          0.0003266230421233558,
          -0.0007826412417445125,
          -0.00007473629710502377,
          -0.0004716292957033103,
          0.00016416701747048892,
          0.0005530207919918187,
          0.0021081689635269333,
          0.00010638225033102662,
          -0.00005958448661168269,
          0.00014501775113339192,
          0.0004727303576703439,
          -0.0004730561976650903,
          -0.000011345527424439554,
          0.0006786797063115782,
          -0.00020681059402098502,
          0.0001552292627816675,
          -0.0004077701955680995,
          0.00012175980644382339,
          0.002201861239900936,
          0.0004243337851977497,
          -0.0009353453304391346,
          -0.0022903968840032735,
          -0.0014331444988761183,
          0.00009775312702865799,
          -0.0013679632298014947,
          0.00008845729158651924,
          -0.0012433017994599755,
          -0.0016696905611332928,
          -0.0006124764096992606,
          -0.00028426615762136966,
          -0.004197293081015168,
          0.0013951708424561032,
          0.00018376497684561291,
          0.0012882115328198243,
          -0.00036797026224345256,
          0.00023910789543595836,
          -0.00028357131560057913,
          -0.0003009240466287334,
          -0.00016992179544415045,
          -0.0012418291582256288,
          0.00013366141933452398,
          0.0000657770905477309,
          -0.00018337835143671677,
          0.0000014165707614533287,
          0.0010365265311937418,
          0.001773160991187473,
          0.00014002677555473433,
          -0.0004597174838170312,
          -0.0005675358536591303,
          -0.000013381991063871331,
          0.00022556463389846146,
          -0.00004208109788063367,
          -0.00045242881369251164,
          -0.0006329314699911937,
          -0.001459024947959249,
          -0.00026306109459913623,
          -0.00008877620085989559,
          -0.00013487122931789129,
          -0.0001137253910889838,
          -0.00012412346646114192,
          -0.00016402881449614502,
          -0.000134596764463544,
          -0.0007174496981982828,
          -0.0005129909066026402,
          0.00003299783849021266,
          -0.00019052591712546445,
          -0.0005825673138168239,
          -0.00030371858637753574,
          -0.000005241889511654485,
          -0.00007721665996817181,
          0.000044753981617604445,
          -0.00012690942487450935,
          0.00025882609063751044,
          0.00020576355720730965,
          -0.00027830685771289645,
          -0.00033528661814251413,
          0.000007558048076643042,
          0.0002857971513400722,
          0.0013340341195808266,
          0.0003253238198406549,
          -0.000175487682592258,
          0.001060110945693467,
          0.0002579063141165506,
          -0.000040030269353169476,
          0.00012645419800645107,
          0.0005374224889879443,
          0.00031508111745667735,
          0.0012633524188655771,
          0.00006463546509472136,
          -0.00047385518936781214,
          -0.0011850389390914086,
          -0.00035331067680994345,
          0.00009302348155344361,
          -0.0004790143771053577,
          -0.0002800745881786692,
          -0.00002394770548646985,
          -0.0005414881030749229,
          0.00004322289278298876,
          -0.0005940374875829805,
          -0.00022507941871776596,
          -0.0005858820784666237,
          -0.00025000882443410163,
          -0.0002773708629924051,
          0.00009021377135899234,
          0.00019455674580153094,
          0.0006828959911998875,
          -0.0000924199311451334,
          0.0005318699243094216,
          0.0004812794604501941,
          0.0002959960848938181,
          0.00023062406791964665,
          0.00022431166630830688,
          -0.00021799496378069766,
          -0.000169144198055933,
          -0.000662116844327278,
          -0.0006669285517201275,
          -0.00016263583042894192,
          -0.003022295138655267,
          -0.0005101934088603287,
          -0.00040026693844342803,
          -0.0008910464601149699,
          -0.0003851941295089523,
          0.0004797769162777741,
          0.00043824126401430805,
          0.00032212048692323406,
          0.00025018349301370133,
          0.0006785789840510824,
          0.00043053454368417087,
          0.00059029061978201,
          0.000015503399925805157,
          0.00014174756831945875,
          -0.000232486885735968,
          0.00010831431121963122,
          0.00013198461367469326,
          0.0006197349588412416,
          -0.00013540865910164818,
          -0.0000755526373209478,
          -0.0003507392115962724,
          0.00039320976577989555,
          -0.00018615556621764023,
          0.0004731580499966311,
          -0.00010580058242716814,
          -0.00022820282667234638,
          -0.000867073624502727,
          -0.00015991942234971047,
          -0.0007341633390666364,
          -0.0004233223889580628,
          0.00010633861572249602,
          0.0008095862897456457,
          0.00015422167499628026,
          -0.00036735171909737927,
          -0.00003751626249515331,
          -0.0009380725289880201,
          -0.000890368873564304,
          -0.00034866271334885266,
          0.0003204411228826976,
          0.00041661663920677797,
          0.00027056217275685983,
          -0.00010588333625332919,
          -0.00001617211794275392,
          -0.00016694177237720363,
          -0.00013919535244192937,
          -0.0004827980597703596,
          -0.00045807550276646893,
          -0.0003304578948588115,
          -0.0011646447432381054,
          -0.00017740346636957178,
          -0.00012178675999645457,
          -0.0002047891417892923,
          0.00013816682262163336,
          0.0002592487933265415,
          0.0008358409396194314,
          0.0001026503436581134,
          0.00006656916556353004,
          0.0003027895540411176,
          0.0003982587737280391,
          0.0002557456742209464,
          0.00030859910657798814,
          0.00023119451469681343,
          -0.000609598990100016,
          -0.0009716934450180365,
          -0.0005201127646178956,
          -0.000007815671985465256,
          -0.00020621188762434087,
          0.000007112743190700459,
          -0.0005176310629930055,
          -0.0011900256128356552,
          0.000043704086332072046,
          -0.000030504185174205903,
          -0.000108611588856531,
          -0.00008329984173030071,
          -0.0003214726105335825,
          -0.0005604720560148188,
          0.0003725396051859431,
          -0.00046882128574562423,
          -0.003813444020939329,
          -0.0031098206544037895,
          -0.0007304519288127324,
          -0.004777235496396305,
          -0.0007495352526250506,
          -0.00010844692080249538,
          -0.0006800856164602998,
          -0.000017042303331327003,
          -0.0005820881745866548,
          -0.005928548672224841,
          -0.004364468446813362,
          -0.0012102781262010207,
          -0.006303163046774722,
          -0.0007032400496513976,
          0.0007198529907098564,
          0.00006770409326374255,
          -0.0007009782646440085,
          -0.0011455049346315014,
          -0.0013716621190794271,
          -0.0003742872200293992,
          0.00037077388132691365,
          -0.0006321016831394589,
          0.000021198066543621527,
          -0.00046540378114074034,
          -0.001164990756449417,
          -0.00020355918815285524,
          0.0007972394681723134,
          0.001217364251901897,
          0.0013635061266701817,
          0.00007546774318539307,
          0.0008132214795091061,
          0.00039602678879746463,
          -0.00019615924071879316,
          0.0004363928656480946,
          -0.00017919539527759242,
          -0.00030594982538826926,
          -0.0011887432534835346,
          -0.00017320281335404304,
          0.0004426277967169135,
          0.0009769534726149962,
          -0.00027061081527377293,
          -0.0003090754500500751,
          -0.0009967500136868464,
          -0.0004836508831596312,
          -0.00023843048146181313,
          -0.0008458264225378667,
          -0.0003381409509398026,
          0.0003961776319938229,
          -0.00017134370449134323,
          -0.00004564530764792908,
          0.000244200879103906,
          0.00048784683477942436,
          -0.0006671297290275729,
          0.0001662138158734194,
          -0.0003156275918038536
         ]
        }
       ],
       "layout": {
        "template": {
         "data": {
          "bar": [
           {
            "error_x": {
             "color": "#2a3f5f"
            },
            "error_y": {
             "color": "#2a3f5f"
            },
            "marker": {
             "line": {
              "color": "#E5ECF6",
              "width": 0.5
             },
             "pattern": {
              "fillmode": "overlay",
              "size": 10,
              "solidity": 0.2
             }
            },
            "type": "bar"
           }
          ],
          "barpolar": [
           {
            "marker": {
             "line": {
              "color": "#E5ECF6",
              "width": 0.5
             },
             "pattern": {
              "fillmode": "overlay",
              "size": 10,
              "solidity": 0.2
             }
            },
            "type": "barpolar"
           }
          ],
          "carpet": [
           {
            "aaxis": {
             "endlinecolor": "#2a3f5f",
             "gridcolor": "white",
             "linecolor": "white",
             "minorgridcolor": "white",
             "startlinecolor": "#2a3f5f"
            },
            "baxis": {
             "endlinecolor": "#2a3f5f",
             "gridcolor": "white",
             "linecolor": "white",
             "minorgridcolor": "white",
             "startlinecolor": "#2a3f5f"
            },
            "type": "carpet"
           }
          ],
          "choropleth": [
           {
            "colorbar": {
             "outlinewidth": 0,
             "ticks": ""
            },
            "type": "choropleth"
           }
          ],
          "contour": [
           {
            "colorbar": {
             "outlinewidth": 0,
             "ticks": ""
            },
            "colorscale": [
             [
              0,
              "#0d0887"
             ],
             [
              0.1111111111111111,
              "#46039f"
             ],
             [
              0.2222222222222222,
              "#7201a8"
             ],
             [
              0.3333333333333333,
              "#9c179e"
             ],
             [
              0.4444444444444444,
              "#bd3786"
             ],
             [
              0.5555555555555556,
              "#d8576b"
             ],
             [
              0.6666666666666666,
              "#ed7953"
             ],
             [
              0.7777777777777778,
              "#fb9f3a"
             ],
             [
              0.8888888888888888,
              "#fdca26"
             ],
             [
              1,
              "#f0f921"
             ]
            ],
            "type": "contour"
           }
          ],
          "contourcarpet": [
           {
            "colorbar": {
             "outlinewidth": 0,
             "ticks": ""
            },
            "type": "contourcarpet"
           }
          ],
          "heatmap": [
           {
            "colorbar": {
             "outlinewidth": 0,
             "ticks": ""
            },
            "colorscale": [
             [
              0,
              "#0d0887"
             ],
             [
              0.1111111111111111,
              "#46039f"
             ],
             [
              0.2222222222222222,
              "#7201a8"
             ],
             [
              0.3333333333333333,
              "#9c179e"
             ],
             [
              0.4444444444444444,
              "#bd3786"
             ],
             [
              0.5555555555555556,
              "#d8576b"
             ],
             [
              0.6666666666666666,
              "#ed7953"
             ],
             [
              0.7777777777777778,
              "#fb9f3a"
             ],
             [
              0.8888888888888888,
              "#fdca26"
             ],
             [
              1,
              "#f0f921"
             ]
            ],
            "type": "heatmap"
           }
          ],
          "heatmapgl": [
           {
            "colorbar": {
             "outlinewidth": 0,
             "ticks": ""
            },
            "colorscale": [
             [
              0,
              "#0d0887"
             ],
             [
              0.1111111111111111,
              "#46039f"
             ],
             [
              0.2222222222222222,
              "#7201a8"
             ],
             [
              0.3333333333333333,
              "#9c179e"
             ],
             [
              0.4444444444444444,
              "#bd3786"
             ],
             [
              0.5555555555555556,
              "#d8576b"
             ],
             [
              0.6666666666666666,
              "#ed7953"
             ],
             [
              0.7777777777777778,
              "#fb9f3a"
             ],
             [
              0.8888888888888888,
              "#fdca26"
             ],
             [
              1,
              "#f0f921"
             ]
            ],
            "type": "heatmapgl"
           }
          ],
          "histogram": [
           {
            "marker": {
             "pattern": {
              "fillmode": "overlay",
              "size": 10,
              "solidity": 0.2
             }
            },
            "type": "histogram"
           }
          ],
          "histogram2d": [
           {
            "colorbar": {
             "outlinewidth": 0,
             "ticks": ""
            },
            "colorscale": [
             [
              0,
              "#0d0887"
             ],
             [
              0.1111111111111111,
              "#46039f"
             ],
             [
              0.2222222222222222,
              "#7201a8"
             ],
             [
              0.3333333333333333,
              "#9c179e"
             ],
             [
              0.4444444444444444,
              "#bd3786"
             ],
             [
              0.5555555555555556,
              "#d8576b"
             ],
             [
              0.6666666666666666,
              "#ed7953"
             ],
             [
              0.7777777777777778,
              "#fb9f3a"
             ],
             [
              0.8888888888888888,
              "#fdca26"
             ],
             [
              1,
              "#f0f921"
             ]
            ],
            "type": "histogram2d"
           }
          ],
          "histogram2dcontour": [
           {
            "colorbar": {
             "outlinewidth": 0,
             "ticks": ""
            },
            "colorscale": [
             [
              0,
              "#0d0887"
             ],
             [
              0.1111111111111111,
              "#46039f"
             ],
             [
              0.2222222222222222,
              "#7201a8"
             ],
             [
              0.3333333333333333,
              "#9c179e"
             ],
             [
              0.4444444444444444,
              "#bd3786"
             ],
             [
              0.5555555555555556,
              "#d8576b"
             ],
             [
              0.6666666666666666,
              "#ed7953"
             ],
             [
              0.7777777777777778,
              "#fb9f3a"
             ],
             [
              0.8888888888888888,
              "#fdca26"
             ],
             [
              1,
              "#f0f921"
             ]
            ],
            "type": "histogram2dcontour"
           }
          ],
          "mesh3d": [
           {
            "colorbar": {
             "outlinewidth": 0,
             "ticks": ""
            },
            "type": "mesh3d"
           }
          ],
          "parcoords": [
           {
            "line": {
             "colorbar": {
              "outlinewidth": 0,
              "ticks": ""
             }
            },
            "type": "parcoords"
           }
          ],
          "pie": [
           {
            "automargin": true,
            "type": "pie"
           }
          ],
          "scatter": [
           {
            "marker": {
             "colorbar": {
              "outlinewidth": 0,
              "ticks": ""
             }
            },
            "type": "scatter"
           }
          ],
          "scatter3d": [
           {
            "line": {
             "colorbar": {
              "outlinewidth": 0,
              "ticks": ""
             }
            },
            "marker": {
             "colorbar": {
              "outlinewidth": 0,
              "ticks": ""
             }
            },
            "type": "scatter3d"
           }
          ],
          "scattercarpet": [
           {
            "marker": {
             "colorbar": {
              "outlinewidth": 0,
              "ticks": ""
             }
            },
            "type": "scattercarpet"
           }
          ],
          "scattergeo": [
           {
            "marker": {
             "colorbar": {
              "outlinewidth": 0,
              "ticks": ""
             }
            },
            "type": "scattergeo"
           }
          ],
          "scattergl": [
           {
            "marker": {
             "colorbar": {
              "outlinewidth": 0,
              "ticks": ""
             }
            },
            "type": "scattergl"
           }
          ],
          "scattermapbox": [
           {
            "marker": {
             "colorbar": {
              "outlinewidth": 0,
              "ticks": ""
             }
            },
            "type": "scattermapbox"
           }
          ],
          "scatterpolar": [
           {
            "marker": {
             "colorbar": {
              "outlinewidth": 0,
              "ticks": ""
             }
            },
            "type": "scatterpolar"
           }
          ],
          "scatterpolargl": [
           {
            "marker": {
             "colorbar": {
              "outlinewidth": 0,
              "ticks": ""
             }
            },
            "type": "scatterpolargl"
           }
          ],
          "scatterternary": [
           {
            "marker": {
             "colorbar": {
              "outlinewidth": 0,
              "ticks": ""
             }
            },
            "type": "scatterternary"
           }
          ],
          "surface": [
           {
            "colorbar": {
             "outlinewidth": 0,
             "ticks": ""
            },
            "colorscale": [
             [
              0,
              "#0d0887"
             ],
             [
              0.1111111111111111,
              "#46039f"
             ],
             [
              0.2222222222222222,
              "#7201a8"
             ],
             [
              0.3333333333333333,
              "#9c179e"
             ],
             [
              0.4444444444444444,
              "#bd3786"
             ],
             [
              0.5555555555555556,
              "#d8576b"
             ],
             [
              0.6666666666666666,
              "#ed7953"
             ],
             [
              0.7777777777777778,
              "#fb9f3a"
             ],
             [
              0.8888888888888888,
              "#fdca26"
             ],
             [
              1,
              "#f0f921"
             ]
            ],
            "type": "surface"
           }
          ],
          "table": [
           {
            "cells": {
             "fill": {
              "color": "#EBF0F8"
             },
             "line": {
              "color": "white"
             }
            },
            "header": {
             "fill": {
              "color": "#C8D4E3"
             },
             "line": {
              "color": "white"
             }
            },
            "type": "table"
           }
          ]
         },
         "layout": {
          "annotationdefaults": {
           "arrowcolor": "#2a3f5f",
           "arrowhead": 0,
           "arrowwidth": 1
          },
          "autotypenumbers": "strict",
          "coloraxis": {
           "colorbar": {
            "outlinewidth": 0,
            "ticks": ""
           }
          },
          "colorscale": {
           "diverging": [
            [
             0,
             "#8e0152"
            ],
            [
             0.1,
             "#c51b7d"
            ],
            [
             0.2,
             "#de77ae"
            ],
            [
             0.3,
             "#f1b6da"
            ],
            [
             0.4,
             "#fde0ef"
            ],
            [
             0.5,
             "#f7f7f7"
            ],
            [
             0.6,
             "#e6f5d0"
            ],
            [
             0.7,
             "#b8e186"
            ],
            [
             0.8,
             "#7fbc41"
            ],
            [
             0.9,
             "#4d9221"
            ],
            [
             1,
             "#276419"
            ]
           ],
           "sequential": [
            [
             0,
             "#0d0887"
            ],
            [
             0.1111111111111111,
             "#46039f"
            ],
            [
             0.2222222222222222,
             "#7201a8"
            ],
            [
             0.3333333333333333,
             "#9c179e"
            ],
            [
             0.4444444444444444,
             "#bd3786"
            ],
            [
             0.5555555555555556,
             "#d8576b"
            ],
            [
             0.6666666666666666,
             "#ed7953"
            ],
            [
             0.7777777777777778,
             "#fb9f3a"
            ],
            [
             0.8888888888888888,
             "#fdca26"
            ],
            [
             1,
             "#f0f921"
            ]
           ],
           "sequentialminus": [
            [
             0,
             "#0d0887"
            ],
            [
             0.1111111111111111,
             "#46039f"
            ],
            [
             0.2222222222222222,
             "#7201a8"
            ],
            [
             0.3333333333333333,
             "#9c179e"
            ],
            [
             0.4444444444444444,
             "#bd3786"
            ],
            [
             0.5555555555555556,
             "#d8576b"
            ],
            [
             0.6666666666666666,
             "#ed7953"
            ],
            [
             0.7777777777777778,
             "#fb9f3a"
            ],
            [
             0.8888888888888888,
             "#fdca26"
            ],
            [
             1,
             "#f0f921"
            ]
           ]
          },
          "colorway": [
           "#636efa",
           "#EF553B",
           "#00cc96",
           "#ab63fa",
           "#FFA15A",
           "#19d3f3",
           "#FF6692",
           "#B6E880",
           "#FF97FF",
           "#FECB52"
          ],
          "font": {
           "color": "#2a3f5f"
          },
          "geo": {
           "bgcolor": "white",
           "lakecolor": "white",
           "landcolor": "#E5ECF6",
           "showlakes": true,
           "showland": true,
           "subunitcolor": "white"
          },
          "hoverlabel": {
           "align": "left"
          },
          "hovermode": "closest",
          "mapbox": {
           "style": "light"
          },
          "paper_bgcolor": "white",
          "plot_bgcolor": "#E5ECF6",
          "polar": {
           "angularaxis": {
            "gridcolor": "white",
            "linecolor": "white",
            "ticks": ""
           },
           "bgcolor": "#E5ECF6",
           "radialaxis": {
            "gridcolor": "white",
            "linecolor": "white",
            "ticks": ""
           }
          },
          "scene": {
           "xaxis": {
            "backgroundcolor": "#E5ECF6",
            "gridcolor": "white",
            "gridwidth": 2,
            "linecolor": "white",
            "showbackground": true,
            "ticks": "",
            "zerolinecolor": "white"
           },
           "yaxis": {
            "backgroundcolor": "#E5ECF6",
            "gridcolor": "white",
            "gridwidth": 2,
            "linecolor": "white",
            "showbackground": true,
            "ticks": "",
            "zerolinecolor": "white"
           },
           "zaxis": {
            "backgroundcolor": "#E5ECF6",
            "gridcolor": "white",
            "gridwidth": 2,
            "linecolor": "white",
            "showbackground": true,
            "ticks": "",
            "zerolinecolor": "white"
           }
          },
          "shapedefaults": {
           "line": {
            "color": "#2a3f5f"
           }
          },
          "ternary": {
           "aaxis": {
            "gridcolor": "white",
            "linecolor": "white",
            "ticks": ""
           },
           "baxis": {
            "gridcolor": "white",
            "linecolor": "white",
            "ticks": ""
           },
           "bgcolor": "#E5ECF6",
           "caxis": {
            "gridcolor": "white",
            "linecolor": "white",
            "ticks": ""
           }
          },
          "title": {
           "x": 0.05
          },
          "xaxis": {
           "automargin": true,
           "gridcolor": "white",
           "linecolor": "white",
           "ticks": "",
           "title": {
            "standoff": 15
           },
           "zerolinecolor": "white",
           "zerolinewidth": 2
          },
          "yaxis": {
           "automargin": true,
           "gridcolor": "white",
           "linecolor": "white",
           "ticks": "",
           "title": {
            "standoff": 15
           },
           "zerolinecolor": "white",
           "zerolinewidth": 2
          }
         }
        },
        "title": {
         "text": "Bitcoin Price vs Sentiment"
        }
       }
      }
     },
     "metadata": {},
     "output_type": "display_data"
    }
   ],
   "source": [
    "fig.add_trace(go.Scatter(x=eth.index, \n",
    "                         y=eth['percent_change_daily_close'], \n",
    "                         opacity=0.7, \n",
    "                         line=dict(color='orange', width=2), \n",
    "                         name='Bitcoin Price Change(%)'))"
   ]
  }
 ],
 "metadata": {
  "interpreter": {
   "hash": "9164a3399a70d355c381b62813f30880ed90ca5a6f321bf0d85375640bda7ee5"
  },
  "kernelspec": {
   "display_name": "Python 3.7.9 64-bit",
   "language": "python",
   "name": "python3"
  },
  "language_info": {
   "codemirror_mode": {
    "name": "ipython",
    "version": 3
   },
   "file_extension": ".py",
   "mimetype": "text/x-python",
   "name": "python",
   "nbconvert_exporter": "python",
   "pygments_lexer": "ipython3",
   "version": "3.7.9"
  },
  "orig_nbformat": 4
 },
 "nbformat": 4,
 "nbformat_minor": 2
}
