{
 "cells": [
  {
   "cell_type": "code",
   "execution_count": 1,
   "metadata": {},
   "outputs": [
    {
     "name": "stderr",
     "output_type": "stream",
     "text": [
      "C:\\Users\\User\\AppData\\Local\\Programs\\Python\\Python37\\lib\\site-packages\\numpy\\_distributor_init.py:32: UserWarning: loaded more than 1 DLL from .libs:\n",
      "C:\\Users\\User\\AppData\\Local\\Programs\\Python\\Python37\\lib\\site-packages\\numpy\\.libs\\libopenblas.NOIJJG62EMASZI6NYURL6JBKM4EVBGM7.gfortran-win_amd64.dll\n",
      "C:\\Users\\User\\AppData\\Local\\Programs\\Python\\Python37\\lib\\site-packages\\numpy\\.libs\\libopenblas.PYQHXLVVQ7VESDPUVUADXEVJOBGHJPAY.gfortran-win_amd64.dll\n",
      "C:\\Users\\User\\AppData\\Local\\Programs\\Python\\Python37\\lib\\site-packages\\numpy\\.libs\\libopenblas.QVLO2T66WEPI7JZ63PS3HMOHFEY472BC.gfortran-win_amd64.dll\n",
      "  stacklevel=1)\n"
     ]
    }
   ],
   "source": [
    "import pandas as pd"
   ]
  },
  {
   "cell_type": "code",
   "execution_count": 2,
   "metadata": {},
   "outputs": [
    {
     "data": {
      "text/html": [
       "<div>\n",
       "<style scoped>\n",
       "    .dataframe tbody tr th:only-of-type {\n",
       "        vertical-align: middle;\n",
       "    }\n",
       "\n",
       "    .dataframe tbody tr th {\n",
       "        vertical-align: top;\n",
       "    }\n",
       "\n",
       "    .dataframe thead th {\n",
       "        text-align: right;\n",
       "    }\n",
       "</style>\n",
       "<table border=\"1\" class=\"dataframe\">\n",
       "  <thead>\n",
       "    <tr style=\"text-align: right;\">\n",
       "      <th></th>\n",
       "      <th>SNo</th>\n",
       "      <th>Name</th>\n",
       "      <th>Symbol</th>\n",
       "      <th>Date</th>\n",
       "      <th>High</th>\n",
       "      <th>Low</th>\n",
       "      <th>Open</th>\n",
       "      <th>Close</th>\n",
       "      <th>Volume</th>\n",
       "      <th>Marketcap</th>\n",
       "    </tr>\n",
       "  </thead>\n",
       "  <tbody>\n",
       "    <tr>\n",
       "      <th>0</th>\n",
       "      <td>1</td>\n",
       "      <td>Ethereum</td>\n",
       "      <td>ETH</td>\n",
       "      <td>2015-08-08 23:59:59</td>\n",
       "      <td>2.798810</td>\n",
       "      <td>0.714725</td>\n",
       "      <td>2.793760</td>\n",
       "      <td>0.753325</td>\n",
       "      <td>674188.0</td>\n",
       "      <td>4.548689e+07</td>\n",
       "    </tr>\n",
       "    <tr>\n",
       "      <th>1</th>\n",
       "      <td>2</td>\n",
       "      <td>Ethereum</td>\n",
       "      <td>ETH</td>\n",
       "      <td>2015-08-09 23:59:59</td>\n",
       "      <td>0.879810</td>\n",
       "      <td>0.629191</td>\n",
       "      <td>0.706136</td>\n",
       "      <td>0.701897</td>\n",
       "      <td>532170.0</td>\n",
       "      <td>4.239957e+07</td>\n",
       "    </tr>\n",
       "    <tr>\n",
       "      <th>2</th>\n",
       "      <td>3</td>\n",
       "      <td>Ethereum</td>\n",
       "      <td>ETH</td>\n",
       "      <td>2015-08-10 23:59:59</td>\n",
       "      <td>0.729854</td>\n",
       "      <td>0.636546</td>\n",
       "      <td>0.713989</td>\n",
       "      <td>0.708448</td>\n",
       "      <td>405283.0</td>\n",
       "      <td>4.281836e+07</td>\n",
       "    </tr>\n",
       "    <tr>\n",
       "      <th>3</th>\n",
       "      <td>4</td>\n",
       "      <td>Ethereum</td>\n",
       "      <td>ETH</td>\n",
       "      <td>2015-08-11 23:59:59</td>\n",
       "      <td>1.131410</td>\n",
       "      <td>0.663235</td>\n",
       "      <td>0.708087</td>\n",
       "      <td>1.067860</td>\n",
       "      <td>1463100.0</td>\n",
       "      <td>6.456929e+07</td>\n",
       "    </tr>\n",
       "    <tr>\n",
       "      <th>4</th>\n",
       "      <td>5</td>\n",
       "      <td>Ethereum</td>\n",
       "      <td>ETH</td>\n",
       "      <td>2015-08-12 23:59:59</td>\n",
       "      <td>1.289940</td>\n",
       "      <td>0.883608</td>\n",
       "      <td>1.058750</td>\n",
       "      <td>1.217440</td>\n",
       "      <td>2150620.0</td>\n",
       "      <td>7.364501e+07</td>\n",
       "    </tr>\n",
       "  </tbody>\n",
       "</table>\n",
       "</div>"
      ],
      "text/plain": [
       "   SNo      Name Symbol                 Date      High       Low      Open  \\\n",
       "0    1  Ethereum    ETH  2015-08-08 23:59:59  2.798810  0.714725  2.793760   \n",
       "1    2  Ethereum    ETH  2015-08-09 23:59:59  0.879810  0.629191  0.706136   \n",
       "2    3  Ethereum    ETH  2015-08-10 23:59:59  0.729854  0.636546  0.713989   \n",
       "3    4  Ethereum    ETH  2015-08-11 23:59:59  1.131410  0.663235  0.708087   \n",
       "4    5  Ethereum    ETH  2015-08-12 23:59:59  1.289940  0.883608  1.058750   \n",
       "\n",
       "      Close     Volume     Marketcap  \n",
       "0  0.753325   674188.0  4.548689e+07  \n",
       "1  0.701897   532170.0  4.239957e+07  \n",
       "2  0.708448   405283.0  4.281836e+07  \n",
       "3  1.067860  1463100.0  6.456929e+07  \n",
       "4  1.217440  2150620.0  7.364501e+07  "
      ]
     },
     "execution_count": 2,
     "metadata": {},
     "output_type": "execute_result"
    }
   ],
   "source": [
    "df_eth = pd.read_csv(r\"C:\\Users\\User\\Documents\\C2001\\FIT3161_3162\\FIT3161\\dataset\\time_series\\coin_Ethereum.csv\") \n",
    "# df_eth.columns = df_eth.iloc[0]\n",
    "# df_eth.drop(df_eth.index[[0, 1]], inplace=True)\n",
    "df_eth.head()"
   ]
  },
  {
   "cell_type": "code",
   "execution_count": 3,
   "metadata": {},
   "outputs": [
    {
     "data": {
      "text/plain": [
       "SNo            int64\n",
       "Name          object\n",
       "Symbol        object\n",
       "Date          object\n",
       "High         float64\n",
       "Low          float64\n",
       "Open         float64\n",
       "Close        float64\n",
       "Volume       float64\n",
       "Marketcap    float64\n",
       "dtype: object"
      ]
     },
     "execution_count": 3,
     "metadata": {},
     "output_type": "execute_result"
    }
   ],
   "source": [
    "df_eth.dtypes"
   ]
  },
  {
   "cell_type": "code",
   "execution_count": 4,
   "metadata": {},
   "outputs": [],
   "source": [
    "# convert date format to datetime\n",
    "# df_eth['Date'] = pd.to_datetime(df_eth['Date'], format='%Y-%m-%d %H-%p').dt.strftime('%Y-%m-%d %H:%M')\n",
    "df_eth['Date'] = pd.to_datetime(df_eth['Date'])\n",
    "# sort values by date\n",
    "df_eth = df_eth.sort_values(by='Date')\n",
    "df_eth.rename(columns = {'Date':'datetime'}, inplace = True)\n",
    "del df_eth['Symbol']\n",
    "# del df_eth['Unix Timestamp']"
   ]
  },
  {
   "cell_type": "code",
   "execution_count": 5,
   "metadata": {},
   "outputs": [
    {
     "data": {
      "text/plain": [
       "SNo          0\n",
       "Name         0\n",
       "datetime     0\n",
       "High         0\n",
       "Low          0\n",
       "Open         0\n",
       "Close        0\n",
       "Volume       0\n",
       "Marketcap    0\n",
       "dtype: int64"
      ]
     },
     "execution_count": 5,
     "metadata": {},
     "output_type": "execute_result"
    }
   ],
   "source": [
    "df_eth.isnull().sum()"
   ]
  },
  {
   "cell_type": "code",
   "execution_count": 6,
   "metadata": {},
   "outputs": [
    {
     "data": {
      "text/html": [
       "<div>\n",
       "<style scoped>\n",
       "    .dataframe tbody tr th:only-of-type {\n",
       "        vertical-align: middle;\n",
       "    }\n",
       "\n",
       "    .dataframe tbody tr th {\n",
       "        vertical-align: top;\n",
       "    }\n",
       "\n",
       "    .dataframe thead th {\n",
       "        text-align: right;\n",
       "    }\n",
       "</style>\n",
       "<table border=\"1\" class=\"dataframe\">\n",
       "  <thead>\n",
       "    <tr style=\"text-align: right;\">\n",
       "      <th></th>\n",
       "      <th>SNo</th>\n",
       "      <th>Name</th>\n",
       "      <th>datetime</th>\n",
       "      <th>High</th>\n",
       "      <th>Low</th>\n",
       "      <th>Open</th>\n",
       "      <th>Close</th>\n",
       "      <th>Volume</th>\n",
       "      <th>Marketcap</th>\n",
       "    </tr>\n",
       "  </thead>\n",
       "  <tbody>\n",
       "    <tr>\n",
       "      <th>0</th>\n",
       "      <td>1</td>\n",
       "      <td>Ethereum</td>\n",
       "      <td>2015-08-08 23:59:59</td>\n",
       "      <td>2.798810</td>\n",
       "      <td>0.714725</td>\n",
       "      <td>2.793760</td>\n",
       "      <td>0.753325</td>\n",
       "      <td>674188.0</td>\n",
       "      <td>4.548689e+07</td>\n",
       "    </tr>\n",
       "    <tr>\n",
       "      <th>1</th>\n",
       "      <td>2</td>\n",
       "      <td>Ethereum</td>\n",
       "      <td>2015-08-09 23:59:59</td>\n",
       "      <td>0.879810</td>\n",
       "      <td>0.629191</td>\n",
       "      <td>0.706136</td>\n",
       "      <td>0.701897</td>\n",
       "      <td>532170.0</td>\n",
       "      <td>4.239957e+07</td>\n",
       "    </tr>\n",
       "    <tr>\n",
       "      <th>2</th>\n",
       "      <td>3</td>\n",
       "      <td>Ethereum</td>\n",
       "      <td>2015-08-10 23:59:59</td>\n",
       "      <td>0.729854</td>\n",
       "      <td>0.636546</td>\n",
       "      <td>0.713989</td>\n",
       "      <td>0.708448</td>\n",
       "      <td>405283.0</td>\n",
       "      <td>4.281836e+07</td>\n",
       "    </tr>\n",
       "    <tr>\n",
       "      <th>3</th>\n",
       "      <td>4</td>\n",
       "      <td>Ethereum</td>\n",
       "      <td>2015-08-11 23:59:59</td>\n",
       "      <td>1.131410</td>\n",
       "      <td>0.663235</td>\n",
       "      <td>0.708087</td>\n",
       "      <td>1.067860</td>\n",
       "      <td>1463100.0</td>\n",
       "      <td>6.456929e+07</td>\n",
       "    </tr>\n",
       "    <tr>\n",
       "      <th>4</th>\n",
       "      <td>5</td>\n",
       "      <td>Ethereum</td>\n",
       "      <td>2015-08-12 23:59:59</td>\n",
       "      <td>1.289940</td>\n",
       "      <td>0.883608</td>\n",
       "      <td>1.058750</td>\n",
       "      <td>1.217440</td>\n",
       "      <td>2150620.0</td>\n",
       "      <td>7.364501e+07</td>\n",
       "    </tr>\n",
       "  </tbody>\n",
       "</table>\n",
       "</div>"
      ],
      "text/plain": [
       "   SNo      Name            datetime      High       Low      Open     Close  \\\n",
       "0    1  Ethereum 2015-08-08 23:59:59  2.798810  0.714725  2.793760  0.753325   \n",
       "1    2  Ethereum 2015-08-09 23:59:59  0.879810  0.629191  0.706136  0.701897   \n",
       "2    3  Ethereum 2015-08-10 23:59:59  0.729854  0.636546  0.713989  0.708448   \n",
       "3    4  Ethereum 2015-08-11 23:59:59  1.131410  0.663235  0.708087  1.067860   \n",
       "4    5  Ethereum 2015-08-12 23:59:59  1.289940  0.883608  1.058750  1.217440   \n",
       "\n",
       "      Volume     Marketcap  \n",
       "0   674188.0  4.548689e+07  \n",
       "1   532170.0  4.239957e+07  \n",
       "2   405283.0  4.281836e+07  \n",
       "3  1463100.0  6.456929e+07  \n",
       "4  2150620.0  7.364501e+07  "
      ]
     },
     "execution_count": 6,
     "metadata": {},
     "output_type": "execute_result"
    }
   ],
   "source": [
    "df_eth.head()"
   ]
  },
  {
   "cell_type": "code",
   "execution_count": 7,
   "metadata": {},
   "outputs": [],
   "source": [
    "del df_eth['SNo']\n",
    "del df_eth['Name']"
   ]
  },
  {
   "cell_type": "code",
   "execution_count": 8,
   "metadata": {},
   "outputs": [
    {
     "data": {
      "text/plain": [
       "datetime     datetime64[ns]\n",
       "High                float64\n",
       "Low                 float64\n",
       "Open                float64\n",
       "Close               float64\n",
       "Volume              float64\n",
       "Marketcap           float64\n",
       "dtype: object"
      ]
     },
     "execution_count": 8,
     "metadata": {},
     "output_type": "execute_result"
    }
   ],
   "source": [
    "# Convert all quantitative variables to numeric format\n",
    "df_ethusd = pd.concat([\n",
    "    df_eth.iloc[:,0],\n",
    "    df_eth.iloc[:, 1:len(df_eth.columns)].astype('float')\n",
    "], axis = 1)\n",
    "df_eth.dtypes"
   ]
  },
  {
   "cell_type": "code",
   "execution_count": 9,
   "metadata": {},
   "outputs": [
    {
     "name": "stdout",
     "output_type": "stream",
     "text": [
      "Training set shape == (2160, 4)\n",
      "All timestamps == 2160\n",
      "Featured selected: ['Close', 'High', 'Low', 'Open']\n",
      "Featured target selected: Close\n",
      "Number of time steps selected: 24\n"
     ]
    }
   ],
   "source": [
    "# Select features (columns) to be involved intro training and predictions\n",
    "cols = list(['Close','High', 'Low', 'Open'])\n",
    "# Target feature\n",
    "y_target = 'Close'\n",
    "# Number of time steps use to predict the future \n",
    "n_time_steps = 24\n",
    "# Extract dates (will be used in visualization)\n",
    "dataset_datelist = list(df_eth['datetime'])\n",
    "# Parse training set timestamp for better visualization\n",
    "df_eth = pd.DataFrame(df_eth, columns=cols)\n",
    "df_eth.index = dataset_datelist\n",
    "df_eth.index = pd.to_datetime(df_eth.index)\n",
    "print('Training set shape == {}'.format(df_eth.shape))\n",
    "print('All timestamps == {}'.format(len(dataset_datelist)))\n",
    "print('Featured selected: {}'.format(cols))\n",
    "print('Featured target selected: {}'.format(y_target))\n",
    "print('Number of time steps selected: {}'.format(n_time_steps))"
   ]
  },
  {
   "cell_type": "code",
   "execution_count": 10,
   "metadata": {},
   "outputs": [
    {
     "name": "stdout",
     "output_type": "stream",
     "text": [
      "train size == 1728.\n",
      "test size == 432.\n",
      "train shape == (1728, 4).\n",
      "test shape == (432, 4).\n"
     ]
    }
   ],
   "source": [
    "import math\n",
    "train_split = 0.8\n",
    "Data = df_eth.values #converting numpy array\n",
    "train_data_size = math.ceil(len(Data)*train_split)\n",
    "test_data_size = len(df_eth) - train_data_size\n",
    "print('train size == {}.'.format(train_data_size))\n",
    "print('test size == {}.'.format(test_data_size))\n",
    "# split the actual dataframe in train/test set\n",
    "train, test = df_eth[0:train_data_size], df_eth[train_data_size:len(df_eth)]\n",
    "print('train shape == {}.'.format(train.shape))\n",
    "print('test shape == {}.'.format(test.shape))"
   ]
  },
  {
   "cell_type": "code",
   "execution_count": 11,
   "metadata": {},
   "outputs": [
    {
     "name": "stdout",
     "output_type": "stream",
     "text": [
      "training scaled data shape == (1728, 4).\n",
      "testing scaled data shape == (456, 4).\n"
     ]
    }
   ],
   "source": [
    "from sklearn.preprocessing import StandardScaler\n",
    "scaler = StandardScaler()\n",
    "training_scaled_data = scaler.fit_transform(train)\n",
    "print('training scaled data shape == {}.'.format(training_scaled_data.shape))\n",
    "look_back_train_data = train.tail(n_time_steps) #look back n_time_steps\n",
    "testing_data = look_back_train_data.append(test)\n",
    "scaler_test = StandardScaler()\n",
    "testing_scaled_data = scaler_test.fit_transform(testing_data)\n",
    "scaler_test_predict = StandardScaler()\n",
    "scaler_test_predict.fit_transform(testing_data.iloc[:, 0:1])\n",
    "print('testing scaled data shape == {}.'.format(testing_scaled_data.shape))"
   ]
  },
  {
   "cell_type": "code",
   "execution_count": 20,
   "metadata": {},
   "outputs": [
    {
     "name": "stdout",
     "output_type": "stream",
     "text": [
      "X_train shape == (1704, 24, 4).\n",
      "y_train shape == (1704, 4).\n",
      "X_test shape == (432, 24, 4).\n",
      "y_test shape == (432, 4).\n"
     ]
    }
   ],
   "source": [
    "def split_sequences_multivariate_output(sequences, n_steps):\n",
    "  import numpy as np\n",
    "  X, y = list(), list()\n",
    "  for i in range(len(sequences)):\n",
    "      # find the end of this pattern\n",
    "      end_ix = i + n_steps\n",
    "      # check if we are beyond the dataset\n",
    "      if end_ix > len(sequences)-1:\n",
    "          break\n",
    "      # gather input and output parts of the pattern\n",
    "      seq_x, seq_y = sequences[i:end_ix, :], sequences[end_ix, :]\n",
    "      X.append(seq_x)\n",
    "      y.append(seq_y)\n",
    "  return np.array(X), np.array(y)\n",
    "\n",
    "# convert into input/output\n",
    "X_train, y_train = split_sequences_multivariate_output(training_scaled_data, n_time_steps)\n",
    "X_test, y_test = split_sequences_multivariate_output(testing_scaled_data, n_time_steps)\n",
    "print('X_train shape == {}.'.format(X_train.shape))\n",
    "print('y_train shape == {}.'.format(y_train.shape))\n",
    "print('X_test shape == {}.'.format(X_test.shape))\n",
    "print('y_test shape == {}.'.format(y_test.shape))"
   ]
  },
  {
   "cell_type": "code",
   "execution_count": 21,
   "metadata": {},
   "outputs": [],
   "source": [
    "def train_keras_model(X_train, y_train, X_test, y_test, epochs, batch_size, shuffle=False):\n",
    "  from tensorflow.keras.models import Sequential\n",
    "  from tensorflow.keras.layers import LSTM, Dropout, Dense\n",
    "# Initializing the Neural Network based on LSTM\n",
    "  model = Sequential()  \n",
    "  model.add(LSTM(units=50,return_sequences=True,input_shape=(X_train.shape[1], X_train.shape[2])))\n",
    "  model.add(Dropout(0.25))\n",
    "  model.add(LSTM(units=50))\n",
    "  model.add(Dropout(0.25))\n",
    "  model.add(Dense(units=X_train.shape[2], activation='linear'))\n",
    "  model.compile(optimizer='adam',loss='mean_squared_error')\n",
    "  \n",
    "  history = model.fit(X_train, y_train, shuffle=shuffle, validation_data=(X_test, y_test), epochs=epochs, verbose=2, batch_size=batch_size).history\n",
    "  \n",
    "  return history, model"
   ]
  },
  {
   "cell_type": "code",
   "execution_count": 22,
   "metadata": {},
   "outputs": [
    {
     "name": "stdout",
     "output_type": "stream",
     "text": [
      "Epoch 1/30\n",
      "7/7 - 3s - loss: 0.7814 - val_loss: 0.4307\n",
      "Epoch 2/30\n",
      "7/7 - 0s - loss: 0.4769 - val_loss: 0.2370\n",
      "Epoch 3/30\n",
      "7/7 - 0s - loss: 0.3463 - val_loss: 0.1511\n",
      "Epoch 4/30\n",
      "7/7 - 0s - loss: 0.2693 - val_loss: 0.0990\n",
      "Epoch 5/30\n",
      "7/7 - 0s - loss: 0.2070 - val_loss: 0.0809\n",
      "Epoch 6/30\n",
      "7/7 - 0s - loss: 0.1763 - val_loss: 0.0729\n",
      "Epoch 7/30\n",
      "7/7 - 0s - loss: 0.1410 - val_loss: 0.0644\n",
      "Epoch 8/30\n",
      "7/7 - 0s - loss: 0.1199 - val_loss: 0.0582\n",
      "Epoch 9/30\n",
      "7/7 - 0s - loss: 0.1103 - val_loss: 0.0552\n",
      "Epoch 10/30\n",
      "7/7 - 0s - loss: 0.0954 - val_loss: 0.0540\n",
      "Epoch 11/30\n",
      "7/7 - 0s - loss: 0.0826 - val_loss: 0.0535\n",
      "Epoch 12/30\n",
      "7/7 - 0s - loss: 0.0758 - val_loss: 0.0540\n",
      "Epoch 13/30\n",
      "7/7 - 0s - loss: 0.0796 - val_loss: 0.0599\n",
      "Epoch 14/30\n",
      "7/7 - 0s - loss: 0.0882 - val_loss: 0.0531\n",
      "Epoch 15/30\n",
      "7/7 - 0s - loss: 0.0946 - val_loss: 0.0441\n",
      "Epoch 16/30\n",
      "7/7 - 0s - loss: 0.0716 - val_loss: 0.0489\n",
      "Epoch 17/30\n",
      "7/7 - 0s - loss: 0.0707 - val_loss: 0.0432\n",
      "Epoch 18/30\n",
      "7/7 - 0s - loss: 0.0614 - val_loss: 0.0450\n",
      "Epoch 19/30\n",
      "7/7 - 0s - loss: 0.0599 - val_loss: 0.0436\n",
      "Epoch 20/30\n",
      "7/7 - 0s - loss: 0.0658 - val_loss: 0.0416\n",
      "Epoch 21/30\n",
      "7/7 - 0s - loss: 0.0546 - val_loss: 0.0401\n",
      "Epoch 22/30\n",
      "7/7 - 0s - loss: 0.0539 - val_loss: 0.0388\n",
      "Epoch 23/30\n",
      "7/7 - 0s - loss: 0.0593 - val_loss: 0.0386\n",
      "Epoch 24/30\n",
      "7/7 - 0s - loss: 0.0540 - val_loss: 0.0361\n",
      "Epoch 25/30\n",
      "7/7 - 0s - loss: 0.0570 - val_loss: 0.0353\n",
      "Epoch 26/30\n",
      "7/7 - 0s - loss: 0.0460 - val_loss: 0.0353\n",
      "Epoch 27/30\n",
      "7/7 - 0s - loss: 0.0470 - val_loss: 0.0345\n",
      "Epoch 28/30\n",
      "7/7 - 0s - loss: 0.0502 - val_loss: 0.0332\n",
      "Epoch 29/30\n",
      "7/7 - 0s - loss: 0.0487 - val_loss: 0.0316\n",
      "Epoch 30/30\n",
      "7/7 - 0s - loss: 0.0465 - val_loss: 0.0316\n"
     ]
    }
   ],
   "source": [
    "# Fit model\n",
    "history, model = train_keras_model(X_train, y_train, X_test, y_test, epochs=30, batch_size=256, shuffle=False)"
   ]
  },
  {
   "cell_type": "code",
   "execution_count": 23,
   "metadata": {},
   "outputs": [],
   "source": [
    "import numpy as np \n",
    "\n",
    "# Perform predictions\n",
    "predictions_test = model.predict(X_test)\n",
    "# Inverse the predictions to original measurements\n",
    "y_pred_test = scaler_test_predict.inverse_transform(np.array(predictions_test)[:,0])\n",
    "y_actual_test = scaler_test_predict.inverse_transform(np.array(y_test)[:,0])"
   ]
  },
  {
   "cell_type": "code",
   "execution_count": 24,
   "metadata": {},
   "outputs": [],
   "source": [
    "y_test_serie = pd.DataFrame(y_actual_test, columns=[y_target]).set_index(testing_data[n_time_steps:].index)\n",
    "y_pred_serie = pd.DataFrame(y_pred_test, columns=[y_target]).set_index(testing_data[n_time_steps:].index)"
   ]
  },
  {
   "cell_type": "code",
   "execution_count": 26,
   "metadata": {},
   "outputs": [
    {
     "data": {
      "image/png": "[encoded data removed]",
      "text/plain": [
       "<Figure size 432x288 with 1 Axes>"
      ]
     },
     "metadata": {
      "needs_background": "light"
     },
     "output_type": "display_data"
    }
   ],
   "source": [
    "import matplotlib.pyplot as plt\n",
    "\n",
    "plt.plot(y_test_serie.index, y_test_serie[y_target], color='green', linewidth=2, label='Actual')\n",
    "plt.plot(y_pred_serie.index, y_pred_serie[y_target], color='red', linewidth=2, label='Testing predictions')\n",
    "plt.grid(which='major', color='#cccccc', alpha=0.5)\n",
    "plt.legend(shadow=True)\n",
    "plt.title('Testing predictions Vs Acutal')\n",
    "plt.xlabel('Timeline', fontsize=10)\n",
    "plt.ylabel('Value', fontsize=10)\n",
    "plt.xticks(rotation=45, fontsize=8)\n",
    "plt.show()"
   ]
  }
 ],
 "metadata": {
  "interpreter": {
   "hash": "8fac594bfae6525c0c41b4041d2d72effa188cc8ead05f81b1fab2bb098927fb"
  },
  "kernelspec": {
   "display_name": "Python 3.8.5 64-bit ('base': conda)",
   "name": "python3"
  },
  "language_info": {
   "codemirror_mode": {
    "name": "ipython",
    "version": 3
   },
   "file_extension": ".py",
   "mimetype": "text/x-python",
   "name": "python",
   "nbconvert_exporter": "python",
   "pygments_lexer": "ipython3",
   "version": "3.7.9"
  },
  "orig_nbformat": 4
 },
 "nbformat": 4,
 "nbformat_minor": 2
}
